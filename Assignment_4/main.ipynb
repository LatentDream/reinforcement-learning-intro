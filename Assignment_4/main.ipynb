{
  "cells": [
    {
      "cell_type": "markdown",
      "source": [
        "# **Assignment 4 -- Learning to use RL Hive library (140 Points Total)**"
      ],
      "metadata": {
        "id": "Nqs0Bc1Gzt08"
      }
    },
    {
      "cell_type": "markdown",
      "metadata": {
        "id": "WNdO45rrlObT"
      },
      "source": [
        "# Instructions"
      ]
    },
    {
      "cell_type": "markdown",
      "metadata": {
        "id": "om5VhzMDqsp8"
      },
      "source": [
        " \n",
        "\n",
        "\n",
        "\n",
        "\n",
        "* This is an individual assignment. You are not allowed to discuss the problems with other students.\n",
        "* Part of this assignment will be autograded by gradescope. You can use it as \n",
        "immediate feedback to improve your answers. You can resubmit as many times as you want.\n",
        "* All your solution, code, analysis, graphs, explanations should be done in this same notebook.\n",
        "* Please make sure to execute all the cells before you submit the notebook to the gradescope. You will not get points for the plots if they are not generated already.\n",
        "* If you have questions regarding the assignment, you can ask for clarifications in Piazza. You should use the corresponding tag for this assignment.\n",
        "* Please use the following branch of RLHive for your experiments: <https://github.com/chandar-lab/RLHive/tree/rl_class>\n",
        "\n",
        "\n",
        "\n",
        "This assignment has 4 parts. The goals of these parts are:\n",
        "\n",
        "* Question 1: Understand the usage of RL Hive library and run DQN on minigrid environment across multiple seeds, report observations/intuitions while varying replay buffer sizes in DQN.\n",
        "* Question 2: Run DQN on minigrid environment across multiple seeds, report observations/intuitions while varying target network update frequencies.\n",
        "* Question 3: Run DQN agent on minigrid environment across multiple seeds for varying values of update horizons, report observations/intuitions while observing performance changes.\n",
        "* Question 4: Run ablation studies on Rainbow algorithm to observe the contribution of each baseline component used in the algorithm. Report observations and intuitions regarding this observation.\n",
        "\n",
        "\n",
        "\n",
        "\n",
        "\n",
        "\n"
      ]
    },
    {
      "cell_type": "markdown",
      "metadata": {
        "id": "e-WlgAw0FDXF"
      },
      "source": [
        "#  Example -  Training DQN agent on Minigrid"
      ]
    },
    {
      "cell_type": "markdown",
      "metadata": {
        "id": "amrNQCUtqPRw"
      },
      "source": [
        "In RLHive, there are config samples for DQN agents, for different environment including, Atari, Gym, Hanabi, Marlgrid, Minatar, and Minigrid. \n",
        "\n",
        "In this tutorial, we are using a simple environment from Minigrid called `MiniGrid-Empty-5x5-v0` which is an empty room and the objective of the agent is to reach the green square. The reward provided to the agent on reaching the green square is penalized depending on how many steps it took to reach there.\n",
        "\n",
        "<!-- About the environment - We are using `MiniGrid-Empty-5x5-v0` environment which is an empty room and the objective of the agent is to reach the green sqare, the reward provided to the agent on reaching the green square is penalized and dependent on how many steps it took to reach there. -->\n",
        "\n",
        "<p align=\"center\">\n",
        "  <img src=\"data:image/png;base64,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\" width=\"400\" />\n",
        "</p>"
      ]
    },
    {
      "cell_type": "code",
      "execution_count": null,
      "metadata": {
        "id": "M4tPX0_QpbOB",
        "outputId": "2c3578c1-0427-427a-aee0-d44ba2cc74da",
        "colab": {
          "base_uri": "https://localhost:8080/"
        }
      },
      "outputs": [
        {
          "output_type": "stream",
          "name": "stdout",
          "text": [
            "Looking in indexes: https://pypi.org/simple, https://us-python.pkg.dev/colab-wheels/public/simple/\n",
            "Requirement already satisfied: opencv-python in /usr/local/lib/python3.8/dist-packages (4.6.0.66)\n",
            "Requirement already satisfied: numpy>=1.14.5 in /usr/local/lib/python3.8/dist-packages (from opencv-python) (1.21.6)\n"
          ]
        }
      ],
      "source": [
        "## used for updating config.yaml files \n",
        "!pip install ruamel.yaml &> /dev/null\n",
        "!pip install opencv-python\n",
        "!pip install git+https://github.com/chandar-lab/RLHive.git@rl_class &> /dev/null\n",
        "\n",
        "## change the gym version, because of breaking changes in gym 0.25\n",
        "!pip install gym==0.21.0 &> /dev/null\n",
        "!pip install pygame &> /dev/null"
      ]
    },
    {
      "cell_type": "code",
      "execution_count": null,
      "metadata": {
        "id": "-mO8egKztQkq"
      },
      "outputs": [],
      "source": [
        "!pip install gym_minigrid==1.0.2 &> /dev/null\n",
        "!wget https://www.dropbox.com/s/nyqx3v5atit9nex/configs.zip\n",
        "!unzip \"/content/configs.zip\" -d \"/content/\" "
      ]
    },
    {
      "cell_type": "markdown",
      "metadata": {
        "id": "MR3h0n3NxhD-"
      },
      "source": [
        "Now that we have installed RLHive library and the dependencies, we will now see how to run experiments using this library. There are several ways to run an experiment with RLHive. But, an important component that is requirerd to run an experiment on RLHive is the Config file. In the following exercises we provide the config files with certain configurations. These config files need to be used while running your experiments for this assignment. Please also refer to the Hive [documentation](https://rlhive.readthedocs.io/en/stable/index.html#) if you would like to learn more about the library"
      ]
    },
    {
      "cell_type": "markdown",
      "metadata": {
        "id": "Ao8lbOdC0RhW"
      },
      "source": [
        "A typical config file in RLHive looks is an YAML file and has the following structure:\n",
        "\n",
        "```\n",
        "agent:\n",
        "  name: DQNAgent\n",
        "  kwargs:\n",
        "    representation_net:\n",
        "      name: MLPNetwork\n",
        "      kwargs:\n",
        "        hidden_units: [256, 256]\n",
        "    discount_rate: .9\n",
        "    replay_buffer:\n",
        "      name: CircularReplayBuffer\n",
        "    reward_clip: 1.0\n",
        "```\n",
        "\n",
        "\n",
        "\n",
        "\n",
        "\n"
      ]
    },
    {
      "cell_type": "markdown",
      "metadata": {
        "id": "FgvqV5iF5gtc"
      },
      "source": [
        "<!-- Before we train the agent, first step is to install the environment dependencies.  -->\n",
        "<!-- ## Run RLHive\n",
        "The simplest way to run RLhive (for single agent) is enough to run:\n",
        "\n",
        " `hive_single_agent_loop -p PATH/TO/CONFIG_FILE`.  **😃**\n",
        " \n",
        " In this case, we can just simply use the ready config files for DQN agent and gyn environemnts:\n",
        "\n",
        " ` hive_single_agent_loop -p gym/dqn.yml`.\n",
        "\n",
        "By running this line, the learning curves of the agent have been shown in wandb in addition to the log files.   -->\n",
        "\n",
        "For our following experiments the files needed to run each experiment would be located in the following folder structure. Also the results from your experiments would be saved in the respective folder locations as well. Below, we have also shown an example of how to train a DQN agent using the config files along with certain modifyable parameters.\n",
        "```\n",
        "experiments \n",
        "|-- Q1 (Buffer Size)\n",
        "    |-- buffer_capacity_100\n",
        "    |-- buffer_capacity_10000\n",
        "    |-- buffer_capacity_100000 \n",
        "|-- Q2 (Target update Frequency)\n",
        "    |-- update_freq_1\n",
        "    |-- update_freq_100\n",
        "    |-- update_freq_1000\n",
        "    |-- update_freq_10000\n",
        "|-- Q3 (TD Update Horizon)\n",
        "    |-- n-step updates DQN\n",
        "        |-- n_step_1\n",
        "        |-- n_step_3\n",
        "        |-- n_step_10\n",
        "|-- Q4 (Ablation Studies)\n",
        "    |-- Rainbow\n",
        "        |-- Understand contribution of each baseline in Rainbow\n",
        "\n",
        "```\n",
        "\n",
        "\n",
        "\n",
        "\n"
      ]
    },
    {
      "cell_type": "code",
      "execution_count": null,
      "metadata": {
        "id": "O_Eo-dHxFNfc"
      },
      "outputs": [],
      "source": [
        "# # Training the DQN Agent\n",
        "# num_seeds=2\n",
        "# for idx in range(num_seeds):\n",
        "#   !hive_single_agent_loop --config  config.yml --run_name 'MiniGrid-FourRooms-v0-image-dqn-{idx}' --train_steps 50000  --agent.hidden_units [128, 128] --agent.epsilon_schedule.end_value 0.5 --save_dir 'experiment/minigrid_four_rooms_test'\n"
      ]
    },
    {
      "cell_type": "code",
      "execution_count": null,
      "metadata": {
        "id": "zk1xStYJhIJG"
      },
      "outputs": [],
      "source": [
        "# num_seeds=2\n",
        "# for idx in range(num_seeds):\n",
        "#   !hive_single_agent_loop --config  config.yml --run_name 'minigrid-empty-16x16-image-dqn-{idx}' --train_steps 50000  --agent.hidden_units [128, 128] --agent.epsilon_schedule.end_value 0.5 --save_dir 'experiment/minigrid16*16_test'\n"
      ]
    },
    {
      "cell_type": "markdown",
      "metadata": {
        "id": "Bi6WMj1ea6EG"
      },
      "source": [
        "Now, as you probably realised already, to use a DQN agent with different parameters or hyper-parameters, e.g. different layers with different sizes, adding or removing target network, different schedules for updating the target network, etc. all we need to do is to create the desired config file and change its parameters accordingly and then train the agent using this config.\n",
        "\n",
        "<!-- In the next step we can train this agent using the training loop of the class SingleAgentRunner.\n",
        "\n",
        "Now if we want to use another agent, all we need to do is to create another config file and change its parameters accordingly and then train the agent on this config using \n",
        "the `hive_single_agent_loop`. -->\n",
        "\n",
        "<!-- \n",
        "Now if we want to use another agent, all we need to do is to override the name of the agent field while runnning `hive_single_agent_loop`. Example if we want to replace the DQNAgent by the Rainbow agent, we can do this by executing the following line: -->\n"
      ]
    },
    {
      "cell_type": "markdown",
      "metadata": {
        "id": "rpCl0jj8VSS5"
      },
      "source": [
        "Moreover, in order to see the results for the ChompLogger(name of logger used by RLHive), you will need to plot your own plots using the log files that are generated in the experiment folder. Below, we provide the code to create this visualization:"
      ]
    },
    {
      "cell_type": "code",
      "execution_count": null,
      "metadata": {
        "id": "nGFjHJK6VYNB"
      },
      "outputs": [],
      "source": [
        "# from hive.utils import visualization\n",
        "\n",
        "# visualization.plot_results(\n",
        "#     experiments_folder='experiment',\n",
        "#     runs_folders=['minigrid_four_rooms_test'],\n",
        "#     x_key='train',\n",
        "#     y_key='train/full_episode_length',rc_params={},\n",
        "#     smoothing_fn=visualization.get_smoothing_fn('exponential', {\"smoothing\": 0.3}),\n",
        "#     output_file='minigrid_four_room_test.png'\n",
        "# )"
      ]
    },
    {
      "cell_type": "code",
      "execution_count": null,
      "metadata": {
        "id": "5a5WQDJj31d6"
      },
      "outputs": [],
      "source": [
        "# visualization.plot_results(experiments_folder='experiment',\n",
        "#     runs_folders=['minigrid_four_rooms_test'],\n",
        "#     run_names=['test 0'],\n",
        "#     x_key='train',\n",
        "#     y_key='train/0_reward',rc_params={},\n",
        "#     smoothing_fn=visualization.get_smoothing_fn('exponential', {\"smoothing\":0.3}),\n",
        "#     output_file='minigrid_reward_test.png')"
      ]
    },
    {
      "cell_type": "markdown",
      "source": [
        "Note that sometimes we have plots with high variance in RL. So they tend to be noisy. For clarity in visualizations, we typically smooth the plots usingg some smoothing functions (as shown in the code above). Here we have used smoothing with exponential function. We recommend using the same for all visualizations in this assignment The code snippets shown above are commented out intentionally. Please DO NOT run these, it is just for demonstration purposes."
      ],
      "metadata": {
        "id": "u06gfgKttam2"
      }
    },
    {
      "cell_type": "markdown",
      "source": [
        "**IMPORTANT NOTE:** We are providing logs with some information while the training happens. The default frequency is every 100 steps of training but it could be modified by setting the test_frequency to a higher number like 2000 or 10000 (for eg. `test_frequency = 10000`) if you do not want too much information."
      ],
      "metadata": {
        "id": "kJMWrJrMt_PD"
      }
    },
    {
      "cell_type": "markdown",
      "metadata": {
        "id": "Z6WTu1J7-vUb"
      },
      "source": [
        "# Q1: DQN w/ Varying Buffer Sizes (25 Pts Total)\n",
        "\n",
        "---\n",
        "\n"
      ]
    },
    {
      "cell_type": "markdown",
      "metadata": {
        "id": "0cLN4u4i_2z3"
      },
      "source": [
        "**Quick Intro to DQN:** The DQN (Deep Q-Network) algorithm was developed by DeepMind in 2015. It was able to solve a wide range of Atari games (some to superhuman level) by combining reinforcement learning and deep neural networks at scale. The algorithm was developed by enhancing a classic RL algorithm called Q-Learning with deep neural networks and a technique called experience replay. It is impractical to represent the Q-function as a table containing values for each combination of state and actions as in Tabular Q-Learning . Instead, we train a function approximator, such as a neural network with parameters , to estimate the Q-values in DQN."
      ]
    },
    {
      "cell_type": "markdown",
      "metadata": {
        "id": "s0i-jQKaAC4v"
      },
      "source": [
        "A Key component of DQN style algorithms is that, they maintain a buffer of past experiences and sample from this so called 'Replay Buffer' to make updates. In this section of experiments, we will vary the size of this Replay Bufffer and observe the differences in algorithms performance. "
      ]
    },
    {
      "cell_type": "markdown",
      "source": [
        "## Experiments (15 Pts)\n",
        "\n",
        "As shown in the example section, you will need to fill in the few lines of code below to run these experiments. You will be writing the code to run these experiments for 3 different random seeds and for different values of the parameter of interest.\n",
        "\n",
        "In the section below, we will vary the replay buffer capacity of DQN. Use the DQN config file that was downloaded earlier along with the following parameters as inputs:\n",
        "*   Train steps: 50000\n",
        "*   Replay Buffer Capacity: {100, 10000, 100000}\n",
        "*   Env: 'MiniGrid-Empty-5x5-v0'\n",
        "*   Save results directory: experiment/buffer_size/\n",
        "*   Use exponential smooothing function in the visualization (argument to plot_results)\n",
        "\n",
        "Results should be saved along with the replay buffer capacity values in different folders for ease of visualizing results (For eg. \"experiment/buffer_size/minigrid5*5_100_test/\" where, 100 refers to the capacity of the replay buffer)"
      ],
      "metadata": {
        "id": "iTqSKVkbfmKL"
      }
    },
    {
      "cell_type": "markdown",
      "source": [
        "**IMPORTANT** In order to avoid losing progress if Google Colab runtime disconnects, we will save the generated images to your google drives respectively. So we wil mount the drives to the colab workspace. In order to do that, you need to give access to your google drive storage after running the commands below. Moreover by doing this, we will also make sure you do not have to run the experiments again if your runtime disconnects after one section of experiments finish."
      ],
      "metadata": {
        "id": "z-Ktz8Ns21UB"
      }
    },
    {
      "cell_type": "code",
      "source": [
        "import cv2\n",
        "from google.colab import drive\n",
        "import os\n",
        "from IPython.display import Image\n",
        "drive.mount(\"/content/drive\", force_remount=True)\n",
        "path = \"/content/drive/My Drive/RL_assign4/\"\n",
        "try:\n",
        "  os.mkdir(path)\n",
        "except:\n",
        "  print(\"path exists\")"
      ],
      "metadata": {
        "id": "4fHAqwXVCPPa"
      },
      "execution_count": null,
      "outputs": []
    },
    {
      "cell_type": "code",
      "source": [
        "capacities =[100, 10000, 100000]"
      ],
      "metadata": {
        "id": "-wpjm7m8b64w"
      },
      "execution_count": 8,
      "outputs": []
    },
    {
      "cell_type": "code",
      "execution_count": null,
      "metadata": {
        "id": "T4PJztg9CMo3",
        "outputId": "458e4c4c-cd3c-41d7-e70b-4a3012656f82",
        "colab": {
          "base_uri": "https://localhost:8080/"
        }
      },
      "outputs": [
        {
          "output_type": "stream",
          "name": "stdout",
          "text": [
            "[INFO 2022-12-02 22:17:34,539 torch_utils.py:221] Registered PyTorch optimizers.\n",
            "[INFO 2022-12-02 22:17:34,540 torch_utils.py:257] Registered PyTorch optimizers.\n",
            "[INFO 2022-12-02 22:17:34,541 utils.py:151] Registered PyTorch initialization functions.\n",
            "[INFO 2022-12-02 22:17:34,542 __init__.py:20] Registered function approximators.\n",
            "[INFO 2022-12-02 22:17:34,653 __init__.py:21] Registered replays.\n",
            "[INFO 2022-12-02 22:17:35,272 schedule.py:204] Registered schedules.\n",
            "[INFO 2022-12-02 22:17:35,272 loggers.py:454] Registered loggers.\n",
            "[INFO 2022-12-02 22:17:35,275 __init__.py:27] Registered agents.\n",
            "[INFO 2022-12-02 22:17:35,290 __init__.py:40] Registered environments.\n",
            "[INFO 2022-12-02 22:17:41,386 single_agent_loop.py:210] Using config: \n",
            "{'agent': {'kwargs': {'batch_size': 256,\n",
            "                      'device': 'cuda',\n",
            "                      'discount_rate': 0.9,\n",
            "                      'epsilon_schedule': {'kwargs': {'end_value': 0.5,\n",
            "                                                      'init_value': 1,\n",
            "                                                      'steps': 25000},\n",
            "                                           'name': 'LinearSchedule'},\n",
            "                      'log_frequency': 100,\n",
            "                      'min_replay_history': 1000,\n",
            "                      'optimizer_fn': {'kwargs': {'lr': 0.001}, 'name': 'Adam'},\n",
            "                      'replay_buffer': {'kwargs': {'capacity': 100},\n",
            "                                        'name': 'CircularReplayBuffer'},\n",
            "                      'representation_net': {'kwargs': {'hidden_units': [256,\n",
            "                                                                         256]},\n",
            "                                             'name': 'MLPNetwork'},\n",
            "                      'target_net_update_schedule': {'kwargs': {'off_value': False,\n",
            "                                                                'on_value': True,\n",
            "                                                                'period': 5000},\n",
            "                                                     'name': 'PeriodicSchedule'}},\n",
            "           'name': 'DQNAgent'},\n",
            " 'environment': {'kwargs': {'env_name': 'MiniGrid-Empty-5x5-v0',\n",
            "                            'flattened_obs': True,\n",
            "                            'rgb_obs': False},\n",
            "                 'name': 'MiniGridEnv'},\n",
            " 'loggers': {'kwargs': {'logger_list': [{'kwargs': {}, 'name': 'ChompLogger'}]},\n",
            "             'name': 'CompositeLogger'},\n",
            " 'max_steps_per_episode': 1000,\n",
            " 'run_name': 'MiniGrid-Empty-5x5-v0-image-dqn-0',\n",
            " 'save_dir': '/content/drive/My '\n",
            "             'Drive/RL_assign4/experiment/buffer_size/minigrid5*5_{var}_test/',\n",
            " 'saving_schedule': {'kwargs': {'off_value': False,\n",
            "                                'on_value': True,\n",
            "                                'period': 10000},\n",
            "                     'name': 'PeriodicSchedule'},\n",
            " 'stack_size': 1,\n",
            " 'test_episodes': 10,\n",
            " 'test_frequency': 200,\n",
            " 'train_steps': 50000}\n",
            "[INFO 2022-12-02 22:17:41,386 single_agent_loop.py:213] Created runner. Starting run!\n",
            "[INFO 2022-12-02 22:17:44,389 base.py:144] 208/50000 training steps completed.\n",
            "[INFO 2022-12-02 22:17:44,389 base.py:148] Running testing.\n",
            "[INFO 2022-12-02 22:17:44,997 base.py:153] Testing results: {'0_episode_length': 100.0, '0_reward': 0.0, 'full_episode_length': 100.0}\n",
            "[INFO 2022-12-02 22:17:45,149 base.py:144] 408/50000 training steps completed.\n",
            "[INFO 2022-12-02 22:17:45,149 base.py:148] Running testing.\n",
            "[INFO 2022-12-02 22:17:45,759 base.py:153] Testing results: {'0_episode_length': 100.0, '0_reward': 0.0, 'full_episode_length': 100.0}\n",
            "[INFO 2022-12-02 22:17:45,896 base.py:144] 600/50000 training steps completed.\n",
            "[INFO 2022-12-02 22:17:45,896 base.py:148] Running testing.\n",
            "[INFO 2022-12-02 22:17:46,500 base.py:153] Testing results: {'0_episode_length': 100.0, '0_reward': 0.0, 'full_episode_length': 100.0}\n",
            "[INFO 2022-12-02 22:17:46,654 base.py:144] 800/50000 training steps completed.\n",
            "[INFO 2022-12-02 22:17:46,654 base.py:148] Running testing.\n",
            "[INFO 2022-12-02 22:17:47,266 base.py:153] Testing results: {'0_episode_length': 100.0, '0_reward': 0.0, 'full_episode_length': 100.0}\n",
            "[INFO 2022-12-02 22:17:47,779 base.py:144] 1073/50000 training steps completed.\n",
            "[INFO 2022-12-02 22:17:47,779 base.py:148] Running testing.\n",
            "[INFO 2022-12-02 22:17:48,368 base.py:153] Testing results: {'0_episode_length': 100.0, '0_reward': 0.0, 'full_episode_length': 100.0}\n",
            "[INFO 2022-12-02 22:17:49,123 base.py:144] 1273/50000 training steps completed.\n",
            "[INFO 2022-12-02 22:17:49,123 base.py:148] Running testing.\n",
            "[INFO 2022-12-02 22:17:49,790 base.py:153] Testing results: {'0_episode_length': 100.0, '0_reward': 0.0, 'full_episode_length': 100.0}\n",
            "[INFO 2022-12-02 22:17:50,496 base.py:144] 1467/50000 training steps completed.\n",
            "[INFO 2022-12-02 22:17:50,496 base.py:148] Running testing.\n",
            "[INFO 2022-12-02 22:17:51,215 base.py:153] Testing results: {'0_episode_length': 100.0, '0_reward': 0.0, 'full_episode_length': 100.0}\n",
            "[INFO 2022-12-02 22:17:51,940 base.py:144] 1667/50000 training steps completed.\n",
            "[INFO 2022-12-02 22:17:51,940 base.py:148] Running testing.\n",
            "[INFO 2022-12-02 22:17:52,589 base.py:153] Testing results: {'0_episode_length': 100.0, '0_reward': 0.0, 'full_episode_length': 100.0}\n",
            "[INFO 2022-12-02 22:17:53,243 base.py:144] 1845/50000 training steps completed.\n",
            "[INFO 2022-12-02 22:17:53,243 base.py:148] Running testing.\n",
            "[INFO 2022-12-02 22:17:53,985 base.py:153] Testing results: {'0_episode_length': 100.0, '0_reward': 0.0, 'full_episode_length': 100.0}\n",
            "[INFO 2022-12-02 22:17:54,873 base.py:144] 2090/50000 training steps completed.\n",
            "[INFO 2022-12-02 22:17:54,873 base.py:148] Running testing.\n",
            "[INFO 2022-12-02 22:17:55,598 base.py:153] Testing results: {'0_episode_length': 100.0, '0_reward': 0.0, 'full_episode_length': 100.0}\n",
            "[INFO 2022-12-02 22:17:56,236 base.py:144] 2263/50000 training steps completed.\n",
            "[INFO 2022-12-02 22:17:56,236 base.py:148] Running testing.\n",
            "[INFO 2022-12-02 22:17:56,952 base.py:153] Testing results: {'0_episode_length': 100.0, '0_reward': 0.0, 'full_episode_length': 100.0}\n",
            "[INFO 2022-12-02 22:17:57,684 base.py:144] 2463/50000 training steps completed.\n",
            "[INFO 2022-12-02 22:17:57,684 base.py:148] Running testing.\n",
            "[INFO 2022-12-02 22:17:58,312 base.py:153] Testing results: {'0_episode_length': 100.0, '0_reward': 0.0, 'full_episode_length': 100.0}\n",
            "[INFO 2022-12-02 22:17:59,044 base.py:144] 2663/50000 training steps completed.\n",
            "[INFO 2022-12-02 22:17:59,044 base.py:148] Running testing.\n",
            "[INFO 2022-12-02 22:17:59,738 base.py:153] Testing results: {'0_episode_length': 100.0, '0_reward': 0.0, 'full_episode_length': 100.0}\n",
            "[INFO 2022-12-02 22:18:00,524 base.py:144] 2883/50000 training steps completed.\n",
            "[INFO 2022-12-02 22:18:00,524 base.py:148] Running testing.\n",
            "[INFO 2022-12-02 22:18:01,164 base.py:153] Testing results: {'0_episode_length': 100.0, '0_reward': 0.0, 'full_episode_length': 100.0}\n",
            "[INFO 2022-12-02 22:18:01,887 base.py:144] 3083/50000 training steps completed.\n",
            "[INFO 2022-12-02 22:18:01,887 base.py:148] Running testing.\n",
            "[INFO 2022-12-02 22:18:02,573 base.py:153] Testing results: {'0_episode_length': 100.0, '0_reward': 0.0, 'full_episode_length': 100.0}\n",
            "[INFO 2022-12-02 22:18:03,064 base.py:144] 3216/50000 training steps completed.\n",
            "[INFO 2022-12-02 22:18:03,065 base.py:148] Running testing.\n",
            "[INFO 2022-12-02 22:18:03,655 base.py:153] Testing results: {'0_episode_length': 100.0, '0_reward': 0.0, 'full_episode_length': 100.0}\n",
            "[INFO 2022-12-02 22:18:04,356 base.py:144] 3409/50000 training steps completed.\n",
            "[INFO 2022-12-02 22:18:04,357 base.py:148] Running testing.\n",
            "[INFO 2022-12-02 22:18:05,079 base.py:153] Testing results: {'0_episode_length': 100.0, '0_reward': 0.0, 'full_episode_length': 100.0}\n",
            "[INFO 2022-12-02 22:18:06,112 base.py:144] 3694/50000 training steps completed.\n",
            "[INFO 2022-12-02 22:18:06,112 base.py:148] Running testing.\n",
            "[INFO 2022-12-02 22:18:06,707 base.py:153] Testing results: {'0_episode_length': 100.0, '0_reward': 0.0, 'full_episode_length': 100.0}\n",
            "[INFO 2022-12-02 22:18:07,118 base.py:144] 3807/50000 training steps completed.\n",
            "[INFO 2022-12-02 22:18:07,118 base.py:148] Running testing.\n",
            "[INFO 2022-12-02 22:18:07,824 base.py:153] Testing results: {'0_episode_length': 100.0, '0_reward': 0.0, 'full_episode_length': 100.0}\n",
            "[INFO 2022-12-02 22:18:08,782 base.py:144] 4074/50000 training steps completed.\n",
            "[INFO 2022-12-02 22:18:08,782 base.py:148] Running testing.\n",
            "[INFO 2022-12-02 22:18:09,504 base.py:153] Testing results: {'0_episode_length': 100.0, '0_reward': 0.0, 'full_episode_length': 100.0}\n",
            "[INFO 2022-12-02 22:18:10,202 base.py:144] 4268/50000 training steps completed.\n",
            "[INFO 2022-12-02 22:18:10,202 base.py:148] Running testing.\n",
            "[INFO 2022-12-02 22:18:10,840 base.py:153] Testing results: {'0_episode_length': 100.0, '0_reward': 0.0, 'full_episode_length': 100.0}\n",
            "[INFO 2022-12-02 22:18:11,461 base.py:144] 4441/50000 training steps completed.\n",
            "[INFO 2022-12-02 22:18:11,461 base.py:148] Running testing.\n",
            "[INFO 2022-12-02 22:18:12,116 base.py:153] Testing results: {'0_episode_length': 100.0, '0_reward': 0.0, 'full_episode_length': 100.0}\n",
            "[INFO 2022-12-02 22:18:12,755 base.py:144] 4621/50000 training steps completed.\n",
            "[INFO 2022-12-02 22:18:12,755 base.py:148] Running testing.\n",
            "[INFO 2022-12-02 22:18:13,378 base.py:153] Testing results: {'0_episode_length': 100.0, '0_reward': 0.0, 'full_episode_length': 100.0}\n",
            "[INFO 2022-12-02 22:18:14,100 base.py:144] 4821/50000 training steps completed.\n",
            "[INFO 2022-12-02 22:18:14,100 base.py:148] Running testing.\n",
            "[INFO 2022-12-02 22:18:14,812 base.py:153] Testing results: {'0_episode_length': 100.0, '0_reward': 0.0, 'full_episode_length': 100.0}\n",
            "[INFO 2022-12-02 22:18:15,675 base.py:144] 5059/50000 training steps completed.\n",
            "[INFO 2022-12-02 22:18:15,675 base.py:148] Running testing.\n",
            "[INFO 2022-12-02 22:18:16,339 base.py:153] Testing results: {'0_episode_length': 100.0, '0_reward': 0.0, 'full_episode_length': 100.0}\n",
            "[INFO 2022-12-02 22:18:17,124 base.py:144] 5278/50000 training steps completed.\n",
            "[INFO 2022-12-02 22:18:17,124 base.py:148] Running testing.\n",
            "[INFO 2022-12-02 22:18:17,728 base.py:153] Testing results: {'0_episode_length': 100.0, '0_reward': 0.0, 'full_episode_length': 100.0}\n",
            "[INFO 2022-12-02 22:18:18,448 base.py:144] 5478/50000 training steps completed.\n",
            "[INFO 2022-12-02 22:18:18,448 base.py:148] Running testing.\n",
            "[INFO 2022-12-02 22:18:19,148 base.py:153] Testing results: {'0_episode_length': 100.0, '0_reward': 0.0, 'full_episode_length': 100.0}\n",
            "[INFO 2022-12-02 22:18:19,647 base.py:144] 5613/50000 training steps completed.\n",
            "[INFO 2022-12-02 22:18:19,647 base.py:148] Running testing.\n",
            "[INFO 2022-12-02 22:18:20,340 base.py:153] Testing results: {'0_episode_length': 100.0, '0_reward': 0.0, 'full_episode_length': 100.0}\n",
            "[INFO 2022-12-02 22:18:21,029 base.py:144] 5811/50000 training steps completed.\n",
            "[INFO 2022-12-02 22:18:21,029 base.py:148] Running testing.\n",
            "[INFO 2022-12-02 22:18:21,744 base.py:153] Testing results: {'0_episode_length': 100.0, '0_reward': 0.0, 'full_episode_length': 100.0}\n",
            "[INFO 2022-12-02 22:18:22,455 base.py:144] 6011/50000 training steps completed.\n",
            "[INFO 2022-12-02 22:18:22,455 base.py:148] Running testing.\n",
            "[INFO 2022-12-02 22:18:23,152 base.py:153] Testing results: {'0_episode_length': 100.0, '0_reward': 0.0, 'full_episode_length': 100.0}\n",
            "[INFO 2022-12-02 22:18:24,097 base.py:144] 6211/50000 training steps completed.\n",
            "[INFO 2022-12-02 22:18:24,097 base.py:148] Running testing.\n",
            "[INFO 2022-12-02 22:18:25,058 base.py:153] Testing results: {'0_episode_length': 100.0, '0_reward': 0.0, 'full_episode_length': 100.0}\n",
            "[INFO 2022-12-02 22:18:26,044 base.py:144] 6414/50000 training steps completed.\n",
            "[INFO 2022-12-02 22:18:26,044 base.py:148] Running testing.\n",
            "[INFO 2022-12-02 22:18:26,642 base.py:153] Testing results: {'0_episode_length': 100.0, '0_reward': 0.0, 'full_episode_length': 100.0}\n",
            "[INFO 2022-12-02 22:18:27,335 base.py:144] 6608/50000 training steps completed.\n",
            "[INFO 2022-12-02 22:18:27,335 base.py:148] Running testing.\n",
            "[INFO 2022-12-02 22:18:27,986 base.py:153] Testing results: {'0_episode_length': 100.0, '0_reward': 0.0, 'full_episode_length': 100.0}\n",
            "[INFO 2022-12-02 22:18:28,710 base.py:144] 6808/50000 training steps completed.\n",
            "[INFO 2022-12-02 22:18:28,710 base.py:148] Running testing.\n",
            "[INFO 2022-12-02 22:18:29,296 base.py:153] Testing results: {'0_episode_length': 100.0, '0_reward': 0.0, 'full_episode_length': 100.0}\n",
            "[INFO 2022-12-02 22:18:30,268 base.py:144] 7075/50000 training steps completed.\n",
            "[INFO 2022-12-02 22:18:30,268 base.py:148] Running testing.\n",
            "[INFO 2022-12-02 22:18:30,881 base.py:153] Testing results: {'0_episode_length': 100.0, '0_reward': 0.0, 'full_episode_length': 100.0}\n",
            "[INFO 2022-12-02 22:18:31,324 base.py:144] 7200/50000 training steps completed.\n",
            "[INFO 2022-12-02 22:18:31,324 base.py:148] Running testing.\n",
            "[INFO 2022-12-02 22:18:31,932 base.py:153] Testing results: {'0_episode_length': 100.0, '0_reward': 0.0, 'full_episode_length': 100.0}\n",
            "[INFO 2022-12-02 22:18:32,868 base.py:144] 7445/50000 training steps completed.\n",
            "[INFO 2022-12-02 22:18:32,868 base.py:148] Running testing.\n",
            "[INFO 2022-12-02 22:18:33,466 base.py:153] Testing results: {'0_episode_length': 100.0, '0_reward': 0.0, 'full_episode_length': 100.0}\n",
            "[INFO 2022-12-02 22:18:34,201 base.py:144] 7645/50000 training steps completed.\n",
            "[INFO 2022-12-02 22:18:34,201 base.py:148] Running testing.\n",
            "[INFO 2022-12-02 22:18:34,914 base.py:153] Testing results: {'0_episode_length': 100.0, '0_reward': 0.0, 'full_episode_length': 100.0}\n",
            "[INFO 2022-12-02 22:18:35,653 base.py:144] 7845/50000 training steps completed.\n",
            "[INFO 2022-12-02 22:18:35,653 base.py:148] Running testing.\n",
            "[INFO 2022-12-02 22:18:36,253 base.py:153] Testing results: {'0_episode_length': 100.0, '0_reward': 0.0, 'full_episode_length': 100.0}\n",
            "[INFO 2022-12-02 22:18:36,963 base.py:144] 8041/50000 training steps completed.\n",
            "[INFO 2022-12-02 22:18:36,963 base.py:148] Running testing.\n",
            "[INFO 2022-12-02 22:18:37,568 base.py:153] Testing results: {'0_episode_length': 100.0, '0_reward': 0.0, 'full_episode_length': 100.0}\n",
            "[INFO 2022-12-02 22:18:38,180 base.py:144] 8211/50000 training steps completed.\n",
            "[INFO 2022-12-02 22:18:38,180 base.py:148] Running testing.\n",
            "[INFO 2022-12-02 22:18:38,891 base.py:153] Testing results: {'0_episode_length': 100.0, '0_reward': 0.0, 'full_episode_length': 100.0}\n",
            "[INFO 2022-12-02 22:18:39,625 base.py:144] 8411/50000 training steps completed.\n",
            "[INFO 2022-12-02 22:18:39,625 base.py:148] Running testing.\n",
            "[INFO 2022-12-02 22:18:40,247 base.py:153] Testing results: {'0_episode_length': 100.0, '0_reward': 0.0, 'full_episode_length': 100.0}\n",
            "[INFO 2022-12-02 22:18:40,966 base.py:144] 8611/50000 training steps completed.\n",
            "[INFO 2022-12-02 22:18:40,966 base.py:148] Running testing.\n",
            "[INFO 2022-12-02 22:18:41,663 base.py:153] Testing results: {'0_episode_length': 100.0, '0_reward': 0.0, 'full_episode_length': 100.0}\n",
            "[INFO 2022-12-02 22:18:42,589 base.py:144] 8864/50000 training steps completed.\n",
            "[INFO 2022-12-02 22:18:42,589 base.py:148] Running testing.\n",
            "[INFO 2022-12-02 22:18:43,255 base.py:153] Testing results: {'0_episode_length': 100.0, '0_reward': 0.0, 'full_episode_length': 100.0}\n",
            "[INFO 2022-12-02 22:18:43,987 base.py:144] 9064/50000 training steps completed.\n",
            "[INFO 2022-12-02 22:18:43,987 base.py:148] Running testing.\n",
            "[INFO 2022-12-02 22:18:44,687 base.py:153] Testing results: {'0_episode_length': 100.0, '0_reward': 0.0, 'full_episode_length': 100.0}\n",
            "[INFO 2022-12-02 22:18:45,416 base.py:144] 9264/50000 training steps completed.\n",
            "[INFO 2022-12-02 22:18:45,416 base.py:148] Running testing.\n",
            "[INFO 2022-12-02 22:18:46,028 base.py:153] Testing results: {'0_episode_length': 100.0, '0_reward': 0.0, 'full_episode_length': 100.0}\n",
            "[INFO 2022-12-02 22:18:46,701 base.py:144] 9449/50000 training steps completed.\n",
            "[INFO 2022-12-02 22:18:46,701 base.py:148] Running testing.\n",
            "[INFO 2022-12-02 22:18:47,420 base.py:153] Testing results: {'0_episode_length': 100.0, '0_reward': 0.0, 'full_episode_length': 100.0}\n",
            "[INFO 2022-12-02 22:18:48,152 base.py:144] 9649/50000 training steps completed.\n",
            "[INFO 2022-12-02 22:18:48,152 base.py:148] Running testing.\n",
            "[INFO 2022-12-02 22:18:48,759 base.py:153] Testing results: {'0_episode_length': 100.0, '0_reward': 0.0, 'full_episode_length': 100.0}\n",
            "[INFO 2022-12-02 22:18:49,490 base.py:144] 9849/50000 training steps completed.\n",
            "[INFO 2022-12-02 22:18:49,490 base.py:148] Running testing.\n",
            "[INFO 2022-12-02 22:18:50,157 base.py:153] Testing results: {'0_episode_length': 100.0, '0_reward': 0.0, 'full_episode_length': 100.0}\n",
            "[INFO 2022-12-02 22:18:50,729 base.py:144] 10008/50000 training steps completed.\n",
            "[INFO 2022-12-02 22:18:50,729 base.py:148] Running testing.\n",
            "[INFO 2022-12-02 22:18:51,396 base.py:153] Testing results: {'0_episode_length': 100.0, '0_reward': 0.0, 'full_episode_length': 100.0}\n",
            "[INFO 2022-12-02 22:18:51,396 base.py:157] Saving run.\n",
            "[INFO 2022-12-02 22:18:51,399 experiment.py:82] Saving the experiment at /content/drive/My Drive/RL_assign4/experiment/buffer_size/minigrid5*5_{var}_test/MiniGrid-Empty-5x5-v0-image-dqn-0/current\n",
            "[INFO 2022-12-02 22:18:52,247 base.py:144] 10210/50000 training steps completed.\n",
            "[INFO 2022-12-02 22:18:52,247 base.py:148] Running testing.\n",
            "[INFO 2022-12-02 22:18:52,952 base.py:153] Testing results: {'0_episode_length': 100.0, '0_reward': 0.0, 'full_episode_length': 100.0}\n",
            "[INFO 2022-12-02 22:18:53,694 base.py:144] 10415/50000 training steps completed.\n",
            "[INFO 2022-12-02 22:18:53,694 base.py:148] Running testing.\n",
            "[INFO 2022-12-02 22:18:54,414 base.py:153] Testing results: {'0_episode_length': 100.0, '0_reward': 0.0, 'full_episode_length': 100.0}\n",
            "[INFO 2022-12-02 22:18:55,140 base.py:144] 10615/50000 training steps completed.\n",
            "[INFO 2022-12-02 22:18:55,140 base.py:148] Running testing.\n",
            "[INFO 2022-12-02 22:18:55,847 base.py:153] Testing results: {'0_episode_length': 100.0, '0_reward': 0.0, 'full_episode_length': 100.0}\n",
            "[INFO 2022-12-02 22:18:56,815 base.py:144] 10885/50000 training steps completed.\n",
            "[INFO 2022-12-02 22:18:56,815 base.py:148] Running testing.\n",
            "[INFO 2022-12-02 22:18:57,538 base.py:153] Testing results: {'0_episode_length': 100.0, '0_reward': 0.0, 'full_episode_length': 100.0}\n",
            "[INFO 2022-12-02 22:18:58,125 base.py:144] 11051/50000 training steps completed.\n",
            "[INFO 2022-12-02 22:18:58,125 base.py:148] Running testing.\n"
          ]
        }
      ],
      "source": [
        "# CODE TO RUN YOUR EXPERIMENTS-----\n",
        "# BEGIN SOLUTION\n",
        "num_seeds=3\n",
        "\n",
        "env = 'MiniGrid-Empty-5x5-v0'\n",
        "save_dir = path+'experiment/buffer_size/minigrid5*5_{var}_test/'\n",
        "training_steps = 50000\n",
        "\n",
        "for idx in range(num_seeds):\n",
        "    for var in capacities:\n",
        "        !hive_single_agent_loop --config  configs/config_dqn.yml --run_name '{env}-image-dqn-{idx}' --train_steps '{training_steps}' --agent.replay_buffer.capacity '{var}' --environment.env_name '{env}' --save_dir '{save_dir}'\n",
        "\n",
        "\n",
        "# END SOLUTION\n",
        "# ---------------------------------"
      ]
    },
    {
      "cell_type": "code",
      "execution_count": null,
      "metadata": {
        "id": "qToWaTdMUtZ6"
      },
      "outputs": [],
      "source": [
        "# CODE FOR VISUALIZATIONS (PLOTTING THE EPISODE LENGTH TREND and REWARDS OVER STEPS)------------\n",
        "# BEGIN SOLUTION\n",
        "from hive.utils import visualization\n",
        "\n",
        "visualization.plot_results(\n",
        "    experiments_folder=f\"{path}experiment/buffer_size/\",\n",
        "    runs_folders=[f\"minigrid5*5_{capacity}_test\" for capacity in capacities],\n",
        "    x_key='train',\n",
        "    y_key='train/full_episode_length',rc_params={},\n",
        "    smoothing_fn=visualization.get_smoothing_fn('exponential', {\"smoothing\": 0.3}),\n",
        "    output_file=f\"{path}experiment/buffer_size/visualization/episode_length.png\"\n",
        ")\n",
        "\n",
        "visualization.plot_results(\n",
        "    experiments_folder=f\"{path}experiment/buffer_size/\",\n",
        "    runs_folders=[f\"minigrid5*5_{capacity}_test\" for capacity in capacities],\n",
        "    x_key='train',\n",
        "    y_key='train/0_reward',rc_params={},\n",
        "    smoothing_fn=visualization.get_smoothing_fn('exponential', {\"smoothing\":0.3}),\n",
        "    output_file=f\"{path}experiment/buffer_size/visualization/reward.png\"\n",
        ")\n",
        "# END SOLUTION\n",
        "# ---------------------------------"
      ]
    },
    {
      "cell_type": "markdown",
      "source": [
        "If you notice from the examples sectopm, RLHive visualization usually just saves the plots as .png files. Here we will load the saved images from google drive using IPython's Image function to display the plots."
      ],
      "metadata": {
        "id": "TI0seqKVqRxY"
      }
    },
    {
      "cell_type": "code",
      "source": [
        "folder_path = \"/content/drive/My Drive/RL_assign4/buffer_capacity/\"\n",
        "try:\n",
        "  os.mkdir(folder_path)\n",
        "except:\n",
        "  print(\"path exists\")\n",
        "I_episode = cv2.imread('/content/drive/My Drive/RL_assign4/experiment/buffer_size/visualization/episode_length.png')\n",
        "I_rewards = cv2.imread('/content/drive/My Drive/RL_assign4/experiment/buffer_size/visualization/reward.png')\n",
        "cv2.imwrite('/content/drive/My Drive/RL_assign4/experiment/buffer_size/visualization/episode_length.png', I_episode)\n",
        "cv2.imwrite('/content/drive/My Drive/RL_assign4/experiment/buffer_size/visualization/reward.png', I_rewards)\n",
        "Image('/content/drive/My Drive/RL_assign4/experiment/buffer_size/visualization/episode_length.png')"
      ],
      "metadata": {
        "id": "sjHYhYs320SZ",
        "outputId": "2add75dc-9e27-4d54-c57b-d88b6333cc72",
        "colab": {
          "base_uri": "https://localhost:8080/",
          "height": 322
        }
      },
      "execution_count": 38,
      "outputs": [
        {
          "output_type": "stream",
          "name": "stdout",
          "text": [
            "path exists\n"
          ]
        },
        {
          "output_type": "execute_result",
          "data": {
            "image/png": "[encoded data removed]",
            "text/plain": [
              "<IPython.core.display.Image object>"
            ]
          },
          "metadata": {},
          "execution_count": 38
        }
      ]
    },
    {
      "cell_type": "code",
      "source": [
        "Image('/content/drive/My Drive/RL_assign4/experiment/buffer_size/visualization/reward.png')"
      ],
      "metadata": {
        "id": "71nzpQO_CAxz",
        "outputId": "8bdd5599-2dea-4c21-d3ae-0d545c2b65d2",
        "colab": {
          "base_uri": "https://localhost:8080/",
          "height": 305
        }
      },
      "execution_count": 39,
      "outputs": [
        {
          "output_type": "execute_result",
          "data": {
            "image/png": "[encoded data removed]",
            "text/plain": [
              "<IPython.core.display.Image object>"
            ]
          },
          "metadata": {},
          "execution_count": 39
        }
      ]
    },
    {
      "cell_type": "markdown",
      "source": [
        "## Questions (10 Pts)\n",
        "\n",
        "1. What happens when the buffer size in DQN is at either extremes i.e when the buffer size is very small(100) and when the buffer size is very large(100000)? (6pts)\n"
      ],
      "metadata": {
        "id": "pT7IqJdSfZmG"
      }
    },
    {
      "cell_type": "markdown",
      "source": [
        "Answer: "
      ],
      "metadata": {
        "id": "xBPwSww09Q_Z"
      }
    },
    {
      "cell_type": "markdown",
      "source": [
        "2. Do you observe these effects in the plots you get above? If so, explain or else why not? (4pts)"
      ],
      "metadata": {
        "id": "4b9IDbvB9PrT"
      }
    },
    {
      "cell_type": "markdown",
      "source": [
        "Answer:"
      ],
      "metadata": {
        "id": "rM9Hm1-g9cFj"
      }
    },
    {
      "cell_type": "markdown",
      "metadata": {
        "id": "SZX-2my0CgFp"
      },
      "source": [
        "# Q2: DQN w/ Varying target network update frequency (30 Pts Total)"
      ]
    },
    {
      "cell_type": "markdown",
      "metadata": {
        "id": "FHipsSNYCgFq"
      },
      "source": [
        "In synchronous learning methods like DQN, there are usually two neural networks. One referred to as an 'Online' network and other referred to as the 'Target' network. The target network is a copy of the online network and it typically is used for one main purpose. Please give your intuition regarding its purpose in DQN below. This parameter copies are updated at a frequency called the target network update frequency. We will also vary this frequency in the experiments below and observe changes in DQN's performance.\n",
        "\n",
        "\n"
      ]
    },
    {
      "cell_type": "markdown",
      "source": [
        "## Questions (15 Pts)\n",
        "\n",
        "1. Why is a Target Network needed in case of DQN? (5Pts)"
      ],
      "metadata": {
        "id": "-UmkNlApraXT"
      }
    },
    {
      "cell_type": "markdown",
      "source": [
        "Answer:"
      ],
      "metadata": {
        "id": "1LEfAOG_-GaE"
      }
    },
    {
      "cell_type": "markdown",
      "source": [
        "2. What happens when the target network update frequency is very high i.e you update it quite often like after every update of online network? What would happen if the update frequency is very delayed like 10000? (5Pts)"
      ],
      "metadata": {
        "id": "wfCN0_5U-JLo"
      }
    },
    {
      "cell_type": "markdown",
      "source": [
        "Answer:"
      ],
      "metadata": {
        "id": "xx0boLGv-L0F"
      }
    },
    {
      "cell_type": "markdown",
      "source": [
        "3. Do you see similar trends in your plots based on your intuition from the previous question? (5Pts)"
      ],
      "metadata": {
        "id": "-2fO8jpa-Nsx"
      }
    },
    {
      "cell_type": "markdown",
      "source": [
        "Answer:"
      ],
      "metadata": {
        "id": "8ImPpZsP-RGI"
      }
    },
    {
      "cell_type": "markdown",
      "source": [
        "## Experiments (15 Pts)\n"
      ],
      "metadata": {
        "id": "EJD83ursrkis"
      }
    },
    {
      "cell_type": "markdown",
      "source": [
        "Again as in the previous section, you will need to fill in the few lines of code below to run these experiments. You will be writing the code to run these experiments for 3 different random seeds and for different values of the parameter of interest.\n",
        "\n",
        "In the section below, we will vary the target network update frequency of DQN.\n",
        "In this section of experiments, we will vary target network update frequency and observe the differences in algorithms performance. Here we will consider three different options for the frequency: {1, 100, 1000}\n",
        "\n",
        "Use the DQN config file that was downloaded earlier along with the following parameters as inputs:\n",
        "* Train steps: 100000\n",
        "* Target Network Update frequency: {1, 100, 10000}\n",
        "* Env: 'MiniGrid-Empty-16x16-v0'\n",
        "* Save results directory: experiment/target_freq/\n",
        "* Use exponential smooothing function in the visualization (argument to plot_results)\n",
        "\n",
        "Results should be saved along with the target network update frequency values in different folders for ease of visualizing results. (For eg. \"experiment/target_freq/minigrid16*16_100_test/\" where, 100 refers to the target network update frequency value)"
      ],
      "metadata": {
        "id": "htfg373-rpjU"
      }
    },
    {
      "cell_type": "code",
      "source": [
        "frequencies=[1, 100, 10000]"
      ],
      "metadata": {
        "id": "Gqkp4anLkBsV"
      },
      "execution_count": 2,
      "outputs": []
    },
    {
      "cell_type": "code",
      "execution_count": null,
      "metadata": {
        "id": "sqIE3IfaCgFs"
      },
      "outputs": [],
      "source": [
        "# CODE TO RUN YOUR EXPERIMENTS-----\n",
        "# BEGIN SOLUTION\n",
        "num_seeds=3\n",
        "\n",
        "env = 'MiniGrid-Empty-16x16-v0'\n",
        "save_dir = path+'experiment/target_freq/minigrid16*16_{var}_test/'\n",
        "training_steps = 50000\n",
        "\n",
        "for idx in range(num_seeds):\n",
        "    for var in frequencies:\n",
        "        !hive_single_agent_loop --config  configs/config_dqn.yml --run_name '{env}-image-dqn-{idx}' --train_steps '{training_steps}' --agent.target_net_update_schedule.period '{var}' --environment.env_name '{env}' --save_dir '{save_dir}'\n",
        "\n",
        "# END SOLUTION\n",
        "# ---------------------------------"
      ]
    },
    {
      "cell_type": "code",
      "execution_count": null,
      "metadata": {
        "id": "Nq3VB4kcX2hO"
      },
      "outputs": [],
      "source": [
        "# CODE FOR VISUALIZATIONS (PLOTTING THE EPISODE LENGTH TREND and REWARDS OVER STEPS)------------\n",
        "# BEGIN SOLUTION\n",
        "from hive.utils import visualization\n",
        "\n",
        "\n",
        "visualization.plot_results(\n",
        "    experiments_folder=f\"{path}experiment/target_freq/\",\n",
        "    runs_folders=[str(freq) for freq in frequencies],\n",
        "    x_key='train',\n",
        "    y_key='train/full_episode_length',rc_params={},\n",
        "    smoothing_fn=visualization.get_smoothing_fn('exponential', {\"smoothing\": 0.3}),\n",
        "    output_file=f\"{path}experiment/target_freq/visualization/episode_length.png\"\n",
        ")\n",
        "\n",
        "visualization.plot_results(\n",
        "    experiments_folder=f\"{path}experiment/target_freq/\",\n",
        "    runs_folders=[str(freq) for freq in frequencies],\n",
        "    x_key='train',\n",
        "    y_key='train/0_reward',rc_params={},\n",
        "    smoothing_fn=visualization.get_smoothing_fn('exponential', {\"smoothing\":0.3}),\n",
        "    output_file=f\"{path}experiment/target_freq/visualization/reward.png\"\n",
        ")\n",
        "# END SOLUTION\n",
        "# ---------------------------------"
      ]
    },
    {
      "cell_type": "markdown",
      "source": [
        "**IMPORTANT** In order to avoid losing progress if Google Colab runtime disconnects, we will save the generated images to your google drives respectively. This way, we will make sure you do not have to run the experiments again if your runtime disconnects after one section of experiments finish.\n",
        "\n",
        "If you notice from the examples sectopm, RLHive visualization usually just saves the plots as .png files. Here we will load the saved images from google drive using IPython's Image function to display the plots."
      ],
      "metadata": {
        "id": "dRDK4RZ18VT-"
      }
    },
    {
      "cell_type": "code",
      "source": [
        "import cv2\n",
        "from google.colab import drive\n",
        "import os\n",
        "from IPython.display import Image\n",
        "drive.mount(\"/content/drive\", force_remount=True)"
      ],
      "metadata": {
        "id": "sXeExDs_CtWo"
      },
      "execution_count": null,
      "outputs": []
    },
    {
      "cell_type": "code",
      "source": [
        "folder_path = \"/content/drive/My Drive/RL_assign4/target_freq/\"\n",
        "try:\n",
        "  os.mkdir(folder_path)\n",
        "except:\n",
        "  print(\"path exists\")\n",
        "I_episode = cv2.imread('/content/minigrid_episode_length_freq_test.png')\n",
        "I_rewards = cv2.imread('/content/minigrid_reward_freq_test.png')\n",
        "cv2.imwrite('/content/drive/My Drive/RL_assign4/target_freq/minigrid_episode_length_freq_test.png', I_episode)\n",
        "cv2.imwrite('/content/drive/My Drive/RL_assign4/target_freq/minigrid_reward_freq_test.png', I_rewards)\n",
        "Image('/content/drive/My Drive/RL_assign4/target_freq/minigrid_episode_length_freq_test.png')"
      ],
      "metadata": {
        "id": "h4LAEv9U8xXH"
      },
      "execution_count": null,
      "outputs": []
    },
    {
      "cell_type": "code",
      "source": [
        "Image('/content/drive/My Drive/RL_assign4/target_freq/minigrid_reward_freq_test.png')"
      ],
      "metadata": {
        "id": "XDH9thi9CltY"
      },
      "execution_count": null,
      "outputs": []
    },
    {
      "cell_type": "markdown",
      "metadata": {
        "id": "LV5lztGdESx9"
      },
      "source": [
        "# Q3: n-step updates in DQN (35 Pts Total)"
      ]
    },
    {
      "cell_type": "markdown",
      "metadata": {
        "id": "j_4RzPqjESx_"
      },
      "source": [
        "Multi-step learning computes the temporal difference error using multi-step transition, instead of a single step. It is usually referred to as the n-step TD update. DQN uses a single-step update by default. In the below experiments we will try to vary this update horizon to larger numbers and observe how that affects performance of a DQN agent."
      ]
    },
    {
      "cell_type": "markdown",
      "source": [
        "##Questions (20 Pts)\n",
        "\n",
        "1. What is the significance of having multi-step TD updates in DQN? On an intutitive level, is this helpful for an RL Agent? If so, why? (5Pts)"
      ],
      "metadata": {
        "id": "8-4hjKxltYlG"
      }
    },
    {
      "cell_type": "markdown",
      "source": [
        "Answer:"
      ],
      "metadata": {
        "id": "d0Ff0wPC-2i_"
      }
    },
    {
      "cell_type": "markdown",
      "source": [
        "2. What are some disadvantages of having a higher update horizon? (5Pts)\n"
      ],
      "metadata": {
        "id": "C_5dAeX_-5KH"
      }
    },
    {
      "cell_type": "markdown",
      "source": [
        "Answer:"
      ],
      "metadata": {
        "id": "U29-WPik_AFu"
      }
    },
    {
      "cell_type": "markdown",
      "source": [
        "3. What happens when the update horizon is very high in DQN? Does it help with learning? If so why is that? Or If not please explain your intuitions. (5Pts)"
      ],
      "metadata": {
        "id": "DEBTwcat_Bse"
      }
    },
    {
      "cell_type": "markdown",
      "source": [
        "Answer:"
      ],
      "metadata": {
        "id": "ueWsBZVV_JSK"
      }
    },
    {
      "cell_type": "markdown",
      "source": [
        "4. Based on your intuitions, do you see similar trend from the visualizations of DQN agent with higher update horizon values? (5Pts)"
      ],
      "metadata": {
        "id": "mh6IOBG4_FeK"
      }
    },
    {
      "cell_type": "markdown",
      "source": [
        "Answer:"
      ],
      "metadata": {
        "id": "QNbp2qLz_HvO"
      }
    },
    {
      "cell_type": "markdown",
      "source": [
        "## Experiments (15 Pts)"
      ],
      "metadata": {
        "id": "SZNhbKr5tg5M"
      }
    },
    {
      "cell_type": "markdown",
      "source": [
        "Again as in the previous section, you will need to fill in the few lines of code below to run these experiments. You will be writing the code to run these experiments for 3 different random seeds and for different values of the parameter of interest.\n",
        "\n",
        "In the section below, we will vary the update horizon in TD update equation of DQN.\n",
        "\n",
        "Here we will consider three different options for the update horizon values: {1, 3, 10}\n",
        "\n",
        "Use the DQN config file that was downloaded earlier along with the following parameters as inputs:\n",
        "* Train steps: 50000\n",
        "* Update Horizon values: {1, 3, 10}\n",
        "* Env: 'MiniGrid-Empty-5x5-v0'\n",
        "* Save results directory: experiment/n_step/\n",
        "* Use exponential smooothing function in the visualization (argument to plot_results)\n",
        "\n",
        "Results should be saved along with the target network update frequency values in different folders for ease of visualizing results. (For eg. \"experiment/n_step/minigrid5*5_3_test/\" where, 3 refers to the update horizon value)"
      ],
      "metadata": {
        "id": "XWDtOTYctkcd"
      }
    },
    {
      "cell_type": "code",
      "source": [
        "horizon = [1, 3, 10]"
      ],
      "metadata": {
        "id": "_l61KC7AribL"
      },
      "execution_count": 4,
      "outputs": []
    },
    {
      "cell_type": "code",
      "execution_count": null,
      "metadata": {
        "id": "xnHjk9MpESyB",
        "outputId": "a416ac90-fd47-49ca-ac17-5c3f8dae75a1",
        "colab": {
          "base_uri": "https://localhost:8080/"
        }
      },
      "outputs": [
        {
          "output_type": "stream",
          "name": "stdout",
          "text": [
            "[INFO 2022-12-02 21:24:15,812 torch_utils.py:221] Registered PyTorch optimizers.\n",
            "[INFO 2022-12-02 21:24:15,812 torch_utils.py:257] Registered PyTorch optimizers.\n",
            "[INFO 2022-12-02 21:24:15,813 utils.py:151] Registered PyTorch initialization functions.\n",
            "[INFO 2022-12-02 21:24:15,814 __init__.py:20] Registered function approximators.\n",
            "[INFO 2022-12-02 21:24:15,911 __init__.py:21] Registered replays.\n",
            "[INFO 2022-12-02 21:24:16,494 schedule.py:204] Registered schedules.\n",
            "[INFO 2022-12-02 21:24:16,494 loggers.py:454] Registered loggers.\n",
            "[INFO 2022-12-02 21:24:16,496 __init__.py:27] Registered agents.\n",
            "[INFO 2022-12-02 21:24:16,506 __init__.py:40] Registered environments.\n",
            "[INFO 2022-12-02 21:24:18,846 single_agent_loop.py:210] Using config: \n",
            "{'agent': {'kwargs': {'batch_size': 256,\n",
            "                      'device': 'cuda',\n",
            "                      'discount_rate': 0.9,\n",
            "                      'epsilon_schedule': {'kwargs': {'end_value': 0.5,\n",
            "                                                      'init_value': 1,\n",
            "                                                      'steps': 25000},\n",
            "                                           'name': 'LinearSchedule'},\n",
            "                      'log_frequency': 100,\n",
            "                      'min_replay_history': 1000,\n",
            "                      'n_step': 1,\n",
            "                      'optimizer_fn': {'kwargs': {'lr': 0.001}, 'name': 'Adam'},\n",
            "                      'replay_buffer': {'kwargs': {'capacity': 20000},\n",
            "                                        'name': 'CircularReplayBuffer'},\n",
            "                      'representation_net': {'kwargs': {'hidden_units': [256,\n",
            "                                                                         256]},\n",
            "                                             'name': 'MLPNetwork'},\n",
            "                      'target_net_update_schedule': {'kwargs': {'off_value': False,\n",
            "                                                                'on_value': True,\n",
            "                                                                'period': 5000},\n",
            "                                                     'name': 'PeriodicSchedule'}},\n",
            "           'name': 'DQNAgent'},\n",
            " 'environment': {'kwargs': {'env_name': 'MiniGrid-Empty-5x5-v0',\n",
            "                            'flattened_obs': True,\n",
            "                            'rgb_obs': False},\n",
            "                 'name': 'MiniGridEnv'},\n",
            " 'loggers': {'kwargs': {'logger_list': [{'kwargs': {}, 'name': 'ChompLogger'}]},\n",
            "             'name': 'CompositeLogger'},\n",
            " 'max_steps_per_episode': 1000,\n",
            " 'run_name': 'minigrid-empty-5x5-image-dqn-0',\n",
            " 'save_dir': 'experiment/n_step/minigrid5*5_1_test/',\n",
            " 'saving_schedule': {'kwargs': {'off_value': False,\n",
            "                                'on_value': True,\n",
            "                                'period': 10000},\n",
            "                     'name': 'PeriodicSchedule'},\n",
            " 'stack_size': 1,\n",
            " 'test_episodes': 10,\n",
            " 'test_frequency': 200,\n",
            " 'train_steps': 50000}\n",
            "[INFO 2022-12-02 21:24:18,846 single_agent_loop.py:213] Created runner. Starting run!\n",
            "[INFO 2022-12-02 21:24:19,645 base.py:144] 208/50000 training steps completed.\n",
            "[INFO 2022-12-02 21:24:19,645 base.py:148] Running testing.\n",
            "[INFO 2022-12-02 21:24:20,304 base.py:153] Testing results: {'0_episode_length': 100.0, '0_reward': 0.0, 'full_episode_length': 100.0}\n",
            "[INFO 2022-12-02 21:24:20,450 base.py:144] 408/50000 training steps completed.\n",
            "[INFO 2022-12-02 21:24:20,451 base.py:148] Running testing.\n",
            "[INFO 2022-12-02 21:24:21,138 base.py:153] Testing results: {'0_episode_length': 100.0, '0_reward': 0.0, 'full_episode_length': 100.0}\n",
            "[INFO 2022-12-02 21:24:21,285 base.py:144] 600/50000 training steps completed.\n",
            "[INFO 2022-12-02 21:24:21,286 base.py:148] Running testing.\n",
            "[INFO 2022-12-02 21:24:21,936 base.py:153] Testing results: {'0_episode_length': 100.0, '0_reward': 0.0, 'full_episode_length': 100.0}\n",
            "[INFO 2022-12-02 21:24:22,091 base.py:144] 800/50000 training steps completed.\n",
            "[INFO 2022-12-02 21:24:22,091 base.py:148] Running testing.\n",
            "[INFO 2022-12-02 21:24:22,753 base.py:153] Testing results: {'0_episode_length': 100.0, '0_reward': 0.0, 'full_episode_length': 100.0}\n",
            "[INFO 2022-12-02 21:24:23,185 base.py:144] 1073/50000 training steps completed.\n",
            "[INFO 2022-12-02 21:24:23,185 base.py:148] Running testing.\n",
            "[INFO 2022-12-02 21:24:23,833 base.py:153] Testing results: {'0_episode_length': 100.0, '0_reward': 0.0, 'full_episode_length': 100.0}\n",
            "[INFO 2022-12-02 21:24:24,574 base.py:144] 1273/50000 training steps completed.\n",
            "[INFO 2022-12-02 21:24:24,574 base.py:148] Running testing.\n",
            "[INFO 2022-12-02 21:24:25,305 base.py:153] Testing results: {'0_episode_length': 100.0, '0_reward': 0.0, 'full_episode_length': 100.0}\n",
            "[INFO 2022-12-02 21:24:26,059 base.py:144] 1473/50000 training steps completed.\n",
            "[INFO 2022-12-02 21:24:26,059 base.py:148] Running testing.\n",
            "[INFO 2022-12-02 21:24:26,834 base.py:153] Testing results: {'0_episode_length': 100.0, '0_reward': 0.0, 'full_episode_length': 100.0}\n",
            "[INFO 2022-12-02 21:24:27,600 base.py:144] 1673/50000 training steps completed.\n",
            "[INFO 2022-12-02 21:24:27,600 base.py:148] Running testing.\n",
            "[INFO 2022-12-02 21:24:28,334 base.py:153] Testing results: {'0_episode_length': 100.0, '0_reward': 0.0, 'full_episode_length': 100.0}\n",
            "[INFO 2022-12-02 21:24:28,867 base.py:144] 1816/50000 training steps completed.\n",
            "[INFO 2022-12-02 21:24:28,867 base.py:148] Running testing.\n",
            "[INFO 2022-12-02 21:24:29,639 base.py:153] Testing results: {'0_episode_length': 100.0, '0_reward': 0.0, 'full_episode_length': 100.0}\n",
            "[INFO 2022-12-02 21:24:30,419 base.py:144] 2019/50000 training steps completed.\n",
            "[INFO 2022-12-02 21:24:30,419 base.py:148] Running testing.\n",
            "[INFO 2022-12-02 21:24:31,186 base.py:153] Testing results: {'0_episode_length': 100.0, '0_reward': 0.0, 'full_episode_length': 100.0}\n",
            "[INFO 2022-12-02 21:24:31,909 base.py:144] 2214/50000 training steps completed.\n",
            "[INFO 2022-12-02 21:24:31,909 base.py:148] Running testing.\n",
            "[INFO 2022-12-02 21:24:32,528 base.py:153] Testing results: {'0_episode_length': 100.0, '0_reward': 0.0, 'full_episode_length': 100.0}\n",
            "[INFO 2022-12-02 21:24:33,258 base.py:144] 2414/50000 training steps completed.\n",
            "[INFO 2022-12-02 21:24:33,258 base.py:148] Running testing.\n",
            "[INFO 2022-12-02 21:24:33,900 base.py:153] Testing results: {'0_episode_length': 100.0, '0_reward': 0.0, 'full_episode_length': 100.0}\n",
            "[INFO 2022-12-02 21:24:34,773 base.py:144] 2639/50000 training steps completed.\n",
            "[INFO 2022-12-02 21:24:34,773 base.py:148] Running testing.\n",
            "[INFO 2022-12-02 21:24:35,385 base.py:153] Testing results: {'0_episode_length': 100.0, '0_reward': 0.0, 'full_episode_length': 100.0}\n",
            "[INFO 2022-12-02 21:24:36,002 base.py:144] 2806/50000 training steps completed.\n",
            "[INFO 2022-12-02 21:24:36,002 base.py:148] Running testing.\n",
            "[INFO 2022-12-02 21:24:36,608 base.py:153] Testing results: {'0_episode_length': 100.0, '0_reward': 0.0, 'full_episode_length': 100.0}\n",
            "[INFO 2022-12-02 21:24:37,363 base.py:144] 3006/50000 training steps completed.\n",
            "[INFO 2022-12-02 21:24:37,363 base.py:148] Running testing.\n",
            "[INFO 2022-12-02 21:24:37,966 base.py:153] Testing results: {'0_episode_length': 100.0, '0_reward': 0.0, 'full_episode_length': 100.0}\n",
            "[INFO 2022-12-02 21:24:38,798 base.py:144] 3229/50000 training steps completed.\n",
            "[INFO 2022-12-02 21:24:38,798 base.py:148] Running testing.\n",
            "[INFO 2022-12-02 21:24:39,418 base.py:153] Testing results: {'0_episode_length': 100.0, '0_reward': 0.0, 'full_episode_length': 100.0}\n",
            "[INFO 2022-12-02 21:24:40,175 base.py:144] 3429/50000 training steps completed.\n",
            "[INFO 2022-12-02 21:24:40,175 base.py:148] Running testing.\n",
            "[INFO 2022-12-02 21:24:40,860 base.py:153] Testing results: {'0_episode_length': 100.0, '0_reward': 0.0, 'full_episode_length': 100.0}\n",
            "[INFO 2022-12-02 21:24:41,775 base.py:144] 3677/50000 training steps completed.\n",
            "[INFO 2022-12-02 21:24:41,775 base.py:148] Running testing.\n",
            "[INFO 2022-12-02 21:24:42,520 base.py:153] Testing results: {'0_episode_length': 100.0, '0_reward': 0.0, 'full_episode_length': 100.0}\n",
            "[INFO 2022-12-02 21:24:43,249 base.py:144] 3877/50000 training steps completed.\n",
            "[INFO 2022-12-02 21:24:43,250 base.py:148] Running testing.\n",
            "[INFO 2022-12-02 21:24:43,938 base.py:153] Testing results: {'0_episode_length': 100.0, '0_reward': 0.0, 'full_episode_length': 100.0}\n",
            "[INFO 2022-12-02 21:24:44,410 base.py:144] 4004/50000 training steps completed.\n",
            "[INFO 2022-12-02 21:24:44,411 base.py:148] Running testing.\n",
            "[INFO 2022-12-02 21:24:45,099 base.py:153] Testing results: {'0_episode_length': 100.0, '0_reward': 0.0, 'full_episode_length': 100.0}\n",
            "[INFO 2022-12-02 21:24:46,139 base.py:144] 4287/50000 training steps completed.\n",
            "[INFO 2022-12-02 21:24:46,140 base.py:148] Running testing.\n",
            "[INFO 2022-12-02 21:24:46,830 base.py:153] Testing results: {'0_episode_length': 100.0, '0_reward': 0.0, 'full_episode_length': 100.0}\n",
            "[INFO 2022-12-02 21:24:47,585 base.py:144] 4487/50000 training steps completed.\n",
            "[INFO 2022-12-02 21:24:47,585 base.py:148] Running testing.\n",
            "[INFO 2022-12-02 21:24:48,257 base.py:153] Testing results: {'0_episode_length': 100.0, '0_reward': 0.0, 'full_episode_length': 100.0}\n",
            "[INFO 2022-12-02 21:24:49,003 base.py:144] 4685/50000 training steps completed.\n",
            "[INFO 2022-12-02 21:24:49,003 base.py:148] Running testing.\n",
            "[INFO 2022-12-02 21:24:49,753 base.py:153] Testing results: {'0_episode_length': 100.0, '0_reward': 0.0, 'full_episode_length': 100.0}\n",
            "[INFO 2022-12-02 21:24:50,323 base.py:144] 4837/50000 training steps completed.\n",
            "[INFO 2022-12-02 21:24:50,323 base.py:148] Running testing.\n",
            "[INFO 2022-12-02 21:24:51,031 base.py:153] Testing results: {'0_episode_length': 100.0, '0_reward': 0.0, 'full_episode_length': 100.0}\n",
            "[INFO 2022-12-02 21:24:51,782 base.py:144] 5037/50000 training steps completed.\n",
            "[INFO 2022-12-02 21:24:51,782 base.py:148] Running testing.\n",
            "[INFO 2022-12-02 21:24:52,437 base.py:153] Testing results: {'0_episode_length': 100.0, '0_reward': 0.0, 'full_episode_length': 100.0}\n",
            "[INFO 2022-12-02 21:24:53,342 base.py:144] 5286/50000 training steps completed.\n",
            "[INFO 2022-12-02 21:24:53,342 base.py:148] Running testing.\n",
            "[INFO 2022-12-02 21:24:53,999 base.py:153] Testing results: {'0_episode_length': 100.0, '0_reward': 0.0, 'full_episode_length': 100.0}\n",
            "[INFO 2022-12-02 21:24:54,731 base.py:144] 5486/50000 training steps completed.\n",
            "[INFO 2022-12-02 21:24:54,731 base.py:148] Running testing.\n",
            "[INFO 2022-12-02 21:24:55,410 base.py:153] Testing results: {'0_episode_length': 100.0, '0_reward': 0.0, 'full_episode_length': 100.0}\n",
            "[INFO 2022-12-02 21:24:56,058 base.py:144] 5664/50000 training steps completed.\n",
            "[INFO 2022-12-02 21:24:56,058 base.py:148] Running testing.\n",
            "[INFO 2022-12-02 21:24:56,713 base.py:153] Testing results: {'0_episode_length': 100.0, '0_reward': 0.0, 'full_episode_length': 100.0}\n",
            "[INFO 2022-12-02 21:24:57,620 base.py:144] 5899/50000 training steps completed.\n",
            "[INFO 2022-12-02 21:24:57,620 base.py:148] Running testing.\n",
            "[INFO 2022-12-02 21:24:58,320 base.py:153] Testing results: {'0_episode_length': 100.0, '0_reward': 0.0, 'full_episode_length': 100.0}\n",
            "[INFO 2022-12-02 21:24:58,738 base.py:144] 6011/50000 training steps completed.\n",
            "[INFO 2022-12-02 21:24:58,738 base.py:148] Running testing.\n",
            "[INFO 2022-12-02 21:24:59,455 base.py:153] Testing results: {'0_episode_length': 100.0, '0_reward': 0.0, 'full_episode_length': 100.0}\n",
            "[INFO 2022-12-02 21:25:00,422 base.py:144] 6274/50000 training steps completed.\n",
            "[INFO 2022-12-02 21:25:00,422 base.py:148] Running testing.\n",
            "[INFO 2022-12-02 21:25:01,105 base.py:153] Testing results: {'0_episode_length': 100.0, '0_reward': 0.0, 'full_episode_length': 100.0}\n",
            "[INFO 2022-12-02 21:25:01,588 base.py:144] 6402/50000 training steps completed.\n",
            "[INFO 2022-12-02 21:25:01,588 base.py:148] Running testing.\n",
            "[INFO 2022-12-02 21:25:02,229 base.py:153] Testing results: {'0_episode_length': 100.0, '0_reward': 0.0, 'full_episode_length': 100.0}\n",
            "[INFO 2022-12-02 21:25:03,159 base.py:144] 6659/50000 training steps completed.\n",
            "[INFO 2022-12-02 21:25:03,159 base.py:148] Running testing.\n",
            "[INFO 2022-12-02 21:25:03,809 base.py:153] Testing results: {'0_episode_length': 100.0, '0_reward': 0.0, 'full_episode_length': 100.0}\n",
            "[INFO 2022-12-02 21:25:04,449 base.py:144] 6835/50000 training steps completed.\n",
            "[INFO 2022-12-02 21:25:04,449 base.py:148] Running testing.\n",
            "[INFO 2022-12-02 21:25:05,120 base.py:153] Testing results: {'0_episode_length': 100.0, '0_reward': 0.0, 'full_episode_length': 100.0}\n",
            "[INFO 2022-12-02 21:25:05,805 base.py:144] 7015/50000 training steps completed.\n",
            "[INFO 2022-12-02 21:25:05,805 base.py:148] Running testing.\n",
            "[INFO 2022-12-02 21:25:06,453 base.py:153] Testing results: {'0_episode_length': 100.0, '0_reward': 0.0, 'full_episode_length': 100.0}\n",
            "[INFO 2022-12-02 21:25:07,201 base.py:144] 7215/50000 training steps completed.\n",
            "[INFO 2022-12-02 21:25:07,202 base.py:148] Running testing.\n",
            "[INFO 2022-12-02 21:25:07,860 base.py:153] Testing results: {'0_episode_length': 100.0, '0_reward': 0.0, 'full_episode_length': 100.0}\n",
            "[INFO 2022-12-02 21:25:08,762 base.py:144] 7464/50000 training steps completed.\n",
            "[INFO 2022-12-02 21:25:08,762 base.py:148] Running testing.\n",
            "[INFO 2022-12-02 21:25:09,440 base.py:153] Testing results: {'0_episode_length': 100.0, '0_reward': 0.0, 'full_episode_length': 100.0}\n",
            "[INFO 2022-12-02 21:25:10,010 base.py:144] 7622/50000 training steps completed.\n",
            "[INFO 2022-12-02 21:25:10,010 base.py:148] Running testing.\n",
            "[INFO 2022-12-02 21:25:10,628 base.py:153] Testing results: {'0_episode_length': 100.0, '0_reward': 0.0, 'full_episode_length': 100.0}\n",
            "[INFO 2022-12-02 21:25:11,342 base.py:144] 7816/50000 training steps completed.\n",
            "[INFO 2022-12-02 21:25:11,342 base.py:148] Running testing.\n",
            "[INFO 2022-12-02 21:25:11,999 base.py:153] Testing results: {'0_episode_length': 100.0, '0_reward': 0.0, 'full_episode_length': 100.0}\n",
            "[INFO 2022-12-02 21:25:12,713 base.py:144] 8015/50000 training steps completed.\n",
            "[INFO 2022-12-02 21:25:12,713 base.py:148] Running testing.\n",
            "[INFO 2022-12-02 21:25:13,385 base.py:153] Testing results: {'0_episode_length': 100.0, '0_reward': 0.0, 'full_episode_length': 100.0}\n",
            "[INFO 2022-12-02 21:25:14,265 base.py:144] 8254/50000 training steps completed.\n",
            "[INFO 2022-12-02 21:25:14,265 base.py:148] Running testing.\n",
            "[INFO 2022-12-02 21:25:14,881 base.py:153] Testing results: {'0_episode_length': 100.0, '0_reward': 0.0, 'full_episode_length': 100.0}\n",
            "[INFO 2022-12-02 21:25:15,602 base.py:144] 8451/50000 training steps completed.\n",
            "[INFO 2022-12-02 21:25:15,602 base.py:148] Running testing.\n",
            "[INFO 2022-12-02 21:25:16,244 base.py:153] Testing results: {'0_episode_length': 100.0, '0_reward': 0.0, 'full_episode_length': 100.0}\n",
            "[INFO 2022-12-02 21:25:16,811 base.py:144] 8604/50000 training steps completed.\n",
            "[INFO 2022-12-02 21:25:16,811 base.py:148] Running testing.\n",
            "[INFO 2022-12-02 21:25:17,501 base.py:153] Testing results: {'0_episode_length': 100.0, '0_reward': 0.0, 'full_episode_length': 100.0}\n",
            "[INFO 2022-12-02 21:25:18,435 base.py:144] 8862/50000 training steps completed.\n",
            "[INFO 2022-12-02 21:25:18,435 base.py:148] Running testing.\n",
            "[INFO 2022-12-02 21:25:19,080 base.py:153] Testing results: {'0_episode_length': 100.0, '0_reward': 0.0, 'full_episode_length': 100.0}\n",
            "[INFO 2022-12-02 21:25:19,689 base.py:144] 9029/50000 training steps completed.\n",
            "[INFO 2022-12-02 21:25:19,690 base.py:148] Running testing.\n",
            "[INFO 2022-12-02 21:25:20,335 base.py:153] Testing results: {'0_episode_length': 100.0, '0_reward': 0.0, 'full_episode_length': 100.0}\n",
            "[INFO 2022-12-02 21:25:21,271 base.py:144] 9205/50000 training steps completed.\n",
            "[INFO 2022-12-02 21:25:21,271 base.py:148] Running testing.\n",
            "[INFO 2022-12-02 21:25:22,003 base.py:153] Testing results: {'0_episode_length': 100.0, '0_reward': 0.0, 'full_episode_length': 100.0}\n",
            "[INFO 2022-12-02 21:25:23,188 base.py:144] 9429/50000 training steps completed.\n",
            "[INFO 2022-12-02 21:25:23,188 base.py:148] Running testing.\n",
            "[INFO 2022-12-02 21:25:23,811 base.py:153] Testing results: {'0_episode_length': 100.0, '0_reward': 0.0, 'full_episode_length': 100.0}\n",
            "[INFO 2022-12-02 21:25:24,551 base.py:144] 9629/50000 training steps completed.\n",
            "[INFO 2022-12-02 21:25:24,551 base.py:148] Running testing.\n",
            "[INFO 2022-12-02 21:25:25,191 base.py:153] Testing results: {'0_episode_length': 100.0, '0_reward': 0.0, 'full_episode_length': 100.0}\n",
            "[INFO 2022-12-02 21:25:25,922 base.py:144] 9829/50000 training steps completed.\n",
            "[INFO 2022-12-02 21:25:25,922 base.py:148] Running testing.\n",
            "[INFO 2022-12-02 21:25:26,573 base.py:153] Testing results: {'0_episode_length': 100.0, '0_reward': 0.0, 'full_episode_length': 100.0}\n",
            "[INFO 2022-12-02 21:25:27,217 base.py:144] 10006/50000 training steps completed.\n",
            "[INFO 2022-12-02 21:25:27,217 base.py:148] Running testing.\n",
            "[INFO 2022-12-02 21:25:27,828 base.py:153] Testing results: {'0_episode_length': 100.0, '0_reward': 0.0, 'full_episode_length': 100.0}\n",
            "[INFO 2022-12-02 21:25:27,828 base.py:157] Saving run.\n",
            "[INFO 2022-12-02 21:25:27,828 experiment.py:82] Saving the experiment at experiment/n_step/minigrid5*5_1_test/minigrid-empty-5x5-image-dqn-0/current\n",
            "[INFO 2022-12-02 21:25:28,700 base.py:144] 10243/50000 training steps completed.\n",
            "[INFO 2022-12-02 21:25:28,700 base.py:148] Running testing.\n",
            "[INFO 2022-12-02 21:25:29,352 base.py:153] Testing results: {'0_episode_length': 100.0, '0_reward': 0.0, 'full_episode_length': 100.0}\n",
            "[INFO 2022-12-02 21:25:30,079 base.py:144] 10443/50000 training steps completed.\n",
            "[INFO 2022-12-02 21:25:30,079 base.py:148] Running testing.\n",
            "[INFO 2022-12-02 21:25:30,687 base.py:153] Testing results: {'0_episode_length': 100.0, '0_reward': 0.0, 'full_episode_length': 100.0}\n",
            "[INFO 2022-12-02 21:25:31,492 base.py:144] 10624/50000 training steps completed.\n",
            "[INFO 2022-12-02 21:25:31,492 base.py:148] Running testing.\n",
            "[INFO 2022-12-02 21:25:32,627 base.py:153] Testing results: {'0_episode_length': 100.0, '0_reward': 0.0, 'full_episode_length': 100.0}\n",
            "[INFO 2022-12-02 21:25:33,289 base.py:144] 10806/50000 training steps completed.\n",
            "[INFO 2022-12-02 21:25:33,289 base.py:148] Running testing.\n",
            "[INFO 2022-12-02 21:25:33,936 base.py:153] Testing results: {'0_episode_length': 100.0, '0_reward': 0.0, 'full_episode_length': 100.0}\n",
            "[INFO 2022-12-02 21:25:34,648 base.py:144] 11000/50000 training steps completed.\n",
            "[INFO 2022-12-02 21:25:34,648 base.py:148] Running testing.\n",
            "[INFO 2022-12-02 21:25:35,292 base.py:153] Testing results: {'0_episode_length': 100.0, '0_reward': 0.0, 'full_episode_length': 100.0}\n",
            "[INFO 2022-12-02 21:25:36,060 base.py:144] 11206/50000 training steps completed.\n",
            "[INFO 2022-12-02 21:25:36,060 base.py:148] Running testing.\n",
            "[INFO 2022-12-02 21:25:36,660 base.py:153] Testing results: {'0_episode_length': 100.0, '0_reward': 0.0, 'full_episode_length': 100.0}\n",
            "[INFO 2022-12-02 21:25:37,753 base.py:144] 11496/50000 training steps completed.\n",
            "[INFO 2022-12-02 21:25:37,754 base.py:148] Running testing.\n",
            "[INFO 2022-12-02 21:25:38,396 base.py:153] Testing results: {'0_episode_length': 100.0, '0_reward': 0.0, 'full_episode_length': 100.0}\n",
            "[INFO 2022-12-02 21:25:39,096 base.py:144] 11680/50000 training steps completed.\n",
            "[INFO 2022-12-02 21:25:39,096 base.py:148] Running testing.\n",
            "[INFO 2022-12-02 21:25:39,731 base.py:153] Testing results: {'0_episode_length': 100.0, '0_reward': 0.0, 'full_episode_length': 100.0}\n",
            "[INFO 2022-12-02 21:25:40,312 base.py:144] 11831/50000 training steps completed.\n",
            "[INFO 2022-12-02 21:25:40,312 base.py:148] Running testing.\n",
            "[INFO 2022-12-02 21:25:41,191 base.py:153] Testing results: {'0_episode_length': 100.0, '0_reward': 0.0, 'full_episode_length': 100.0}\n",
            "[INFO 2022-12-02 21:25:42,101 base.py:144] 12036/50000 training steps completed.\n",
            "[INFO 2022-12-02 21:25:42,101 base.py:148] Running testing.\n",
            "[INFO 2022-12-02 21:25:42,750 base.py:153] Testing results: {'0_episode_length': 100.0, '0_reward': 0.0, 'full_episode_length': 100.0}\n",
            "[INFO 2022-12-02 21:25:43,595 base.py:144] 12264/50000 training steps completed.\n",
            "[INFO 2022-12-02 21:25:43,595 base.py:148] Running testing.\n",
            "[INFO 2022-12-02 21:25:44,275 base.py:153] Testing results: {'0_episode_length': 100.0, '0_reward': 0.0, 'full_episode_length': 100.0}\n",
            "[INFO 2022-12-02 21:25:44,958 base.py:144] 12452/50000 training steps completed.\n",
            "[INFO 2022-12-02 21:25:44,958 base.py:148] Running testing.\n",
            "[INFO 2022-12-02 21:25:45,664 base.py:153] Testing results: {'0_episode_length': 100.0, '0_reward': 0.0, 'full_episode_length': 100.0}\n",
            "[INFO 2022-12-02 21:25:46,418 base.py:144] 12657/50000 training steps completed.\n",
            "[INFO 2022-12-02 21:25:46,418 base.py:148] Running testing.\n",
            "[INFO 2022-12-02 21:25:47,061 base.py:153] Testing results: {'0_episode_length': 100.0, '0_reward': 0.0, 'full_episode_length': 100.0}\n",
            "[INFO 2022-12-02 21:25:47,628 base.py:144] 12801/50000 training steps completed.\n",
            "[INFO 2022-12-02 21:25:47,628 base.py:148] Running testing.\n",
            "[INFO 2022-12-02 21:25:48,259 base.py:153] Testing results: {'0_episode_length': 100.0, '0_reward': 0.0, 'full_episode_length': 100.0}\n",
            "[INFO 2022-12-02 21:25:49,055 base.py:144] 13013/50000 training steps completed.\n",
            "[INFO 2022-12-02 21:25:49,055 base.py:148] Running testing.\n",
            "[INFO 2022-12-02 21:25:49,724 base.py:153] Testing results: {'0_episode_length': 100.0, '0_reward': 0.0, 'full_episode_length': 100.0}\n",
            "[INFO 2022-12-02 21:25:50,498 base.py:144] 13215/50000 training steps completed.\n",
            "[INFO 2022-12-02 21:25:50,498 base.py:148] Running testing.\n",
            "[INFO 2022-12-02 21:25:51,236 base.py:153] Testing results: {'0_episode_length': 100.0, '0_reward': 0.0, 'full_episode_length': 100.0}\n",
            "[INFO 2022-12-02 21:25:52,204 base.py:144] 13401/50000 training steps completed.\n",
            "[INFO 2022-12-02 21:25:52,204 base.py:148] Running testing.\n",
            "[INFO 2022-12-02 21:25:53,087 base.py:153] Testing results: {'0_episode_length': 100.0, '0_reward': 0.0, 'full_episode_length': 100.0}\n",
            "[INFO 2022-12-02 21:25:53,918 base.py:144] 13613/50000 training steps completed.\n",
            "[INFO 2022-12-02 21:25:53,918 base.py:148] Running testing.\n",
            "[INFO 2022-12-02 21:25:54,861 base.py:153] Testing results: {'0_episode_length': 100.0, '0_reward': 0.0, 'full_episode_length': 100.0}\n",
            "[INFO 2022-12-02 21:25:56,225 base.py:144] 13851/50000 training steps completed.\n",
            "[INFO 2022-12-02 21:25:56,225 base.py:148] Running testing.\n",
            "[INFO 2022-12-02 21:25:56,972 base.py:153] Testing results: {'0_episode_length': 100.0, '0_reward': 0.0, 'full_episode_length': 100.0}\n",
            "[INFO 2022-12-02 21:25:57,923 base.py:144] 14054/50000 training steps completed.\n",
            "[INFO 2022-12-02 21:25:57,923 base.py:148] Running testing.\n",
            "[INFO 2022-12-02 21:25:58,960 base.py:153] Testing results: {'0_episode_length': 100.0, '0_reward': 0.0, 'full_episode_length': 100.0}\n",
            "[INFO 2022-12-02 21:25:59,677 base.py:144] 14254/50000 training steps completed.\n",
            "[INFO 2022-12-02 21:25:59,677 base.py:148] Running testing.\n",
            "[INFO 2022-12-02 21:26:00,490 base.py:153] Testing results: {'0_episode_length': 100.0, '0_reward': 0.0, 'full_episode_length': 100.0}\n",
            "[INFO 2022-12-02 21:26:01,242 base.py:144] 14412/50000 training steps completed.\n",
            "[INFO 2022-12-02 21:26:01,242 base.py:148] Running testing.\n",
            "[INFO 2022-12-02 21:26:01,871 base.py:153] Testing results: {'0_episode_length': 100.0, '0_reward': 0.0, 'full_episode_length': 100.0}\n",
            "[INFO 2022-12-02 21:26:02,640 base.py:144] 14619/50000 training steps completed.\n",
            "[INFO 2022-12-02 21:26:02,640 base.py:148] Running testing.\n",
            "[INFO 2022-12-02 21:26:03,281 base.py:153] Testing results: {'0_episode_length': 100.0, '0_reward': 0.0, 'full_episode_length': 100.0}\n",
            "[INFO 2022-12-02 21:26:04,300 base.py:144] 14819/50000 training steps completed.\n",
            "[INFO 2022-12-02 21:26:04,301 base.py:148] Running testing.\n",
            "[INFO 2022-12-02 21:26:04,922 base.py:153] Testing results: {'0_episode_length': 100.0, '0_reward': 0.0, 'full_episode_length': 100.0}\n",
            "[INFO 2022-12-02 21:26:05,606 base.py:144] 15000/50000 training steps completed.\n",
            "[INFO 2022-12-02 21:26:05,606 base.py:148] Running testing.\n",
            "[INFO 2022-12-02 21:26:06,487 base.py:153] Testing results: {'0_episode_length': 100.0, '0_reward': 0.0, 'full_episode_length': 100.0}\n",
            "[INFO 2022-12-02 21:26:07,356 base.py:144] 15238/50000 training steps completed.\n",
            "[INFO 2022-12-02 21:26:07,356 base.py:148] Running testing.\n",
            "[INFO 2022-12-02 21:26:08,015 base.py:153] Testing results: {'0_episode_length': 100.0, '0_reward': 0.0, 'full_episode_length': 100.0}\n",
            "[INFO 2022-12-02 21:26:08,619 base.py:144] 15400/50000 training steps completed.\n",
            "[INFO 2022-12-02 21:26:08,620 base.py:148] Running testing.\n",
            "[INFO 2022-12-02 21:26:09,224 base.py:153] Testing results: {'0_episode_length': 100.0, '0_reward': 0.0, 'full_episode_length': 100.0}\n",
            "[INFO 2022-12-02 21:26:10,071 base.py:144] 15622/50000 training steps completed.\n",
            "[INFO 2022-12-02 21:26:10,072 base.py:148] Running testing.\n",
            "[INFO 2022-12-02 21:26:11,006 base.py:153] Testing results: {'0_episode_length': 100.0, '0_reward': 0.0, 'full_episode_length': 100.0}\n",
            "[INFO 2022-12-02 21:26:11,986 base.py:144] 15806/50000 training steps completed.\n",
            "[INFO 2022-12-02 21:26:11,986 base.py:148] Running testing.\n",
            "[INFO 2022-12-02 21:26:12,721 base.py:153] Testing results: {'0_episode_length': 100.0, '0_reward': 0.0, 'full_episode_length': 100.0}\n",
            "[INFO 2022-12-02 21:26:13,612 base.py:144] 16044/50000 training steps completed.\n",
            "[INFO 2022-12-02 21:26:13,612 base.py:148] Running testing.\n",
            "[INFO 2022-12-02 21:26:14,311 base.py:153] Testing results: {'0_episode_length': 100.0, '0_reward': 0.0, 'full_episode_length': 100.0}\n",
            "[INFO 2022-12-02 21:26:14,896 base.py:144] 16200/50000 training steps completed.\n",
            "[INFO 2022-12-02 21:26:14,896 base.py:148] Running testing.\n",
            "[INFO 2022-12-02 21:26:15,547 base.py:153] Testing results: {'0_episode_length': 100.0, '0_reward': 0.0, 'full_episode_length': 100.0}\n",
            "[INFO 2022-12-02 21:26:16,614 base.py:144] 16422/50000 training steps completed.\n",
            "[INFO 2022-12-02 21:26:16,614 base.py:148] Running testing.\n",
            "[INFO 2022-12-02 21:26:17,216 base.py:153] Testing results: {'0_episode_length': 100.0, '0_reward': 0.0, 'full_episode_length': 100.0}\n",
            "[INFO 2022-12-02 21:26:18,065 base.py:144] 16654/50000 training steps completed.\n",
            "[INFO 2022-12-02 21:26:18,065 base.py:148] Running testing.\n",
            "[INFO 2022-12-02 21:26:18,691 base.py:153] Testing results: {'0_episode_length': 100.0, '0_reward': 0.0, 'full_episode_length': 100.0}\n",
            "[INFO 2022-12-02 21:26:19,683 base.py:144] 16848/50000 training steps completed.\n",
            "[INFO 2022-12-02 21:26:19,683 base.py:148] Running testing.\n",
            "[INFO 2022-12-02 21:26:20,518 base.py:153] Testing results: {'0_episode_length': 100.0, '0_reward': 0.0, 'full_episode_length': 100.0}\n",
            "[INFO 2022-12-02 21:26:21,089 base.py:144] 17007/50000 training steps completed.\n",
            "[INFO 2022-12-02 21:26:21,089 base.py:148] Running testing.\n",
            "[INFO 2022-12-02 21:26:21,709 base.py:153] Testing results: {'0_episode_length': 100.0, '0_reward': 0.0, 'full_episode_length': 100.0}\n",
            "[INFO 2022-12-02 21:26:22,446 base.py:144] 17202/50000 training steps completed.\n",
            "[INFO 2022-12-02 21:26:22,446 base.py:148] Running testing.\n",
            "[INFO 2022-12-02 21:26:23,055 base.py:153] Testing results: {'0_episode_length': 100.0, '0_reward': 0.0, 'full_episode_length': 100.0}\n",
            "[INFO 2022-12-02 21:26:24,270 base.py:144] 17459/50000 training steps completed.\n",
            "[INFO 2022-12-02 21:26:24,270 base.py:148] Running testing.\n",
            "[INFO 2022-12-02 21:26:24,869 base.py:153] Testing results: {'0_episode_length': 100.0, '0_reward': 0.0, 'full_episode_length': 100.0}\n",
            "[INFO 2022-12-02 21:26:25,453 base.py:144] 17617/50000 training steps completed.\n",
            "[INFO 2022-12-02 21:26:25,453 base.py:148] Running testing.\n",
            "[INFO 2022-12-02 21:26:26,285 base.py:153] Testing results: {'0_episode_length': 100.0, '0_reward': 0.0, 'full_episode_length': 100.0}\n",
            "[INFO 2022-12-02 21:26:27,511 base.py:144] 17890/50000 training steps completed.\n",
            "[INFO 2022-12-02 21:26:27,512 base.py:148] Running testing.\n",
            "[INFO 2022-12-02 21:26:29,074 base.py:153] Testing results: {'0_episode_length': 100.0, '0_reward': 0.0, 'full_episode_length': 100.0}\n",
            "[INFO 2022-12-02 21:26:29,503 base.py:144] 18006/50000 training steps completed.\n",
            "[INFO 2022-12-02 21:26:29,503 base.py:148] Running testing.\n",
            "[INFO 2022-12-02 21:26:30,179 base.py:153] Testing results: {'0_episode_length': 100.0, '0_reward': 0.0, 'full_episode_length': 100.0}\n",
            "[INFO 2022-12-02 21:26:31,021 base.py:144] 18228/50000 training steps completed.\n",
            "[INFO 2022-12-02 21:26:31,021 base.py:148] Running testing.\n",
            "[INFO 2022-12-02 21:26:31,608 base.py:153] Testing results: {'0_episode_length': 100.0, '0_reward': 0.0, 'full_episode_length': 100.0}\n",
            "[INFO 2022-12-02 21:26:32,528 base.py:144] 18482/50000 training steps completed.\n",
            "[INFO 2022-12-02 21:26:32,528 base.py:148] Running testing.\n",
            "[INFO 2022-12-02 21:26:33,170 base.py:153] Testing results: {'0_episode_length': 100.0, '0_reward': 0.0, 'full_episode_length': 100.0}\n",
            "[INFO 2022-12-02 21:26:33,941 base.py:144] 18644/50000 training steps completed.\n",
            "[INFO 2022-12-02 21:26:33,941 base.py:148] Running testing.\n",
            "[INFO 2022-12-02 21:26:34,799 base.py:153] Testing results: {'0_episode_length': 100.0, '0_reward': 0.0, 'full_episode_length': 100.0}\n",
            "[INFO 2022-12-02 21:26:35,580 base.py:144] 18816/50000 training steps completed.\n",
            "[INFO 2022-12-02 21:26:35,581 base.py:148] Running testing.\n",
            "[INFO 2022-12-02 21:26:36,336 base.py:153] Testing results: {'0_episode_length': 100.0, '0_reward': 0.0, 'full_episode_length': 100.0}\n",
            "[INFO 2022-12-02 21:26:37,274 base.py:144] 19015/50000 training steps completed.\n",
            "[INFO 2022-12-02 21:26:37,275 base.py:148] Running testing.\n",
            "[INFO 2022-12-02 21:26:37,982 base.py:153] Testing results: {'0_episode_length': 100.0, '0_reward': 0.0, 'full_episode_length': 100.0}\n",
            "[INFO 2022-12-02 21:26:39,322 base.py:144] 19287/50000 training steps completed.\n",
            "[INFO 2022-12-02 21:26:39,322 base.py:148] Running testing.\n",
            "[INFO 2022-12-02 21:26:40,102 base.py:153] Testing results: {'0_episode_length': 100.0, '0_reward': 0.0, 'full_episode_length': 100.0}\n",
            "[INFO 2022-12-02 21:26:40,649 base.py:144] 19401/50000 training steps completed.\n",
            "[INFO 2022-12-02 21:26:40,649 base.py:148] Running testing.\n",
            "[INFO 2022-12-02 21:26:41,473 base.py:153] Testing results: {'0_episode_length': 100.0, '0_reward': 0.0, 'full_episode_length': 100.0}\n",
            "[INFO 2022-12-02 21:26:42,223 base.py:144] 19609/50000 training steps completed.\n",
            "[INFO 2022-12-02 21:26:42,223 base.py:148] Running testing.\n",
            "[INFO 2022-12-02 21:26:42,816 base.py:153] Testing results: {'0_episode_length': 100.0, '0_reward': 0.0, 'full_episode_length': 100.0}\n",
            "[INFO 2022-12-02 21:26:43,513 base.py:144] 19802/50000 training steps completed.\n",
            "[INFO 2022-12-02 21:26:43,513 base.py:148] Running testing.\n",
            "[INFO 2022-12-02 21:26:44,909 base.py:153] Testing results: {'0_episode_length': 100.0, '0_reward': 0.0, 'full_episode_length': 100.0}\n",
            "[INFO 2022-12-02 21:26:46,558 base.py:144] 20078/50000 training steps completed.\n",
            "[INFO 2022-12-02 21:26:46,558 base.py:148] Running testing.\n",
            "[INFO 2022-12-02 21:26:47,500 base.py:153] Testing results: {'0_episode_length': 100.0, '0_reward': 0.0, 'full_episode_length': 100.0}\n",
            "[INFO 2022-12-02 21:26:47,500 base.py:157] Saving run.\n",
            "[INFO 2022-12-02 21:26:47,500 experiment.py:82] Saving the experiment at experiment/n_step/minigrid5*5_1_test/minigrid-empty-5x5-image-dqn-0/current\n",
            "[INFO 2022-12-02 21:26:48,205 base.py:144] 20215/50000 training steps completed.\n",
            "[INFO 2022-12-02 21:26:48,205 base.py:148] Running testing.\n",
            "[INFO 2022-12-02 21:26:49,075 base.py:153] Testing results: {'0_episode_length': 100.0, '0_reward': 0.0, 'full_episode_length': 100.0}\n",
            "[INFO 2022-12-02 21:26:49,984 base.py:144] 20408/50000 training steps completed.\n",
            "[INFO 2022-12-02 21:26:49,984 base.py:148] Running testing.\n",
            "[INFO 2022-12-02 21:26:50,659 base.py:153] Testing results: {'0_episode_length': 100.0, '0_reward': 0.0, 'full_episode_length': 100.0}\n",
            "[INFO 2022-12-02 21:26:51,568 base.py:144] 20659/50000 training steps completed.\n",
            "[INFO 2022-12-02 21:26:51,568 base.py:148] Running testing.\n",
            "[INFO 2022-12-02 21:26:52,197 base.py:153] Testing results: {'0_episode_length': 100.0, '0_reward': 0.0, 'full_episode_length': 100.0}\n",
            "[INFO 2022-12-02 21:26:53,005 base.py:144] 20832/50000 training steps completed.\n",
            "[INFO 2022-12-02 21:26:53,005 base.py:148] Running testing.\n",
            "[INFO 2022-12-02 21:26:53,669 base.py:153] Testing results: {'0_episode_length': 100.0, '0_reward': 0.0, 'full_episode_length': 100.0}\n",
            "[INFO 2022-12-02 21:26:54,497 base.py:144] 21056/50000 training steps completed.\n",
            "[INFO 2022-12-02 21:26:54,497 base.py:148] Running testing.\n",
            "[INFO 2022-12-02 21:26:55,226 base.py:153] Testing results: {'0_episode_length': 100.0, '0_reward': 0.0, 'full_episode_length': 100.0}\n",
            "[INFO 2022-12-02 21:26:55,974 base.py:144] 21269/50000 training steps completed.\n",
            "[INFO 2022-12-02 21:26:55,974 base.py:148] Running testing.\n",
            "[INFO 2022-12-02 21:26:56,690 base.py:153] Testing results: {'0_episode_length': 100.0, '0_reward': 0.0, 'full_episode_length': 100.0}\n",
            "[INFO 2022-12-02 21:26:57,199 base.py:144] 21413/50000 training steps completed.\n",
            "[INFO 2022-12-02 21:26:57,199 base.py:148] Running testing.\n",
            "[INFO 2022-12-02 21:26:57,910 base.py:153] Testing results: {'0_episode_length': 100.0, '0_reward': 0.0, 'full_episode_length': 100.0}\n",
            "[INFO 2022-12-02 21:26:58,807 base.py:144] 21664/50000 training steps completed.\n",
            "[INFO 2022-12-02 21:26:58,807 base.py:148] Running testing.\n",
            "[INFO 2022-12-02 21:26:59,603 base.py:153] Testing results: {'0_episode_length': 100.0, '0_reward': 0.0, 'full_episode_length': 100.0}\n",
            "[INFO 2022-12-02 21:27:00,619 base.py:144] 21889/50000 training steps completed.\n",
            "[INFO 2022-12-02 21:27:00,619 base.py:148] Running testing.\n",
            "[INFO 2022-12-02 21:27:01,327 base.py:153] Testing results: {'0_episode_length': 100.0, '0_reward': 0.0, 'full_episode_length': 100.0}\n",
            "[INFO 2022-12-02 21:27:02,075 base.py:144] 22091/50000 training steps completed.\n",
            "[INFO 2022-12-02 21:27:02,075 base.py:148] Running testing.\n",
            "[INFO 2022-12-02 21:27:02,997 base.py:153] Testing results: {'0_episode_length': 100.0, '0_reward': 0.0, 'full_episode_length': 100.0}\n",
            "[INFO 2022-12-02 21:27:03,465 base.py:144] 22215/50000 training steps completed.\n",
            "[INFO 2022-12-02 21:27:03,465 base.py:148] Running testing.\n",
            "[INFO 2022-12-02 21:27:04,184 base.py:153] Testing results: {'0_episode_length': 100.0, '0_reward': 0.0, 'full_episode_length': 100.0}\n",
            "[INFO 2022-12-02 21:27:04,982 base.py:144] 22434/50000 training steps completed.\n",
            "[INFO 2022-12-02 21:27:04,982 base.py:148] Running testing.\n",
            "[INFO 2022-12-02 21:27:05,022 base.py:153] Testing results: {'0_episode_length': 5.999999999999999,\n",
            " '0_reward': 0.9460000000000001,\n",
            " 'full_episode_length': 5.999999999999999}\n",
            "[INFO 2022-12-02 21:27:05,631 base.py:144] 22600/50000 training steps completed.\n",
            "[INFO 2022-12-02 21:27:05,631 base.py:148] Running testing.\n",
            "[INFO 2022-12-02 21:27:06,329 base.py:153] Testing results: {'0_episode_length': 100.0, '0_reward': 0.0, 'full_episode_length': 100.0}\n",
            "[INFO 2022-12-02 21:27:07,328 base.py:144] 22868/50000 training steps completed.\n",
            "[INFO 2022-12-02 21:27:07,328 base.py:148] Running testing.\n",
            "[INFO 2022-12-02 21:27:08,035 base.py:153] Testing results: {'0_episode_length': 100.0, '0_reward': 0.0, 'full_episode_length': 100.0}\n",
            "[INFO 2022-12-02 21:27:08,565 base.py:144] 23011/50000 training steps completed.\n",
            "[INFO 2022-12-02 21:27:08,566 base.py:148] Running testing.\n",
            "[INFO 2022-12-02 21:27:09,513 base.py:153] Testing results: {'0_episode_length': 100.0, '0_reward': 0.0, 'full_episode_length': 100.0}\n",
            "[INFO 2022-12-02 21:27:10,242 base.py:144] 23206/50000 training steps completed.\n",
            "[INFO 2022-12-02 21:27:10,242 base.py:148] Running testing.\n",
            "[INFO 2022-12-02 21:27:10,931 base.py:153] Testing results: {'0_episode_length': 100.0, '0_reward': 0.0, 'full_episode_length': 100.0}\n",
            "[INFO 2022-12-02 21:27:11,693 base.py:144] 23413/50000 training steps completed.\n",
            "[INFO 2022-12-02 21:27:11,694 base.py:148] Running testing.\n",
            "[INFO 2022-12-02 21:27:12,409 base.py:153] Testing results: {'0_episode_length': 100.0, '0_reward': 0.0, 'full_episode_length': 100.0}\n",
            "[INFO 2022-12-02 21:27:13,132 base.py:144] 23610/50000 training steps completed.\n",
            "[INFO 2022-12-02 21:27:13,132 base.py:148] Running testing.\n",
            "[INFO 2022-12-02 21:27:13,773 base.py:153] Testing results: {'0_episode_length': 100.0, '0_reward': 0.0, 'full_episode_length': 100.0}\n",
            "[INFO 2022-12-02 21:27:14,556 base.py:144] 23826/50000 training steps completed.\n",
            "[INFO 2022-12-02 21:27:14,556 base.py:148] Running testing.\n",
            "[INFO 2022-12-02 21:27:15,266 base.py:153] Testing results: {'0_episode_length': 100.0, '0_reward': 0.0, 'full_episode_length': 100.0}\n",
            "[INFO 2022-12-02 21:27:15,913 base.py:144] 24003/50000 training steps completed.\n",
            "[INFO 2022-12-02 21:27:15,913 base.py:148] Running testing.\n",
            "[INFO 2022-12-02 21:27:16,507 base.py:153] Testing results: {'0_episode_length': 100.0, '0_reward': 0.0, 'full_episode_length': 100.0}\n",
            "[INFO 2022-12-02 21:27:17,452 base.py:144] 24258/50000 training steps completed.\n",
            "[INFO 2022-12-02 21:27:17,452 base.py:148] Running testing.\n",
            "[INFO 2022-12-02 21:27:18,151 base.py:153] Testing results: {'0_episode_length': 100.0, '0_reward': 0.0, 'full_episode_length': 100.0}\n",
            "[INFO 2022-12-02 21:27:18,761 base.py:144] 24425/50000 training steps completed.\n",
            "[INFO 2022-12-02 21:27:18,761 base.py:148] Running testing.\n",
            "[INFO 2022-12-02 21:27:19,478 base.py:153] Testing results: {'0_episode_length': 100.0, '0_reward': 0.0, 'full_episode_length': 100.0}\n",
            "[INFO 2022-12-02 21:27:20,200 base.py:144] 24614/50000 training steps completed.\n",
            "[INFO 2022-12-02 21:27:20,200 base.py:148] Running testing.\n",
            "[INFO 2022-12-02 21:27:20,916 base.py:153] Testing results: {'0_episode_length': 100.0, '0_reward': 0.0, 'full_episode_length': 100.0}\n",
            "[INFO 2022-12-02 21:27:21,736 base.py:144] 24842/50000 training steps completed.\n",
            "[INFO 2022-12-02 21:27:21,737 base.py:148] Running testing.\n",
            "[INFO 2022-12-02 21:27:22,447 base.py:153] Testing results: {'0_episode_length': 100.0, '0_reward': 0.0, 'full_episode_length': 100.0}\n",
            "[INFO 2022-12-02 21:27:23,125 base.py:144] 25025/50000 training steps completed.\n",
            "[INFO 2022-12-02 21:27:23,126 base.py:148] Running testing.\n",
            "[INFO 2022-12-02 21:27:23,715 base.py:153] Testing results: {'0_episode_length': 100.0, '0_reward': 0.0, 'full_episode_length': 100.0}\n",
            "[INFO 2022-12-02 21:27:24,450 base.py:144] 25227/50000 training steps completed.\n",
            "[INFO 2022-12-02 21:27:24,450 base.py:148] Running testing.\n",
            "[INFO 2022-12-02 21:27:25,036 base.py:153] Testing results: {'0_episode_length': 100.0, '0_reward': 0.0, 'full_episode_length': 100.0}\n",
            "[INFO 2022-12-02 21:27:25,760 base.py:144] 25426/50000 training steps completed.\n",
            "[INFO 2022-12-02 21:27:25,760 base.py:148] Running testing.\n",
            "[INFO 2022-12-02 21:27:26,429 base.py:153] Testing results: {'0_episode_length': 100.0, '0_reward': 0.0, 'full_episode_length': 100.0}\n",
            "[INFO 2022-12-02 21:27:27,288 base.py:144] 25660/50000 training steps completed.\n",
            "[INFO 2022-12-02 21:27:27,288 base.py:148] Running testing.\n",
            "[INFO 2022-12-02 21:27:28,026 base.py:153] Testing results: {'0_episode_length': 100.0, '0_reward': 0.0, 'full_episode_length': 100.0}\n",
            "[INFO 2022-12-02 21:27:28,755 base.py:144] 25860/50000 training steps completed.\n",
            "[INFO 2022-12-02 21:27:28,756 base.py:148] Running testing.\n",
            "[INFO 2022-12-02 21:27:29,500 base.py:153] Testing results: {'0_episode_length': 100.0, '0_reward': 0.0, 'full_episode_length': 100.0}\n",
            "[INFO 2022-12-02 21:27:30,314 base.py:144] 26071/50000 training steps completed.\n",
            "[INFO 2022-12-02 21:27:30,314 base.py:148] Running testing.\n",
            "[INFO 2022-12-02 21:27:31,030 base.py:153] Testing results: {'0_episode_length': 100.0, '0_reward': 0.0, 'full_episode_length': 100.0}\n",
            "[INFO 2022-12-02 21:27:31,821 base.py:144] 26281/50000 training steps completed.\n",
            "[INFO 2022-12-02 21:27:31,821 base.py:148] Running testing.\n",
            "[INFO 2022-12-02 21:27:32,541 base.py:153] Testing results: {'0_episode_length': 100.0, '0_reward': 0.0, 'full_episode_length': 100.0}\n",
            "[INFO 2022-12-02 21:27:33,110 base.py:144] 26441/50000 training steps completed.\n",
            "[INFO 2022-12-02 21:27:33,110 base.py:148] Running testing.\n",
            "[INFO 2022-12-02 21:27:33,807 base.py:153] Testing results: {'0_episode_length': 100.0, '0_reward': 0.0, 'full_episode_length': 100.0}\n",
            "[INFO 2022-12-02 21:27:35,048 base.py:144] 26669/50000 training steps completed.\n",
            "[INFO 2022-12-02 21:27:35,048 base.py:148] Running testing.\n",
            "[INFO 2022-12-02 21:27:35,987 base.py:153] Testing results: {'0_episode_length': 100.0, '0_reward': 0.0, 'full_episode_length': 100.0}\n",
            "[INFO 2022-12-02 21:27:37,187 base.py:144] 26879/50000 training steps completed.\n",
            "[INFO 2022-12-02 21:27:37,187 base.py:148] Running testing.\n",
            "[INFO 2022-12-02 21:27:37,896 base.py:153] Testing results: {'0_episode_length': 100.0, '0_reward': 0.0, 'full_episode_length': 100.0}\n",
            "[INFO 2022-12-02 21:27:38,816 base.py:144] 27084/50000 training steps completed.\n",
            "[INFO 2022-12-02 21:27:38,817 base.py:148] Running testing.\n",
            "[INFO 2022-12-02 21:27:39,624 base.py:153] Testing results: {'0_episode_length': 100.0, '0_reward': 0.0, 'full_episode_length': 100.0}\n",
            "[INFO 2022-12-02 21:27:40,439 base.py:144] 27278/50000 training steps completed.\n",
            "[INFO 2022-12-02 21:27:40,439 base.py:148] Running testing.\n",
            "[INFO 2022-12-02 21:27:41,470 base.py:153] Testing results: {'0_episode_length': 100.0, '0_reward': 0.0, 'full_episode_length': 100.0}\n",
            "[INFO 2022-12-02 21:27:42,181 base.py:144] 27454/50000 training steps completed.\n",
            "[INFO 2022-12-02 21:27:42,181 base.py:148] Running testing.\n",
            "[INFO 2022-12-02 21:27:42,228 base.py:153] Testing results: {'0_episode_length': 5.999999999999999,\n",
            " '0_reward': 0.9460000000000001,\n",
            " 'full_episode_length': 5.999999999999999}\n",
            "[INFO 2022-12-02 21:27:43,433 base.py:144] 27665/50000 training steps completed.\n",
            "[INFO 2022-12-02 21:27:43,433 base.py:148] Running testing.\n",
            "[INFO 2022-12-02 21:27:44,154 base.py:153] Testing results: {'0_episode_length': 100.0, '0_reward': 0.0, 'full_episode_length': 100.0}\n",
            "[INFO 2022-12-02 21:27:44,922 base.py:144] 27879/50000 training steps completed.\n",
            "[INFO 2022-12-02 21:27:44,922 base.py:148] Running testing.\n",
            "[INFO 2022-12-02 21:27:45,527 base.py:153] Testing results: {'0_episode_length': 100.0, '0_reward': 0.0, 'full_episode_length': 100.0}\n",
            "[INFO 2022-12-02 21:27:46,130 base.py:144] 28044/50000 training steps completed.\n",
            "[INFO 2022-12-02 21:27:46,130 base.py:148] Running testing.\n",
            "[INFO 2022-12-02 21:27:46,845 base.py:153] Testing results: {'0_episode_length': 100.0, '0_reward': 0.0, 'full_episode_length': 100.0}\n",
            "Traceback (most recent call last):\n",
            "  File \"/usr/local/bin/hive_single_agent_loop\", line 8, in <module>\n",
            "    sys.exit(main())\n",
            "  File \"/usr/local/lib/python3.8/dist-packages/hive/runners/single_agent_loop.py\", line 215, in main\n",
            "    runner.run_training()\n",
            "  File \"/usr/local/lib/python3.8/dist-packages/hive/runners/base.py\", line 137, in run_training\n",
            "    episode_metrics = self.run_episode()\n",
            "  File \"/usr/local/lib/python3.8/dist-packages/hive/runners/single_agent_loop.py\", line 102, in run_episode\n",
            "    done, observation = self.run_one_step(observation, episode_metrics)\n",
            "  File \"/usr/local/lib/python3.8/dist-packages/hive/runners/single_agent_loop.py\", line 83, in run_one_step\n",
            "    agent.update(copy.deepcopy(info))\n",
            "  File \"/usr/local/lib/python3.8/dist-packages/hive/agents/dqn.py\", line 299, in update\n",
            "    batch = self._replay_buffer.sample(batch_size=self._batch_size)\n",
            "  File \"/usr/local/lib/python3.8/dist-packages/hive/replays/circular_replay.py\", line 238, in sample\n",
            "    indices = self._sample_indices(batch_size)\n",
            "  File \"/usr/local/lib/python3.8/dist-packages/hive/replays/circular_replay.py\", line 209, in _sample_indices\n",
            "    self._rng.integers(self.size(), size=batch_size - len(indices))\n",
            "  File \"/usr/local/lib/python3.8/dist-packages/hive/replays/circular_replay.py\", line 88, in size\n",
            "    min(self._num_added, self._capacity) - self._stack_size - self._n_step + 1,\n",
            "KeyboardInterrupt\n",
            "^C\n",
            "[INFO 2022-12-02 21:27:48,572 torch_utils.py:221] Registered PyTorch optimizers.\n",
            "[INFO 2022-12-02 21:27:48,573 torch_utils.py:257] Registered PyTorch optimizers.\n",
            "[INFO 2022-12-02 21:27:48,574 utils.py:151] Registered PyTorch initialization functions.\n",
            "[INFO 2022-12-02 21:27:48,575 __init__.py:20] Registered function approximators.\n",
            "[INFO 2022-12-02 21:27:48,672 __init__.py:21] Registered replays.\n",
            "[INFO 2022-12-02 21:27:49,254 schedule.py:204] Registered schedules.\n",
            "[INFO 2022-12-02 21:27:49,254 loggers.py:454] Registered loggers.\n",
            "[INFO 2022-12-02 21:27:49,256 __init__.py:27] Registered agents.\n",
            "[INFO 2022-12-02 21:27:49,266 __init__.py:40] Registered environments.\n",
            "[INFO 2022-12-02 21:27:51,622 single_agent_loop.py:210] Using config: \n",
            "{'agent': {'kwargs': {'batch_size': 256,\n",
            "                      'device': 'cuda',\n",
            "                      'discount_rate': 0.9,\n",
            "                      'epsilon_schedule': {'kwargs': {'end_value': 0.5,\n",
            "                                                      'init_value': 1,\n",
            "                                                      'steps': 25000},\n",
            "                                           'name': 'LinearSchedule'},\n",
            "                      'log_frequency': 100,\n",
            "                      'min_replay_history': 1000,\n",
            "                      'n_step': 3,\n",
            "                      'optimizer_fn': {'kwargs': {'lr': 0.001}, 'name': 'Adam'},\n",
            "                      'replay_buffer': {'kwargs': {'capacity': 20000},\n",
            "                                        'name': 'CircularReplayBuffer'},\n",
            "                      'representation_net': {'kwargs': {'hidden_units': [256,\n",
            "                                                                         256]},\n",
            "                                             'name': 'MLPNetwork'},\n",
            "                      'target_net_update_schedule': {'kwargs': {'off_value': False,\n",
            "                                                                'on_value': True,\n",
            "                                                                'period': 5000},\n",
            "                                                     'name': 'PeriodicSchedule'}},\n",
            "           'name': 'DQNAgent'},\n",
            " 'environment': {'kwargs': {'env_name': 'MiniGrid-Empty-5x5-v0',\n",
            "                            'flattened_obs': True,\n",
            "                            'rgb_obs': False},\n",
            "                 'name': 'MiniGridEnv'},\n",
            " 'loggers': {'kwargs': {'logger_list': [{'kwargs': {}, 'name': 'ChompLogger'}]},\n",
            "             'name': 'CompositeLogger'},\n",
            " 'max_steps_per_episode': 1000,\n",
            " 'run_name': 'minigrid-empty-5x5-image-dqn-0',\n",
            " 'save_dir': 'experiment/n_step/minigrid5*5_3_test/',\n",
            " 'saving_schedule': {'kwargs': {'off_value': False,\n",
            "                                'on_value': True,\n",
            "                                'period': 10000},\n",
            "                     'name': 'PeriodicSchedule'},\n",
            " 'stack_size': 1,\n",
            " 'test_episodes': 10,\n",
            " 'test_frequency': 200,\n",
            " 'train_steps': 50000}\n",
            "[INFO 2022-12-02 21:27:51,622 single_agent_loop.py:213] Created runner. Starting run!\n",
            "[INFO 2022-12-02 21:27:52,436 base.py:144] 208/50000 training steps completed.\n",
            "[INFO 2022-12-02 21:27:52,436 base.py:148] Running testing.\n"
          ]
        }
      ],
      "source": [
        "# CODE TO RUN YOUR EXPERIMENTS-----\n",
        "# BEGIN SOLUTION\n",
        "num_seeds=3\n",
        "\n",
        "for idx in range(num_seeds):\n",
        "    for hor in horizon:\n",
        "        !hive_single_agent_loop --config  configs/config_dqn.yml --run_name 'minigrid-empty-5x5-image-dqn-{idx}' --train_steps 50000 --agent.n_step '{hor}' --save_dir 'experiment/n_step/minigrid5*5_{hor}_test/'\n",
        "\n",
        "\n",
        "# END SOLUTION\n",
        "# ---------------------------------"
      ]
    },
    {
      "cell_type": "code",
      "execution_count": null,
      "metadata": {
        "id": "KXFKzLX6ZcKQ"
      },
      "outputs": [],
      "source": [
        "# CODE FOR VISUALIZATIONS (PLOTTING THE EPISODE LENGTH TREND and REWARDS OVER STEPS)------------\n",
        "# BEGIN SOLUTION\n",
        "\n",
        "\n",
        "\n",
        "\n",
        "# END SOLUTION\n",
        "# ---------------------------------"
      ]
    },
    {
      "cell_type": "markdown",
      "source": [
        "**IMPORTANT** In order to avoid losing progress if Google Colab runtime disconnects, we will save the generated images to your google drives respectively. This way, we will make sure you do not have to run the experiments again if your runtime disconnects after one section of experiments finish.\n",
        "\n",
        "If you notice from the examples sectopm, RLHive visualization usually just saves the plots as .png files. Here we will load the saved images from google drive using IPython's Image function to display the plots."
      ],
      "metadata": {
        "id": "aJ1DsFdy8haV"
      }
    },
    {
      "cell_type": "code",
      "source": [
        "import cv2\n",
        "from google.colab import drive\n",
        "import os\n",
        "from IPython.display import Image\n",
        "drive.mount(\"/content/drive\", force_remount=True)"
      ],
      "metadata": {
        "id": "sQQBalSgCwnq"
      },
      "execution_count": null,
      "outputs": []
    },
    {
      "cell_type": "code",
      "execution_count": null,
      "metadata": {
        "id": "SrQSI1-ojvAF"
      },
      "outputs": [],
      "source": [
        "folder_path = \"/content/drive/My Drive/RL_assign4/n_step/\"\n",
        "try:\n",
        "  os.mkdir(folder_path)\n",
        "except:\n",
        "  print(\"path exists\")\n",
        "I_episode = cv2.imread('/content/minigrid_episode_length_n_step_test.png')\n",
        "I_rewards = cv2.imread('/content/minigrid_reward_n_step_test.png')\n",
        "cv2.imwrite('/content/drive/My Drive/RL_assign4/n_step/minigrid_episode_length_n_step_test.png', I_episode)\n",
        "cv2.imwrite('/content/drive/My Drive/RL_assign4/n_step/minigrid_reward_n_step_test.png', I_rewards)\n",
        "Image('/content/drive/My Drive/RL_assign4/n_step/minigrid_episode_length_n_step_test.png')"
      ]
    },
    {
      "cell_type": "code",
      "source": [
        "Image('/content/drive/My Drive/RL_assign4/n_step/minigrid_reward_n_step_test.png')"
      ],
      "metadata": {
        "id": "LW1ASKofC3Ra"
      },
      "execution_count": null,
      "outputs": []
    },
    {
      "cell_type": "markdown",
      "metadata": {
        "id": "sq--Dnk6kTFP"
      },
      "source": [
        "# Q4: Ablation Studies (50 Pts)"
      ]
    },
    {
      "cell_type": "markdown",
      "metadata": {
        "id": "JHBrKKoih_tt"
      },
      "source": [
        "## Rainbow Ablations "
      ]
    },
    {
      "cell_type": "markdown",
      "metadata": {
        "id": "fD3XSZIrKOBy"
      },
      "source": [
        "**Quick Intro to Rainbow:** Rainbow is another Value based algorithm like DQN but it is a single agent that integrates several variants of DQN that offfer substantial benefits. Moreover, Rainbow is shown to have better performance than any of the baseline methods included in the ensemble. There are a total of 6 different baseline algorithms included in Rainbow such as:\n",
        "1. DQN (multi-step)\n",
        "2. Double DQN or DDQN\n",
        "3. Prioritized DDQN\n",
        "4. Dueling DDQN\n",
        "5. Distributional DQN\n",
        "6. Noisy DQN\n",
        "\n",
        "Moreover, please note that, in this section we will consider a modified version of Rainbow and only include the algorithms covered in class i.e {DQN, Double DQN or DDQN, Prioritized DDQN, Multi-step DQN}.\n",
        "\n",
        "In this section, we will try to see the contribution of each individual component in Rainbow and try to answer some questions based on this."
      ]
    },
    {
      "cell_type": "markdown",
      "metadata": {
        "id": "9vA0w88dl9yg"
      },
      "source": [
        "### Ablations to understand the contribution of each baseline in Rainbow"
      ]
    },
    {
      "cell_type": "markdown",
      "metadata": {
        "id": "-z7-9PDTl9yq"
      },
      "source": [
        "\n",
        "## Questions (20 Pts)\n",
        "1. What are your observations from the following plots? Which baseline contributes most to the performance of Rainbow? and Why? (10 Pts)"
      ]
    },
    {
      "cell_type": "markdown",
      "source": [
        "Answer:"
      ],
      "metadata": {
        "id": "AktWkC9YAID1"
      }
    },
    {
      "cell_type": "markdown",
      "source": [
        "2. Find the original Rainbow Paper and see which component contributes the most to Rainbow's performance. Which factors does it depend on? (10 Pts)"
      ],
      "metadata": {
        "id": "CY_YVzf-AK6v"
      }
    },
    {
      "cell_type": "markdown",
      "source": [
        "Answer:"
      ],
      "metadata": {
        "id": "Aq3OREV8AMvj"
      }
    },
    {
      "cell_type": "markdown",
      "source": [
        "## Experiments (30 Pts)"
      ],
      "metadata": {
        "id": "Xvi02wiW12Nu"
      }
    },
    {
      "cell_type": "markdown",
      "source": [
        "Again as in the previous section, you will need to fill in the few lines of code below to run these experiments. You will be writing the code to run these experiments for 3 different random seeds and for different values of the parameter of interest.\n",
        "\n",
        "Now in the following experiment, we will run some ablation studies to understand the impact or contribution of each baseline method in Rainbow. We would like to compare the performance of Rainbow with DQN and 5 other agents. \n",
        "\n",
        "The other agents compared here are:\n",
        "\n",
        "1. Rainbow w/o double DQN\n",
        "2. Rainbow w/o prioritized DDQN\n",
        "3. Rainbow w/o multi-step DQN\n",
        "4. DQN with same config parameters as Rainbow\n",
        "\n",
        "(**NOTE** We are using a modified version of Rainbow based on the concepts covered in class)\n",
        "\n",
        "Use the Rainbow config file that was downloaded earlier along with the following parameters as inputs:\n",
        "* Train steps: 100000\n",
        "* Env: 'MiniGrid-Empty-5x5-v0'\n",
        "* Set the corresponding component of Rainbow to 'False' or 'True' depending on the experiment\n",
        "* Save results directory: experiment/rainbow_ablations/\n",
        "* Use exponential smooothing function in the visualization (argument to plot_results)\n",
        "\n",
        "Note that you should edit the Rainbow config file provided for runnning DQN in this question. (To ensure they have similar config parameters to compare)\n",
        "\n",
        "Results should be saved along with the modified agents name in different folders for ease of visualizing results. (For eg. \"experiment/rainbow_ablations/minigrid5*5_full_rainbow_test/\" where, \"full rainbow\" refers to the modified rainbow agent with the 3 components)"
      ],
      "metadata": {
        "id": "AxN3-gU-vv5C"
      }
    },
    {
      "cell_type": "code",
      "execution_count": null,
      "metadata": {
        "id": "xzVAXtzDhEUh"
      },
      "outputs": [],
      "source": [
        "# CODE TO RUN YOUR EXPERIMENTS-----\n",
        "# BEGIN SOLUTION\n",
        "\n",
        "\n",
        "# END SOLUTION\n",
        "# ---------------------------------"
      ]
    },
    {
      "cell_type": "code",
      "execution_count": null,
      "metadata": {
        "id": "CUyMLoFDl9yq"
      },
      "outputs": [],
      "source": [
        "# CODE FOR VISUALIZATIONS (PLOTTING THE EPISODE LENGTH TREND and REWARDS OVER STEPS)------------\n",
        "# BEGIN SOLUTION\n",
        "\n",
        "\n",
        "\n",
        "\n",
        "# END SOLUTION\n",
        "# ---------------------------------"
      ]
    },
    {
      "cell_type": "markdown",
      "source": [
        "**IMPORTANT** In order to avoid losing progress if Google Colab runtime disconnects, we will save the generated images to your google drives respectively. This way, we will make sure you do not have to run the experiments again if your runtime disconnects after one section of experiments finish.\n",
        "\n",
        "If you notice from the examples sectopm, RLHive visualization usually just saves the plots as .png files. Here we will load the saved images from google drive using IPython's Image function to display the plots."
      ],
      "metadata": {
        "id": "6gNpf9GP8oAy"
      }
    },
    {
      "cell_type": "code",
      "source": [
        "import cv2\n",
        "from google.colab import drive\n",
        "import os\n",
        "from IPython.display import Image\n",
        "drive.mount(\"/content/drive\", force_remount=True)"
      ],
      "metadata": {
        "id": "2AFgl-lqC9V2",
        "colab": {
          "base_uri": "https://localhost:8080/"
        },
        "outputId": "08ffbe1c-3cd2-4cd4-abc9-9d345e6d9957"
      },
      "execution_count": null,
      "outputs": [
        {
          "output_type": "stream",
          "name": "stdout",
          "text": [
            "Mounted at /content/drive\n"
          ]
        }
      ]
    },
    {
      "cell_type": "code",
      "execution_count": null,
      "metadata": {
        "id": "HS_LY11hhyiu"
      },
      "outputs": [],
      "source": [
        "folder_path = \"/content/drive/My Drive/RL_assign4/rainbow_ablations/\"\n",
        "try:\n",
        "  os.mkdir(folder_path)\n",
        "except:\n",
        "  print(\"path exists\")\n",
        "I_episode = cv2.imread('/content/minigrid_episode_length_rainbow_ablations_test.png')\n",
        "I_rewards = cv2.imread('/content/minigrid_reward_rainbow_ablations_test.png')\n",
        "cv2.imwrite('/content/drive/My Drive/RL_assign4/rainbow_ablations/minigrid_episode_length_rainbow_ablations_test.png', I_episode)\n",
        "cv2.imwrite('/content/drive/My Drive/RL_assign4/rainbow_ablations/minigrid_reward_rainbow_ablations_test.png', I_rewards)\n",
        "Image('/content/drive/My Drive/RL_assign4/rainbow_ablations/minigrid_episode_length_rainbow_ablations_test.png')"
      ]
    },
    {
      "cell_type": "code",
      "source": [
        "Image('/content/drive/My Drive/RL_assign4/rainbow_ablations/minigrid_reward_rainbow_ablations_test.png')"
      ],
      "metadata": {
        "id": "9WLs2S9lDE0o"
      },
      "execution_count": null,
      "outputs": []
    },
    {
      "cell_type": "code",
      "source": [
        "!zip -r /content/experiment.zip /content/experiment"
      ],
      "metadata": {
        "id": "nv72sX3aiFNK"
      },
      "execution_count": null,
      "outputs": []
    }
  ],
  "metadata": {
    "accelerator": "GPU",
    "colab": {
      "collapsed_sections": [
        "JHBrKKoih_tt"
      ],
      "provenance": []
    },
    "gpuClass": "standard",
    "kernelspec": {
      "display_name": "Python 3",
      "name": "python3"
    },
    "language_info": {
      "name": "python"
    }
  },
  "nbformat": 4,
  "nbformat_minor": 0
}