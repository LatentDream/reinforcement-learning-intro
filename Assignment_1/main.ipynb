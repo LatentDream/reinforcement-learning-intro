{
  "cells": [
    {
      "cell_type": "markdown",
      "source": [
        "\n",
        "# Assignment 1\n",
        "\n",
        "Guillaume Thibault - 1948612\n",
        "\n",
        "## Instructions:\n",
        "* This is an individual assignment. You are not allowed to discuss the problems with other students.\n",
        "* Part of this assignment will be autograded by gradescope. You can use it as immediate feedback to improve your answers.\n",
        "* All your solution, code, analysis, graphs, explanations should be done in this same notebook.\n",
        "* Please make sure to execute all the cells before you submit the notebook to the gradescope. You will not get points for the plots if they are not generated already.\n",
        "* If you have questions regarding the assignment, you can ask for clarifications in Piazza. You should use the corresponding tag for this assignment.\n",
        "\n",
        "This assignment has two questions. In question 1, you will learn:\n",
        "\n",
        "1. To understand how to formalize a marketing campaign as a multi-arm bandit problem.\n",
        "2. To implement $\\epsilon$-greedy, UCB, and Boltzmann algorithms.\n",
        "3. Understand the role of different hyper-parameters.\n",
        "\n",
        "And in question 2 you will:\n",
        "\n",
        "1. Implement and evaluate policy iteration and value iteration methods on FrozenLake environment.\n",
        "2. Compare these methods on both deterministic and stochastic versions of the environment."
      ],
      "metadata": {
        "collapsed": false,
        "pycharm": {
          "name": "#%% md\n"
        },
        "id": "SvykHbKyRD35"
      }
    },
    {
      "cell_type": "markdown",
      "metadata": {
        "collapsed": false,
        "pycharm": {
          "name": "#%% md\n"
        },
        "id": "HgkOzI0xRD39"
      },
      "source": [
        "## Q1: Marketing Campaign (75 points)\n",
        "\n",
        "Imagine you are running a marketing campaign for your website and have a set of ads to choose from. And say the objective is to show the ad with the highest click-through rate (CTR) value to drive the highest traffic possible. But you don't have any prior information about how either of these ads will perform. How do you approach this problem?\n",
        "\n",
        "Definition: CTR is the ratio of how many times an ad was clicked vs. the number of impressions. For example, if an ad has been shown 100 times and clicked 10 times, CTR = 10/100 = 0.1\n",
        "\n",
        "We will use the multi-armed bandit (MAB) method to solve this problem.\n",
        "\n",
        "In this section, you should create a class for the marketing bandit, which contains a function pull that takes the chosen ad as the input and returns if the user has clicked on the ad or not. Each ad has a true CTR (a number between zero and one), which will be used to define a Bernoulli distribution. P(click) = true_CTR, P(no click) = 1 - true_CTR"
      ]
    },
    {
      "cell_type": "code",
      "execution_count": 1,
      "metadata": {
        "pycharm": {
          "name": "#%%\n"
        },
        "id": "PulxCkUfRD39"
      },
      "outputs": [],
      "source": [
        "import numpy as np\n",
        "from random import choice\n",
        "from scipy.stats import bernoulli\n",
        "from typing import Sequence, Tuple\n",
        "import matplotlib.pyplot as plt\n",
        "%matplotlib inline\n",
        "np.random.seed(8953)\n",
        "import warnings\n",
        "warnings.filterwarnings('ignore')"
      ]
    },
    {
      "cell_type": "markdown",
      "metadata": {
        "id": "G5fFSo9rgEcW",
        "pycharm": {
          "name": "#%% md\n"
        }
      },
      "source": [
        "### Q1.a: Define your Bandit class (5 points):\n",
        "\n",
        "Most of the class has been written. Complete the pull method in such a way that: **1. Update both clicks and impressions, 2. Return if did_click is 0 or 1.**"
      ]
    },
    {
      "cell_type": "code",
      "execution_count": 2,
      "metadata": {
        "id": "192vo5l-YiWz",
        "pycharm": {
          "name": "#%%\n"
        },
        "tags": []
      },
      "outputs": [],
      "source": [
        "class Bandit(object):\n",
        "\n",
        "  def __init__(self, \n",
        "               n_arm: int = 2, \n",
        "               n_pulls: int = 2000,\n",
        "               actual_ctr: list = [0.4, 0.6]\n",
        "               ):\n",
        "    self.n_arm = n_arm\n",
        "    self.n_pulls = n_pulls\n",
        "    self.init_bandit(actual_ctr=actual_ctr)\n",
        "    self.clicks = {idx: 0 for idx in range(n_arm)} # number of times an ad is clicked on\n",
        "    self.impressions = {idx: 0 for idx in range(n_arm)} # number of times an ad is chosen\n",
        "\n",
        "  def init_bandit(self, \n",
        "                  actual_ctr: list = [0.4, 0.6],\n",
        "                  ):\n",
        "    \"\"\"\n",
        "    .inputs:\n",
        "      actual_ctr: \n",
        "          Actual click through Rate.\n",
        "    \"\"\"\n",
        "    self.actual_ctr = actual_ctr\n",
        "\n",
        "  def pull(self, a_idx: int):\n",
        "    \"\"\"Requested in part (1.)\n",
        "    .inputs:\n",
        "      a_idx: Index of action.\n",
        "    \"\"\"\n",
        "    assert a_idx < self.n_arm, \"invalid action index\"\n",
        "    # ----------------------------------------------\n",
        "    did_click = bernoulli.rvs(self.actual_ctr[a_idx])\n",
        "    self.impressions[a_idx] += 1\n",
        "    self.clicks[a_idx] += did_click\n",
        "    # ----------------------------------------------\n",
        "    return did_click\n",
        "\n",
        "  def ctr(self, a_idx: int):\n",
        "    \"\"\" Compute the observed CTR\n",
        "    .inputs:\n",
        "      a_idx: Index of bandit to compute the CTR on.\n",
        "    \"\"\"\n",
        "    if self.impressions[a_idx] == 0:\n",
        "        return self.clicks[a_idx]\n",
        "    return self.clicks[a_idx] / self.impressions[a_idx]\n",
        "\n",
        "  def reset(self):\n",
        "    self.clicks = {idx: 0 for idx in range(self.n_arm)}\n",
        "    self.impressions = {idx: 0 for idx in range(self.n_arm)}"
      ]
    },
    {
      "cell_type": "markdown",
      "metadata": {
        "id": "pOzYYAmygGoW",
        "pycharm": {
          "name": "#%% md\n"
        }
      },
      "source": [
        "<!-- BEGIN QUESTION -->\n",
        "\n",
        "#### Marketing campaign with three ads\n",
        "\n",
        "Let's define a marketing campaign with three ads you need to choose from with actual CTR: {0.35, 0.55, 0.1}"
      ]
    },
    {
      "cell_type": "code",
      "execution_count": 3,
      "metadata": {
        "id": "emYdGDYS2HvG",
        "pycharm": {
          "name": "#%%\n"
        }
      },
      "outputs": [],
      "source": [
        "#@title Problem definition\n",
        "bandit = Bandit(n_arm=3, actual_ctr=[0.35, 0.55, 0.1])"
      ]
    },
    {
      "cell_type": "markdown",
      "metadata": {
        "id": "sDgjH3NoiOXU",
        "pycharm": {
          "name": "#%% md\n"
        }
      },
      "source": [
        "### Q1.b1: Eps-greedy for k-armed bandit (5 points)\n",
        "\n",
        "Implement the $\\epsilon$-greedy method."
      ]
    },
    {
      "cell_type": "code",
      "execution_count": 4,
      "metadata": {
        "id": "-t-G3rt5eCyM",
        "pycharm": {
          "name": "#%%\n"
        },
        "tags": []
      },
      "outputs": [],
      "source": [
        "import random\n",
        "def eps_greedy(\n",
        "    bandit: Bandit, \n",
        "    eps: float, \n",
        "    ctr_init_val: float = .0\n",
        "    ) -> Tuple[float, float, Sequence[float], Sequence[float]]:\n",
        "  \"\"\"\n",
        "  .inputs: \n",
        "    bandit: A bandit problem, instantiated from the above class.\n",
        "    eps: The epsilon value.\n",
        "    ctr_init_val: Here we initialize all the table entries to the same value. \n",
        "  .outputs:\n",
        "    rew_record: The record of rewards at each timestep.\n",
        "    avg_ret_record: The average return up to step t, where t goes from 0 to n_pulls.\n",
        "    tot_reg_record: The  regret up to step t, where t goes from 0 to n_pulls.\n",
        "  \"\"\"\n",
        "  # init ctr (the estimates) (here we also keep a log of rewards)\n",
        "  ctr = {idx: [ctr_init_val] for idx in range(bandit.n_arm)}\n",
        "  ctr_estimated = [ctr_init_val]*bandit.n_arm\n",
        "\n",
        "  # the total return \n",
        "  ret = .0\n",
        "  rew_record = []\n",
        "  avg_ret_record = []\n",
        "  tot_reg_record = []\n",
        "\n",
        "  opt_ctr = np.max(bandit.actual_ctr)\n",
        "\n",
        "  for t in range(bandit.n_pulls):\n",
        "    # ----------------------------------------------\n",
        "    arm_idx = -1\n",
        "    \n",
        "    if np.random.uniform() >= eps:\n",
        "        # * Exploite the best one so far\n",
        "        curr_opt_ctr = np.max(ctr_estimated)\n",
        "        arm_idx = ctr_estimated.index(curr_opt_ctr)\n",
        "    else:\n",
        "        # * Explore a random one\n",
        "        random_arm = choice(ctr_estimated)\n",
        "        arm_idx = ctr_estimated.index(random_arm)\n",
        "\n",
        "    # Display an ads and check if there's a click\n",
        "    did_click = bandit.pull(arm_idx)\n",
        "\n",
        "    # Save the info\n",
        "    rew_record.append(did_click)\n",
        "    ret += did_click\n",
        "    avg_ret_record.append(ret/(t+1))\n",
        "\n",
        "    # Update the CTR estimate\n",
        "    ctr_estimate = bandit.ctr(arm_idx)\n",
        "    ctr[arm_idx].append(ctr_estimate)\n",
        "    ctr_estimated[arm_idx] = ctr_estimate\n",
        "\n",
        "    curr_reg = (t+1) * opt_ctr - ret\n",
        "    tot_reg_record.append(curr_reg)\n",
        "    \n",
        "    # ----------------------------------------------\n",
        "  # calculate the regret\n",
        "  reg = bandit.n_pulls * opt_ctr - ret\n",
        "\n",
        "\n",
        "  return rew_record, avg_ret_record, tot_reg_record\n"
      ]
    },
    {
      "cell_type": "markdown",
      "metadata": {
        "id": "Knx7oUDmt0rf",
        "pycharm": {
          "name": "#%% md\n"
        }
      },
      "source": [
        "<!-- END QUESTION -->\n",
        "\n",
        "<!-- BEGIN QUESTION -->\n",
        "\n",
        "#### Q1.b2: Plotting the results (5 points)\n",
        "\n",
        "Use the driver code provided to plot:\n",
        "\n",
        "(1) the averaged reward across the $N$=100 runs as a function of the number of pulls (2000 pulls for each run) for all three $eps$ values.\n",
        "\n",
        "(2) the total regret, averaged across the $N$=100 runs as a function of the number of pulls for all three $eps$ values.\n",
        "\n",
        "for three values of $eps$=0.2, 0.05, and 0"
      ]
    },
    {
      "cell_type": "code",
      "execution_count": 6,
      "metadata": {
        "colab": {
          "base_uri": "https://localhost:8080/",
          "height": 803
        },
        "id": "c4IeQOe9oQub",
        "outputId": "704c0469-48ad-469f-b6b6-e66aba923e14",
        "pycharm": {
          "name": "#%%\n"
        }
      },
      "outputs": [
        {
          "output_type": "display_data",
          "data": {
            "text/plain": [
              "<Figure size 432x288 with 1 Axes>"
            ],
            "image/png": "[encoded data removed]"
          },
          "metadata": {
            "needs_background": "light"
          }
        },
        {
          "output_type": "display_data",
          "data": {
            "text/plain": [
              "<Figure size 432x288 with 1 Axes>"
            ],
            "image/png": "[encoded data removed]"
          },
          "metadata": {
            "needs_background": "light"
          }
        },
        {
          "output_type": "display_data",
          "data": {
            "text/plain": [
              "<Figure size 432x288 with 1 Axes>"
            ],
            "image/png": "[encoded data removed]"
          },
          "metadata": {
            "needs_background": "light"
          }
        }
      ],
      "source": [
        "import time\n",
        "plt.figure(0)\n",
        "plt.xlabel(\"n pulls\")\n",
        "plt.ylabel(\"avg return\")\n",
        "plt.figure(1)\n",
        "plt.xlabel(\"n pulls\")\n",
        "plt.ylabel(\"reward\")\n",
        "plt.figure(2)\n",
        "plt.xlabel(\"n pulls\")\n",
        "plt.ylabel(\"total regret\")\n",
        "\n",
        "N = 100\n",
        "tot_reg_rec_best = 1e8\n",
        "\n",
        "for eps in [0.2, 0.05, .0]:\n",
        "  rew_rec = np.zeros(bandit.n_pulls)\n",
        "  avg_ret_rec = np.zeros(bandit.n_pulls)\n",
        "  tot_reg_rec = np.zeros(bandit.n_pulls)\n",
        "  start_time = time.time()\n",
        "  for n in range(N):\n",
        "    rew_rec_n, avg_ret_rec_n, tot_reg_rec_n = eps_greedy(bandit, eps)\n",
        "    rew_rec += np.array(rew_rec_n)\n",
        "    avg_ret_rec += np.array(avg_ret_rec_n)\n",
        "    tot_reg_rec += np.array(tot_reg_rec_n)\n",
        "  end_time = time.time()\n",
        "  # print(f\"time per run: {end_time - start_time}/N\")\n",
        "  # take the mean \n",
        "  rew_rec /= N\n",
        "  avg_ret_rec /= N \n",
        "  tot_reg_rec /= N\n",
        "\n",
        "  plt.figure(0)\n",
        "  plt.plot(avg_ret_rec, label=\"eps={}\".format(eps))\n",
        "  plt.legend(loc=\"lower right\")\n",
        "\n",
        "  plt.figure(1)\n",
        "  plt.plot(rew_rec[1:], label=\"eps={}\".format(eps))\n",
        "  plt.legend(loc=\"lower right\")\n",
        "\n",
        "  plt.figure(2)\n",
        "  plt.plot(tot_reg_rec, label=\"eps={}\".format(eps))\n",
        "  plt.legend(loc=\"lower right\")\n",
        "\n",
        "  if tot_reg_rec[-1] < tot_reg_rec_best:\n",
        "        ep_greedy_dict = {\n",
        "            'reward':avg_ret_rec, \n",
        "            'regret_list':tot_reg_rec\n",
        "        }\n",
        "        tot_reg_rec_best = tot_reg_rec[-1]"
      ]
    },
    {
      "cell_type": "markdown",
      "metadata": {
        "collapsed": false,
        "pycharm": {
          "name": "#%% md\n"
        },
        "id": "7ykstdURRD4D"
      },
      "source": [
        "#### Q1.b3: Analysis (5 points)"
      ]
    },
    {
      "cell_type": "markdown",
      "metadata": {
        "collapsed": false,
        "pycharm": {
          "name": "#%% md\n"
        },
        "id": "Tz3XATnKRD4D"
      },
      "source": [
        "\n",
        "Explain the results from the perspective of exploration and how different $eps$ values affect the results.\n"
      ]
    },
    {
      "cell_type": "markdown",
      "source": [
        "\n",
        "For this implementation of the problem, we obtain that a very small epsilon, which is however not zero, is the best exploration rate. The agent with this epsilon can then find the best bandit relatively quickly and thus focus a large majority of future moves on the best bandit. \n",
        "\n",
        "Having an epsilon of zero is equivalent to taking a random bandit and keeping him without ever exploring. \n",
        "\n",
        "Having a large epsilon does not maximize the gain in this case because the distribution of bandits never changes so once you know who the best bandit is, it is not worth exploring further. However, having more exploration at the beginning will allow to have a better estimation of the different bandits more quickly and thus to have a bigger gain with not many tries. But this advantage is quickly lost because we continue to explore when a smaller epsilon has also found the best distribution\n",
        "\n",
        "For this type of muti bandit problem, an initial exploration phase and then changing the epsilon to 0 would allow to have even more gain"
      ],
      "metadata": {
        "id": "NQ7sdkoaXkKH"
      }
    },
    {
      "cell_type": "markdown",
      "metadata": {
        "collapsed": false,
        "pycharm": {
          "name": "#%% md\n"
        },
        "id": "Zu9pOWZcRD4D"
      },
      "source": [
        "<!-- END QUESTION -->\n",
        "\n",
        "<!-- BEGIN QUESTION -->\n",
        "\n",
        "#### Q1.b4: Optimistic Initial Value (5 points)\n",
        "Run the optimistic initial value method on the same problem described above, for initial action-value estimates (1) Q1(a)=+0.6 for all a (2) Q1(a)=+100 for all a (Hint: You can use the same driver code). Compare its performance, measured by the average reward across $N$=100 runs as a function of the number of pulls, with the non-optimistic setting where Q1(a)=0 for all a. For both optimistic and non-optimistic settings, $eps$=0."
      ]
    },
    {
      "cell_type": "code",
      "execution_count": 7,
      "metadata": {
        "pycharm": {
          "name": "#%%\n"
        },
        "colab": {
          "base_uri": "https://localhost:8080/",
          "height": 803
        },
        "id": "YQBOmSYERD4E",
        "outputId": "cc761bd8-72c7-44d1-9765-7a28f2eca805"
      },
      "outputs": [
        {
          "output_type": "display_data",
          "data": {
            "text/plain": [
              "<Figure size 432x288 with 1 Axes>"
            ],
            "image/png": "[encoded data removed]"
          },
          "metadata": {
            "needs_background": "light"
          }
        },
        {
          "output_type": "display_data",
          "data": {
            "text/plain": [
              "<Figure size 432x288 with 1 Axes>"
            ],
            "image/png": "[encoded data removed]"
          },
          "metadata": {
            "needs_background": "light"
          }
        },
        {
          "output_type": "display_data",
          "data": {
            "text/plain": [
              "<Figure size 432x288 with 1 Axes>"
            ],
            "image/png": "[encoded data removed]"
          },
          "metadata": {
            "needs_background": "light"
          }
        }
      ],
      "source": [
        "plt.figure(3)\n",
        "plt.xlabel(\"n pulls\")\n",
        "plt.ylabel(\"avg return\")\n",
        "\n",
        "plt.figure(4)\n",
        "plt.xlabel(\"n pulls\")\n",
        "plt.ylabel(\"reward\")\n",
        "\n",
        "plt.figure(5)\n",
        "plt.xlabel(\"n pulls\")\n",
        "plt.ylabel(\"total regret\")\n",
        "\n",
        "N = 100\n",
        "for ctr_init_val in [.0, 1, 100]:\n",
        "  rew_rec = np.zeros(bandit.n_pulls)\n",
        "  avg_ret_rec = np.zeros(bandit.n_pulls)\n",
        "  for n in range(N):\n",
        "\n",
        "    rew_rec_n, avg_ret_rec_n, tot_reg_rec_n = eps_greedy(bandit, eps=0, ctr_init_val=ctr_init_val)\n",
        "\n",
        "    rew_rec += np.array(rew_rec_n)\n",
        "    avg_ret_rec += np.array(avg_ret_rec_n)\n",
        "    tot_reg_rec += np.array(tot_reg_rec_n)\n",
        "\n",
        "  avg_ret_rec /= N\n",
        "  rew_rec /= N\n",
        "  tot_reg_rec /= N\n",
        "  plt.figure(3)\n",
        "  plt.plot(avg_ret_rec[1:], label=\"q_init_val={}\".format(ctr_init_val))\n",
        "  plt.legend(loc=\"lower right\")\n",
        "\n",
        "  plt.figure(4)\n",
        "  plt.plot(rew_rec[1:], label=\"q_init_val={}\".format(ctr_init_val))\n",
        "  plt.legend(loc=\"lower right\")\n",
        "\n",
        "  plt.figure(5)\n",
        "  plt.plot(tot_reg_rec[1:], label=\"q_init_val={}\".format(ctr_init_val))\n",
        "  plt.legend(loc=\"lower right\")"
      ]
    },
    {
      "cell_type": "markdown",
      "metadata": {
        "collapsed": false,
        "pycharm": {
          "name": "#%% md\n"
        },
        "id": "bFI-x4YFRD4E"
      },
      "source": [
        "#### Q1.b5: Analysis (5 points)"
      ]
    },
    {
      "cell_type": "markdown",
      "metadata": {
        "collapsed": false,
        "pycharm": {
          "name": "#%% md\n"
        },
        "id": "Kn9F9ADeRD4E"
      },
      "source": [
        "Explain how initial action-value estimates affect the exploration and the performance."
      ]
    },
    {
      "cell_type": "markdown",
      "metadata": {
        "collapsed": false,
        "pycharm": {
          "name": "#%% md\n"
        },
        "id": "eXMeQufQRD4E"
      },
      "source": [
        "having an epsilon of 0, always choosing the bandit with the largest CTR estimate, and having a larger estimate of the CTR at the beginning allows to converge more quickly on the best distribution. This is because the agent will try the best distribution (all with a CTR of 1 and more!) and will lower the value of this one if it fails. \n",
        "\n",
        "This variant of the experiment shows that having a lot of exploration at the beginning and then choosing the distribution with the best CTR estimate has a high chance of maximizing the reward, taking into account that it does not change over time. "
      ]
    },
    {
      "cell_type": "markdown",
      "metadata": {
        "id": "nJe1Q-0ueaY7",
        "pycharm": {
          "name": "#%% md\n"
        }
      },
      "source": [
        "<!-- END QUESTION -->\n",
        "\n",
        "### Q1.c1: Upper-Confidence-Bound action selection (5 points)\n",
        "Implement the UCB algorithm on the same MAB problem as above."
      ]
    },
    {
      "cell_type": "code",
      "execution_count": 53,
      "metadata": {
        "id": "wWDDMQO4T0EO",
        "pycharm": {
          "name": "#%%\n"
        },
        "tags": []
      },
      "outputs": [],
      "source": [
        "def ucb(\n",
        "    bandit: Bandit, \n",
        "    c: float, \n",
        "    ctr_init_val: float = .0\n",
        "    ) -> Tuple[float, float, Sequence[float], Sequence[float]]:\n",
        "  \"\"\"\n",
        "  .inputs: \n",
        "    bandit: A bandit problem, instantiated from the above class.\n",
        "    c: The additional term coefficient.\n",
        "    ctr_init_val: Note the difference between the optimal ctr and ctr. Here we\n",
        "      initialize all the table entries to the same value. \n",
        "  .outputs:\n",
        "    rew_record: The record of rewards at each timestep.\n",
        "    avg_ret_record: The average return up to step t, where t goes from 0 to n_pulls.\n",
        "    tot_reg_record: The  regret up to step t, where t goes from 0 to n_pulls.\n",
        "  \"\"\"\n",
        "  # init ctr (the estimates) (here we also keep a log of rewards)\n",
        "  ctr = {idx: [ctr_init_val] for idx in range(bandit.n_arm)}\n",
        "  ucb_score = {idx: [0] for idx in range(bandit.n_arm)}\n",
        "\n",
        "  # the total return \n",
        "  ret = .0\n",
        "  rew_record = []\n",
        "  avg_ret_record = []\n",
        "  tot_reg_record = []\n",
        "\n",
        "  # the optimal action is the one with max ctr\n",
        "  opt_ctr = np.max(bandit.actual_ctr)\n",
        "\n",
        "  # for numerical stability purposes\n",
        "  eps = 1e-6\n",
        "\n",
        "  for t in range(bandit.n_pulls):\n",
        "    # Assuming to take the first arm always when there is no exploration\n",
        "    # --- UBC Calcul -------------------------------\n",
        "    if t == 0:\n",
        "        # ! Reset the parameter of ours experiment so the agent will use a undiscovered environment\n",
        "        bandit.reset()\n",
        "    curr_ucb_score = []\n",
        "    # Find ubc score for each possible action in that state\n",
        "    t += 1 # for calculation\n",
        "    for idx in range(bandit.n_arm):\n",
        "        upper_confidence = float(\"inf\") if bandit.impressions[idx] == 0 \\\n",
        "            else c * np.sqrt(np.log(t) / (len(ctr[idx])))\n",
        "        curr_ctr_est = ctr[idx][-1]\n",
        "        upper_bound = curr_ctr_est + upper_confidence\n",
        "        \n",
        "        ucb_score[idx].append(upper_bound)\n",
        "        curr_ucb_score.append(upper_bound)\n",
        "    \n",
        "    # Pull from the bandit with the highest upper bound\n",
        "    arm_idx = np.argmax(curr_ucb_score)\n",
        "    did_click = bandit.pull(arm_idx)\n",
        "\n",
        "    # Update the CTR estimate\n",
        "    ctr[arm_idx].append(bandit.ctr(arm_idx))\n",
        "\n",
        "    # Save state\n",
        "    ret += did_click\n",
        "    rew_record.append(did_click)\n",
        "    avg_ret_record.append(ret/t)\n",
        "    reg = t * opt_ctr - ret\n",
        "    tot_reg_record.append(reg)\n",
        "    # ----------------------------------------------\n",
        "    \n",
        "  # calculate the regret\n",
        "  reg = bandit.n_pulls * opt_ctr - ret\n",
        "\n",
        "  return rew_record, avg_ret_record, tot_reg_record"
      ]
    },
    {
      "cell_type": "markdown",
      "metadata": {
        "id": "njJJcTBvmqq1",
        "pycharm": {
          "name": "#%% md\n"
        }
      },
      "source": [
        "#### Q1.c2: Plotting the results (5 points)\n",
        "\n",
        "Use the driver code provided to plot:\n",
        "\n",
        "(1) the averaged reward across the $N$=100 runs as a function of the number of pulls (2000 pulls for each run) for all three $eps$ values.\n",
        "\n",
        "(2) the total regret, averaged across the $N$=100 runs as a function of the number of pulls for all three $eps$ values.\n",
        "\n",
        "for three values of $c$=0.2, 1.0, and 5.0."
      ]
    },
    {
      "cell_type": "code",
      "execution_count": 54,
      "metadata": {
        "colab": {
          "base_uri": "https://localhost:8080/",
          "height": 803
        },
        "id": "NjsHOdnfmkGP",
        "outputId": "6c91a5a1-2e24-4626-ff9a-1ced4e2f44e9",
        "pycharm": {
          "name": "#%%\n"
        }
      },
      "outputs": [
        {
          "output_type": "display_data",
          "data": {
            "text/plain": [
              "<Figure size 432x288 with 1 Axes>"
            ],
            "image/png": "[encoded data removed]"
          },
          "metadata": {
            "needs_background": "light"
          }
        },
        {
          "output_type": "display_data",
          "data": {
            "text/plain": [
              "<Figure size 432x288 with 1 Axes>"
            ],
            "image/png": "[encoded data removed]"
          },
          "metadata": {
            "needs_background": "light"
          }
        },
        {
          "output_type": "display_data",
          "data": {
            "text/plain": [
              "<Figure size 432x288 with 1 Axes>"
            ],
            "image/png": "[encoded data removed]"
          },
          "metadata": {
            "needs_background": "light"
          }
        }
      ],
      "source": [
        "plt.figure(6)\n",
        "plt.xlabel(\"n pulls\")\n",
        "plt.ylabel(\"avg return\")\n",
        "plt.figure(7)\n",
        "plt.xlabel(\"n pulls\")\n",
        "plt.ylabel(\"reward\")\n",
        "plt.figure(8)\n",
        "plt.xlabel(\"n pulls\")\n",
        "plt.ylabel(\"total regret\")\n",
        "\n",
        "N = 100\n",
        "tot_reg_rec_best = 1e8\n",
        "for c in [.2, 1.0, 5.0]:\n",
        "  rew_rec = np.zeros(bandit.n_pulls)\n",
        "  avg_ret_rec = np.zeros(bandit.n_pulls)\n",
        "  tot_reg_rec = np.zeros(bandit.n_pulls)\n",
        "  for n in range(N):\n",
        "    rew_rec_n, avg_ret_rec_n, tot_reg_rec_n = ucb(bandit, c)\n",
        "    rew_rec += np.array(rew_rec_n)\n",
        "    avg_ret_rec += np.array(avg_ret_rec_n)\n",
        "    tot_reg_rec += np.array(tot_reg_rec_n)\n",
        "\n",
        "  # take the mean \n",
        "  rew_rec /= N \n",
        "  avg_ret_rec /= N \n",
        "  tot_reg_rec /= N\n",
        "\n",
        "  plt.figure(6)\n",
        "  plt.plot(avg_ret_rec, label=\"c={}\".format(c))\n",
        "  plt.legend(loc=\"lower right\")\n",
        "\n",
        "  plt.figure(7)\n",
        "  plt.plot(rew_rec, label=\"c={}\".format(c))\n",
        "  plt.legend(loc=\"lower right\")\n",
        "\n",
        "  plt.figure(8)\n",
        "  plt.plot(tot_reg_rec, label=\"c={}\".format(c))\n",
        "  plt.legend(loc=\"lower right\")\n",
        "\n",
        "  if tot_reg_rec[-1] < tot_reg_rec_best:\n",
        "        ucb_dict = {\n",
        "        'reward':avg_ret_rec, \n",
        "        'regret_list':tot_reg_rec,}\n",
        "        tot_reg_rec_best = tot_reg_rec[-1]"
      ]
    },
    {
      "cell_type": "markdown",
      "metadata": {
        "collapsed": false,
        "pycharm": {
          "name": "#%% md\n"
        },
        "id": "aCWq_uPzRD4G"
      },
      "source": [
        "#### Q1.c3: Analysis (5 points)\n"
      ]
    },
    {
      "cell_type": "markdown",
      "metadata": {
        "id": "XamA6umJnR0d",
        "pycharm": {
          "name": "#%% md\n"
        }
      },
      "source": [
        " Explain the results from the perspective of exploration and how different $c$ values affect the results."
      ]
    },
    {
      "cell_type": "markdown",
      "metadata": {
        "collapsed": false,
        "pycharm": {
          "name": "#%% md\n"
        },
        "id": "bdgKULQrRD4G"
      },
      "source": [
        "For this algorithm, we see that the agent explores a lot at the beginning of the simulation and that when it has enough to explore, the exploitation takes over. This is possible thanks to the balance between the CTR estimation of the actions and the exploitation parameter. \n",
        "\n",
        "However, the model must have the right hyperparameter c at initiation for this balance to be achieved. Too high, too much exploration will be done later in the simutation, not enough, the agent will waste time to find the optimal bandit."
      ]
    },
    {
      "cell_type": "markdown",
      "metadata": {
        "id": "8wr6xzewiOXa",
        "pycharm": {
          "name": "#%% md\n"
        }
      },
      "source": [
        "<!-- BEGIN QUESTION -->\n",
        "\n",
        "### Q1.d1: Boltzmann policy (5 points)\n",
        "\n",
        "Implement a Boltzmann policy that gets an array and temprature value ($tau$) and returns an index sampled from the Boltzmann policy."
      ]
    },
    {
      "cell_type": "code",
      "execution_count": 30,
      "metadata": {
        "id": "CLuMx_xFiOXb",
        "pycharm": {
          "name": "#%%\n"
        },
        "tags": []
      },
      "outputs": [],
      "source": [
        "def boltzmann_policy(x, tau):\n",
        "    \"\"\" Returns softmax probabilities with temperature tau\n",
        "        Input:  x -- 1-dimensional array\n",
        "        Output: idx -- chosen index\n",
        "    \"\"\"\n",
        "    # ----------------------------------------------bolt\n",
        "    # P(a_i) = exp(Q_a__I / Tau) / Sum_a_of_A(exp(Q_a / tau))\n",
        "    x = np.array(x)\n",
        "    max = np.max(x) # For numericle stability\n",
        "    exp_x = np.exp((x)/tau)\n",
        "    sum = np.sum(exp_x / tau)\n",
        "    p = exp_x / sum\n",
        "\n",
        "    idx = np.random.choice([idx for idx in range(len(x))], p=p/p.sum())\n",
        "    # ----------------------------------------------\n",
        "    return idx"
      ]
    },
    {
      "cell_type": "markdown",
      "metadata": {
        "id": "kYLEgjSYuGoY",
        "pycharm": {
          "name": "#%% md\n"
        }
      },
      "source": [
        "<!-- END QUESTION -->\n",
        "\n",
        "<!-- BEGIN QUESTION -->\n",
        "\n",
        "### Q1.d2: Boltzmann algorithm (5 points)\n",
        "\n",
        "Evaluate the Boltzmann algorithm on the same MAB problem as above, for three values of the parameters $tau$: $0.01$, $0.1$, and $1$. Use the driver code provided to plot their performances as measured by the average reward across $N$=100 runs as a function of the number of pulls."
      ]
    },
    {
      "cell_type": "code",
      "execution_count": 32,
      "metadata": {
        "id": "uzlVfqvGiOXb",
        "pycharm": {
          "name": "#%%\n"
        },
        "tags": []
      },
      "outputs": [],
      "source": [
        "def boltzmann(\n",
        "    bandit: Bandit,\n",
        "    tau: float = 0.1,\n",
        "    ctr_init_val: float = .0\n",
        "    ) -> Tuple[float, float, Sequence[float], Sequence[float]]:\n",
        "  \"\"\"\n",
        "  .inputs: \n",
        "    bandit: A bandit problem, instantiated from the above class.\n",
        "    c: The additional term coefficient.\n",
        "    ctr_init_val: Note the difference between the q_star and q. Here we\n",
        "      initialize all the table entries to the same value. \n",
        "  .outputs:\n",
        "    rew_record: The record of rewards at each timestep.\n",
        "    avg_ret_record: The average return up to step t, where t goes from 0 to n_pulls.\n",
        "    tot_reg_record: The  regret up to step t, where t goes from 0 to n_pulls.\n",
        "  \"\"\"\n",
        "  # init q (the estimates) (here we also keep a log of rewards)\n",
        "  ctr = {idx: [ctr_init_val] for idx in range(bandit.n_arm)}\n",
        "  ctr_estimated = [ctr_init_val]*bandit.n_arm\n",
        "\n",
        "  # the total return \n",
        "  ret = .0\n",
        "  rew_record = []\n",
        "  avg_ret_record = []\n",
        "  tot_reg_record = []\n",
        "\n",
        "  # equal q_star variance --> the optimal action is the one with max q_star_mean\n",
        "  opt_ctr = np.max(bandit.actual_ctr)\n",
        "\n",
        "  for t in range(bandit.n_pulls):\n",
        "    # ----------------------------------------------\n",
        "    # Pull from the bandit based on boltzmann policy\n",
        "    arm_idx = boltzmann_policy(ctr_estimated, tau)\n",
        "    did_click = bandit.pull(arm_idx)\n",
        "\n",
        "    # Update the CTR estimate\n",
        "    ctr[arm_idx].append(bandit.ctr(arm_idx))\n",
        "\n",
        "        # Update the CTR estimate\n",
        "    ctr_estimated[arm_idx] = bandit.ctr(arm_idx)\n",
        "    ctr[arm_idx].append(ctr_estimated[arm_idx])\n",
        "    \n",
        "    # Save state\n",
        "    t = t + 1\n",
        "    ret += did_click\n",
        "    rew_record.append(did_click)\n",
        "    avg_ret_record.append(ret/t)\n",
        "    reg = t * opt_ctr - ret\n",
        "    tot_reg_record.append(reg)\n",
        "    # ----------------------------------------------\n",
        "  # calculate the regret\n",
        "  reg = bandit.n_pulls * opt_ctr - ret\n",
        "\n",
        "  return rew_record, avg_ret_record, tot_reg_record"
      ]
    },
    {
      "cell_type": "markdown",
      "metadata": {
        "collapsed": false,
        "pycharm": {
          "name": "#%% md\n"
        },
        "id": "nZ4S-iaQRD4H"
      },
      "source": [
        "#### Q1.d3: Plotting the results (5 points)"
      ]
    },
    {
      "cell_type": "code",
      "execution_count": 34,
      "metadata": {
        "colab": {
          "base_uri": "https://localhost:8080/",
          "height": 803
        },
        "id": "EWarVGeKiOXb",
        "outputId": "9f6852ee-2f15-4058-ce03-afd3cc0d4c98",
        "pycharm": {
          "name": "#%%\n"
        },
        "scrolled": true
      },
      "outputs": [
        {
          "output_type": "display_data",
          "data": {
            "text/plain": [
              "<Figure size 432x288 with 1 Axes>"
            ],
            "image/png": "[encoded data removed]"
          },
          "metadata": {
            "needs_background": "light"
          }
        },
        {
          "output_type": "display_data",
          "data": {
            "text/plain": [
              "<Figure size 432x288 with 1 Axes>"
            ],
            "image/png": "[encoded data removed]"
          },
          "metadata": {
            "needs_background": "light"
          }
        },
        {
          "output_type": "display_data",
          "data": {
            "text/plain": [
              "<Figure size 432x288 with 1 Axes>"
            ],
            "image/png": "[encoded data removed]"
          },
          "metadata": {
            "needs_background": "light"
          }
        }
      ],
      "source": [
        "plt.figure(9)\n",
        "plt.xlabel(\"n pulls\")\n",
        "plt.ylabel(\"avg return\")\n",
        "plt.figure(10)\n",
        "plt.xlabel(\"n pulls\")\n",
        "plt.ylabel(\"reward\")\n",
        "plt.figure(11)\n",
        "plt.xlabel(\"n pulls\")\n",
        "plt.ylabel(\"total regret\")\n",
        "\n",
        "N = 100\n",
        "tot_reg_rec_best = 1e8\n",
        "for tau in [0.01, 0.1, 1]:\n",
        "  rew_rec = np.zeros(bandit.n_pulls)\n",
        "  avg_ret_rec = np.zeros(bandit.n_pulls)\n",
        "  tot_reg_rec = np.zeros(bandit.n_pulls)\n",
        "  for n in range(N):\n",
        "    rew_rec_n, avg_ret_rec_n, tot_reg_rec_n = boltzmann(bandit, tau=tau)\n",
        "    rew_rec += np.array(rew_rec_n)\n",
        "    avg_ret_rec += np.array(avg_ret_rec_n)\n",
        "    tot_reg_rec += np.array(tot_reg_rec_n)\n",
        "\n",
        "  # take the mean \n",
        "  rew_rec /= N \n",
        "  avg_ret_rec /= N \n",
        "  tot_reg_rec /= N\n",
        "\n",
        "  plt.figure(9)\n",
        "  plt.plot(avg_ret_rec, label=\"tau={}\".format(tau))\n",
        "  plt.legend(loc=\"lower right\")\n",
        "\n",
        "  plt.figure(10)\n",
        "  plt.plot(rew_rec, label=\"tau={}\".format(tau))\n",
        "  plt.legend(loc=\"lower right\")\n",
        "\n",
        "  plt.figure(11)\n",
        "  plt.plot(tot_reg_rec, label=\"tau={}\".format(tau))\n",
        "  plt.legend(loc=\"lower right\")\n",
        "\n",
        "  if tot_reg_rec[-1] < tot_reg_rec_best:\n",
        "        boltzmann_dict = {\n",
        "        'reward':avg_ret_rec, \n",
        "        'regret_list':tot_reg_rec,}\n",
        "        tot_reg_rec_best = tot_reg_rec[-1]"
      ]
    },
    {
      "cell_type": "markdown",
      "metadata": {
        "collapsed": false,
        "pycharm": {
          "name": "#%% md\n"
        },
        "id": "MM01y572RD4H"
      },
      "source": [
        "#### Q1.d4: Analysis (5 points)"
      ]
    },
    {
      "cell_type": "markdown",
      "metadata": {
        "collapsed": false,
        "pycharm": {
          "name": "#%% md\n"
        },
        "id": "w3-y_jjaRD4I"
      },
      "source": [
        " Explain the role of $tau$ paramtere on the results."
      ]
    },
    {
      "cell_type": "markdown",
      "metadata": {
        "collapsed": false,
        "pycharm": {
          "name": "#%% md\n"
        },
        "id": "YsmDrA6QRD4I"
      },
      "source": [
        "For Boltzmaan's method, the tau parameter is a hyper parameter. If it is well initialized, the algorithm will be able to find a way to maximize its reward. On the other hand, being too large or too small, the algorithm will do too much or really not enough exploration and the reward will not be maximized"
      ]
    },
    {
      "cell_type": "markdown",
      "metadata": {
        "id": "zQZMb1XAiOXc",
        "pycharm": {
          "name": "#%% md\n"
        }
      },
      "source": [
        "<!-- END QUESTION -->\n",
        "\n",
        "<!-- BEGIN QUESTION -->\n",
        "\n",
        "### Q1.f1: Final comaprison (5 points)\n",
        "Compare the performance of $\\epsilon$-greedy, UCB and Boltzmann algorithms in single plot  as measured by the average reward and total regret across $N$=100 runs as a function of the number of pulls."
      ]
    },
    {
      "cell_type": "code",
      "execution_count": 35,
      "metadata": {
        "colab": {
          "base_uri": "https://localhost:8080/",
          "height": 558
        },
        "id": "NQDZsBJNiOXc",
        "outputId": "5ca824d6-23ef-4f50-bfd8-ee78b43ca0a0",
        "pycharm": {
          "name": "#%%\n"
        }
      },
      "outputs": [
        {
          "output_type": "execute_result",
          "data": {
            "text/plain": [
              "Text(0, 0.5, 'total regret')"
            ]
          },
          "metadata": {},
          "execution_count": 35
        },
        {
          "output_type": "display_data",
          "data": {
            "text/plain": [
              "<Figure size 432x288 with 1 Axes>"
            ],
            "image/png": "[encoded data removed]"
          },
          "metadata": {
            "needs_background": "light"
          }
        },
        {
          "output_type": "display_data",
          "data": {
            "text/plain": [
              "<Figure size 432x288 with 1 Axes>"
            ],
            "image/png": "[encoded data removed]"
          },
          "metadata": {
            "needs_background": "light"
          }
        }
      ],
      "source": [
        "plt.figure(12)\n",
        "plt.plot(ep_greedy_dict[\"reward\"], label=\"e-greedy\")\n",
        "plt.legend(loc=\"lower right\")\n",
        "plt.plot(ucb_dict[\"reward\"], label=\"UCB\")\n",
        "plt.legend(loc=\"lower right\")\n",
        "plt.plot(boltzmann_dict[\"reward\"], label=\"Boltzmann\")\n",
        "plt.legend(loc=\"lower right\")\n",
        "plt.xlabel(\"n pulls\")\n",
        "plt.ylabel(\"avg return\")\n",
        "\n",
        "plt.figure(13)\n",
        "plt.plot(ep_greedy_dict[\"regret_list\"], label=\"e-greedy\")\n",
        "plt.legend(loc=\"lower right\")\n",
        "plt.plot(ucb_dict[\"regret_list\"], label=\"UCB\")\n",
        "plt.legend(loc=\"lower right\")\n",
        "plt.plot(boltzmann_dict[\"regret_list\"], label=\"Boltzmann\")\n",
        "plt.legend(loc=\"lower right\")\n",
        "plt.xlabel(\"n pulls\")\n",
        "plt.ylabel(\"total regret\")"
      ]
    },
    {
      "cell_type": "markdown",
      "metadata": {
        "collapsed": false,
        "pycharm": {
          "name": "#%% md\n"
        },
        "id": "tl39wMTURD4I"
      },
      "source": [
        "#### Q1.f2: Analysis (5 points)"
      ]
    },
    {
      "cell_type": "markdown",
      "metadata": {
        "collapsed": false,
        "pycharm": {
          "name": "#%% md\n"
        },
        "id": "l6SGMzRrRD4I"
      },
      "source": [
        "Comapre all the algorithms in terms of the performance."
      ]
    },
    {
      "cell_type": "markdown",
      "metadata": {
        "collapsed": false,
        "pycharm": {
          "name": "#%% md\n"
        },
        "id": "GbDzB6Q6RD4J"
      },
      "source": [
        "For the three algorithms tested, the best for our case is UCB. Despite the fact that e-greedy has a better average return for our experiments and that its total regret is lower, UCB has a total regret curve that has stabilized. UCB's total regret increases very quickly at the beginning, but increases less and less quickly thereafter, unlike e-greedy which increases linearly. \n",
        "\n",
        "The Boltzmann algorithm did not work very well in our case (with the hyper-parameters we were asked to use), but I suspect that it could perform better if we took the time to find the best hyper-parameter for this situation"
      ]
    },
    {
      "cell_type": "code",
      "execution_count": 36,
      "metadata": {
        "pycharm": {
          "name": "#%%\n"
        },
        "id": "BY2Hh20oRD4J"
      },
      "outputs": [],
      "source": [
        "plt.close('all')"
      ]
    },
    {
      "cell_type": "markdown",
      "metadata": {
        "id": "2TrkqYbVLA_R",
        "pycharm": {
          "name": "#%% md\n"
        }
      },
      "source": [
        "<!-- END QUESTION -->\n",
        "\n",
        "## Q2: Dynamic Programming (60 points)"
      ]
    },
    {
      "cell_type": "markdown",
      "metadata": {
        "id": "zD_kdWpyiOXd",
        "pycharm": {
          "name": "#%% md\n"
        }
      },
      "source": [
        "Now you will implement value iteration and policy iteration for the Frozen Lake environment and evaluate them on both its deterministic and stochastic versions.\n",
        "\n",
        "Consider a variation of the FrozenLake-v0 environment from the OpenAI gym library. The agent controls the movement of a character in a grid world. Some tiles of the frozen and walkable (F), while others are holes in the lake (H) that lead to the agent falling into the water. The states are denoted as: S = {0, 1, 2, . . . , 14, 15} for a 4x4 lake. The agent starts on a starting tile $(S)$, and its goal is to find the fastest\n",
        "walkable path to a goal tile $(G)$. The agent can move in the four cardinal directions, $A$ = {left, down, right, up}, but the floor is slippery! Given a slip rate of 0 ≤ $\\epsilon$ < 1, the agent will go in a random wrong direction with probability $\\epsilon$. The reward is −1 on all transitions, except for three cases that all result in the episode terminating:\n",
        "(1) The agent falling into a hole nets the agent a reward of −100,\n",
        "(2) The agent takes over 100 steps, all the ice melts and the agent gets a reward of −200, and\n",
        "(3) The agent reaches the goal state, rewarding it a reward of 0. The discount factor for this environment\n",
        "should be set to γ = 0.99. The environment is implemented for you:"
      ]
    },
    {
      "cell_type": "code",
      "execution_count": 1,
      "metadata": {
        "id": "ta61joVEMm9F",
        "pycharm": {
          "name": "#%%\n"
        },
        "scrolled": true
      },
      "outputs": [],
      "source": [
        "#@title FrozenLake\n",
        "import sys\n",
        "from contextlib import closing\n",
        "\n",
        "import numpy as np\n",
        "from io import StringIO\n",
        "\n",
        "from gym import utils\n",
        "\n",
        "from gym import Env, spaces\n",
        "from gym.utils import seeding\n",
        "LEFT = 0\n",
        "DOWN = 1\n",
        "RIGHT = 2\n",
        "UP = 3\n",
        "discount=0.99\n",
        "\n",
        "MAPS = {\n",
        "    \"2x2\": [\"SF\", \"HG\"],\n",
        "    \"4x4-easy\":[\"SFFF\", \"FHFF\", \"FFFF\", \"HFFG\"],\n",
        "    \"4x4\": [\"SFFF\", \"FHFH\", \"FFFH\", \"HFFG\"],\n",
        "    \"8x8\": [\n",
        "        \"SFFFFFFF\",\n",
        "        \"FFFFFFFF\",\n",
        "        \"FFFHFFFF\",\n",
        "        \"FFFFFHFF\",\n",
        "        \"FFFHFFFF\",\n",
        "        \"FHHFFFHF\",\n",
        "        \"FHFFHFHF\",\n",
        "        \"FFFHFFFG\",\n",
        "    ],\n",
        "}\n",
        "\n",
        "\n",
        "\n",
        "def categorical_sample(prob_n, np_random):\n",
        "    \"\"\"\n",
        "    Sample from categorical distribution\n",
        "    Each row specifies class probabilities\n",
        "    \"\"\"\n",
        "    prob_n = np.asarray(prob_n)\n",
        "    csprob_n = np.cumsum(prob_n)\n",
        "    return (csprob_n > np_random.rand()).argmax()\n",
        "\n",
        "\n",
        "class DiscreteEnv(Env):\n",
        "\n",
        "    \"\"\"\n",
        "    Has the following members\n",
        "    - nS: number of states\n",
        "    - nA: number of actions\n",
        "    - P: transitions (*)\n",
        "    - isd: initial state distribution (**)\n",
        "    (*) dictionary of lists, where\n",
        "      P[s][a] == [(probability, nextstate, reward, done), ...]\n",
        "    (**) list or array of length nS\n",
        "    \"\"\"\n",
        "\n",
        "    def __init__(self, nS, nA, P, isd, max_length=100):\n",
        "        self.P = P\n",
        "        self.isd = isd\n",
        "        self.lastaction = None  # for rendering\n",
        "        self.nS = nS\n",
        "        self.nA = nA\n",
        "\n",
        "        self.action_space = spaces.Discrete(self.nA)\n",
        "        self.observation_space = spaces.Discrete(self.nS)\n",
        "\n",
        "        self.seed()\n",
        "        self.s = categorical_sample(self.isd, self.np_random)\n",
        "        self.max_length = max_length\n",
        "\n",
        "    def seed(self, seed=None):\n",
        "        self.np_random, seed = seeding.np_random(seed)\n",
        "        return [seed]\n",
        "\n",
        "    def reset(self):\n",
        "        self.s = categorical_sample(self.isd, self.np_random)\n",
        "        self.lastaction = None\n",
        "        self.t = 0\n",
        "        return int(self.s)\n",
        "\n",
        "    def step(self, a):\n",
        "        transitions = self.P[self.s][a]\n",
        "        i = categorical_sample([t[0] for t in transitions], self.np_random)\n",
        "        p, s, r, d = transitions[i]\n",
        "        self.s = s\n",
        "        self.lastaction = a\n",
        "        if self.t >= self.max_length:\n",
        "            d = True\n",
        "            r = -200\n",
        "        self.t += 1\n",
        "        return (int(s), r, d, {\"prob\": p})\n",
        "\n",
        "def generate_random_map(size=8, p=0.8):\n",
        "    \"\"\"Generates a random valid map (one that has a path from start to goal)\n",
        "    :param size: size of each side of the grid\n",
        "    :param p: probability that a tile is frozen\n",
        "    \"\"\"\n",
        "    valid = False\n",
        "\n",
        "    # DFS to check that it's a valid path.\n",
        "    def is_valid(res):\n",
        "        frontier, discovered = [], set()\n",
        "        frontier.append((0, 0))\n",
        "        while frontier:\n",
        "            r, c = frontier.pop()\n",
        "            if not (r, c) in discovered:\n",
        "                discovered.add((r, c))\n",
        "                directions = [(1, 0), (0, 1), (-1, 0), (0, -1)]\n",
        "                for x, y in directions:\n",
        "                    r_new = r + x\n",
        "                    c_new = c + y\n",
        "                    if r_new < 0 or r_new >= size or c_new < 0 or c_new >= size:\n",
        "                        continue\n",
        "                    if res[r_new][c_new] == \"G\":\n",
        "                        return True\n",
        "                    if res[r_new][c_new] != \"H\":\n",
        "                        frontier.append((r_new, c_new))\n",
        "        return False\n",
        "\n",
        "    while not valid:\n",
        "        p = min(1, p)\n",
        "        res = np.random.choice([\"F\", \"H\"], (size, size), p=[p, 1 - p])\n",
        "        res[0][0] = \"S\"\n",
        "        res[-1][-1] = \"G\"\n",
        "        valid = is_valid(res)\n",
        "    return [\"\".join(x) for x in res]\n",
        "\n",
        "\n",
        "class FrozenLakeEnv(DiscreteEnv):\n",
        "    \"\"\"\n",
        "    Winter is here. You and your friends were tossing around a frisbee at the\n",
        "    park when you made a wild throw that left the frisbee out in the middle of\n",
        "    the lake. The water is mostly frozen, but there are a few holes where the\n",
        "    ice has melted. If you step into one of those holes, you'll fall into the\n",
        "    freezing water. At this time, there's an international frisbee shortage, so\n",
        "    it's absolutely imperative that you navigate across the lake and retrieve\n",
        "    the disc. However, the ice is slippery, so you won't always move in the\n",
        "    direction you intend.\n",
        "    The surface is described using a grid like the following\n",
        "        SFFF\n",
        "        FHFH\n",
        "        FFFH\n",
        "        HFFG\n",
        "    S : starting point, safe\n",
        "    F : frozen surface, safe\n",
        "    H : hole, fall to your doom\n",
        "    G : goal, where the frisbee is located\n",
        "    The episode ends when you reach the goal or fall in a hole.\n",
        "    You receive a reward of 1 if you reach the goal, and zero otherwise.\n",
        "    \"\"\"\n",
        "\n",
        "    metadata = {\"render.modes\": [\"human\", \"ansi\"]}\n",
        "\n",
        "    def __init__(self, desc=None, map_name=\"4x4\", slip_rate=0.5):\n",
        "        if desc is None and map_name is None:\n",
        "            desc = generate_random_map()\n",
        "        elif desc is None:\n",
        "            desc = MAPS[map_name]\n",
        "        self.desc = desc = np.asarray(desc, dtype=\"c\")\n",
        "        self.nrow, self.ncol = nrow, ncol = desc.shape\n",
        "        self.reward_range = (0, 1)\n",
        "        self.slip_rate=slip_rate\n",
        "\n",
        "        nA = 4\n",
        "        nS = nrow * ncol\n",
        "\n",
        "        isd = np.array(desc == b\"S\").astype(\"float64\").ravel()\n",
        "        isd /= isd.sum()\n",
        "\n",
        "        P = {s: {a: [] for a in range(nA)} for s in range(nS)}\n",
        "\n",
        "        def to_s(row, col):\n",
        "            return row * ncol + col\n",
        "\n",
        "        def inc(row, col, a):\n",
        "            if a == LEFT:\n",
        "                col = max(col - 1, 0)\n",
        "            elif a == DOWN:\n",
        "                row = min(row + 1, nrow - 1)\n",
        "            elif a == RIGHT:\n",
        "                col = min(col + 1, ncol - 1)\n",
        "            elif a == UP:\n",
        "                row = max(row - 1, 0)\n",
        "            return (row, col)\n",
        "\n",
        "        def update_probability_matrix(row, col, action):\n",
        "            newrow, newcol = inc(row, col, action)\n",
        "            newstate = to_s(newrow, newcol)\n",
        "            newletter = desc[newrow, newcol]\n",
        "            done = bytes(newletter) in b\"GH\"\n",
        "            # reward = float(newletter == b\"G\")\n",
        "            reward = -1\n",
        "            # if newletter == b\"H\":\n",
        "            #     reward = -100\n",
        "            done = False\n",
        "            return newstate, reward, done\n",
        "\n",
        "        for row in range(nrow):\n",
        "            for col in range(ncol):\n",
        "                s = to_s(row, col)\n",
        "                for a in range(4):\n",
        "                    li = P[s][a]\n",
        "                    letter = desc[row, col]\n",
        "                    if letter == b\"G\":\n",
        "                        li.append((1, s, 0, True))\n",
        "                    elif letter == b'H':\n",
        "                        li.append((1, s, -100, True))\n",
        "                    else:\n",
        "                        if slip_rate > 0:\n",
        "                            li.append((slip_rate/2.0, *update_probability_matrix(row, col, (a - 1) % 4)))\n",
        "                            li.append((1 - slip_rate, *update_probability_matrix(row, col, a)))\n",
        "                            li.append((slip_rate/2.0, *update_probability_matrix(row, col, (a + 1) % 4)))\n",
        "                        else:\n",
        "                            li.append((1, *update_probability_matrix(row, col, a)))\n",
        "\n",
        "        super(FrozenLakeEnv, self).__init__(nS, nA, P, isd)\n",
        "\n",
        "    def render(self, mode=\"human\"):\n",
        "        outfile = StringIO() if mode == \"ansi\" else sys.stdout\n",
        "\n",
        "        row, col = self.s // self.ncol, self.s % self.ncol\n",
        "        desc = self.desc.tolist()\n",
        "        desc = [[c.decode(\"utf-8\") for c in line] for line in desc]\n",
        "        desc[row][col] = utils.colorize(desc[row][col], \"red\", highlight=True)\n",
        "        if self.lastaction is not None:\n",
        "            outfile.write(\n",
        "                \"  ({})\\n\".format([\"Left\", \"Down\", \"Right\", \"Up\"][self.lastaction])\n",
        "            )\n",
        "        else:\n",
        "            outfile.write(\"\\n\")\n",
        "        outfile.write(\"\\n\".join(\"\".join(line) for line in desc) + \"\\n\")\n",
        "\n",
        "        if mode != \"human\":\n",
        "            with closing(outfile):\n",
        "                return outfile.getvalue()"
      ]
    },
    {
      "cell_type": "markdown",
      "metadata": {
        "collapsed": false,
        "pycharm": {
          "name": "#%% md\n"
        },
        "id": "2mTbna5eRD4K"
      },
      "source": [
        "#### Q2.a Generate an episode (5 points):\n",
        "Complete the code below to generate an episode and return total rewards and number of steps during the episode."
      ]
    },
    {
      "cell_type": "code",
      "execution_count": 145,
      "metadata": {
        "pycharm": {
          "name": "#%%\n"
        },
        "tags": [],
        "id": "gaVgT1MXRD4K"
      },
      "outputs": [],
      "source": [
        "def generate_episode(policy, env, render=False):\n",
        "    rewards = []\n",
        "    done = False\n",
        "\n",
        "    current_state = env.reset()\n",
        "    steps = 0\n",
        "    # ----------------------------------------------\n",
        "    if render:\n",
        "        env.render()\n",
        "\n",
        "    while True:\n",
        "        # Do an action base on the policy\n",
        "        action_proba = policy[current_state]\n",
        "        action = categorical_sample(action_proba, env.np_random)\n",
        "        next_state, reward, done, prob = env.step(action)\n",
        "\n",
        "        if render:\n",
        "            env.render()\n",
        "\n",
        "        # print(f\"Action taken: {action} \\n {prob} \\n {next_state} \\n {reward} \\n {done}\")\n",
        "        \n",
        "        # Save values\n",
        "        rewards.append(reward)\n",
        "        current_state = next_state\n",
        "\n",
        "        # Update step number and check limit (2)\n",
        "        steps += 1\n",
        "        if steps == 100:\n",
        "            rewards.append(-200)\n",
        "            done = True\n",
        "\n",
        "        # Check if game is done\n",
        "        if done: \n",
        "            break\n",
        "\n",
        "    episode_return = np.sum(rewards)\n",
        "    # ----------------------------------------------\n",
        "    return episode_return, steps"
      ]
    },
    {
      "cell_type": "markdown",
      "metadata": {
        "id": "GuH3jpUZLpNN",
        "pycharm": {
          "name": "#%% md\n"
        }
      },
      "source": [
        "#### Q2.b Tabular Policy iteration Implementation (15 points):\n",
        "Implement policy_evaluation, policy_improvement and policy_iteration. policy_iteration runs the policy for 300 iterations while running  policy_evaluation and policy_improvement evey 5 episodes. Return the optimal value function and the optimal policy."
      ]
    },
    {
      "cell_type": "code",
      "execution_count": 162,
      "metadata": {
        "id": "x2Yq66n6GpDA",
        "pycharm": {
          "name": "#%%\n"
        },
        "tags": []
      },
      "outputs": [],
      "source": [
        "from collections.abc import ValuesView\n",
        "#title\n",
        "###########################################\n",
        "##### ALL FUCTIONS FOR POLICY ITERATION ###\n",
        "###########################################\n",
        "\n",
        "def greedify_policy(Q_vals, tolerance=1e-9):\n",
        "    '''\n",
        "    chooses the optimal action at each step such that the agent moves to the state with the maximum value\n",
        "    arguments:\n",
        "        Q_vals - vector that stores the values of next states for each action\n",
        "    return:\n",
        "        greedy_policy - the greedified policy, a matrix containing prob of actions\n",
        "    '''\n",
        "    max_Q = np.max(Q_vals)\n",
        "    greedy_policy = np.zeros(len(Q_vals))\n",
        "    for action in range(len(Q_vals)):\n",
        "        if np.abs(Q_vals[action]-max_Q)<=tolerance:\n",
        "            greedy_policy[action] = 1.\n",
        "    greedy_policy /= np.sum(greedy_policy)\n",
        "    return greedy_policy\n",
        "\n",
        "\n",
        "def policy_evaluation(environment, policy, theta=1e-8):\n",
        "    '''\n",
        "    Computes the value function for a given policy\n",
        "    arguments:\n",
        "        environment - class instance of an MDP environment\n",
        "        policy - the policy for which value function is to be evaluated\n",
        "        theta - tolerance level to decide convergence\n",
        "    return:\n",
        "        Value_fn - the estimated value of each state, evaluated for given policy\n",
        "    '''\n",
        "    Value_fn = np.zeros(environment.observation_space.n)\n",
        "    # ----------------------------------------------\n",
        "    while True:\n",
        "        delta = 0\n",
        "        for state in range(environment.observation_space.n):\n",
        "            v = 0\n",
        "            # V(s) <- Sum_a pi(a|s) Sum_s'_r P(s',r|s,a)[r+yV(s')]\n",
        "            for action in range(environment.nA):\n",
        "                action_prob = policy[state][action]\n",
        "                for prob, next_state, reward, done in environment.P[state][action]:\n",
        "                    v += action_prob * prob * (reward + discount * Value_fn[next_state])\n",
        "\n",
        "            delta = max(delta, np.abs(v - Value_fn[state]))\n",
        "            Value_fn[state] = v\n",
        "        if delta < theta:\n",
        "            break\n",
        "    # ----------------------------------------------\n",
        "    return Value_fn\n",
        "\n",
        "\n",
        "def policy_improvement(environment, Value_fn, curr_policy):\n",
        "    '''\n",
        "    Decides a new policy based on given value function\n",
        "    arguments:\n",
        "        environment - class instance of an MDP environment\n",
        "        Value_fn - estimated value of each state\n",
        "        curr_policy - present policy\n",
        "    return:\n",
        "        curr_policy - updated policy\n",
        "        policy_stable - True/False flag indicating if policy was changed\n",
        "    '''\n",
        "    # ----------------------------------------------\n",
        "    policy_stable = True\n",
        "    for state in range(environment.observation_space.n):\n",
        "        # action taken under current policy\n",
        "        old_action = np.argmax(curr_policy[state])\n",
        "\n",
        "        # pi(s) <- argmax_a(Sum_s'_r(P(s',r|s,a)[r+yV(s')]))\n",
        "        potential_reward = np.zeros(environment.nA)\n",
        "        for action in range(environment.nA):\n",
        "            for prob, next_state, reward, done in environment.P[state][action]:\n",
        "                potential_reward[action] = prob * (reward + discount * Value_fn[next_state])\n",
        "        new_action = np.argmax(potential_reward)\n",
        "\n",
        "        curr_policy[state] = np.eye(environment.nA)[new_action]\n",
        "\n",
        "        if old_action != new_action:\n",
        "            policy_stable = False   \n",
        "    # ----------------------------------------------\n",
        "    return curr_policy, policy_stable\n",
        "\n",
        "\n",
        "def policy_iteration_with_performance(environment, theta=1e-8, iterations=90, train_steps=1, test_steps=5):\n",
        "    '''\n",
        "    Runs the tabular policy iteration algorithm for given iterations and returns cumulative reward and total steps at each iteration\n",
        "    arguments:\n",
        "        environment - class instance of an MDP environment\n",
        "        theta - tolerance level to decide convergence\n",
        "        iterations - number of iterations to run the algorithm\n",
        "        train_steps - number of consecutive iterations to update the value function and policy\n",
        "        test_steps - number of consecutive iterations to evaluate the current policy in the environment\n",
        "    return:\n",
        "        cumulative_reward_array - array of cumulative reward at each step (both train and test included)\n",
        "        total_steps_array - array of total number of steps at each step (both train and test included)\n",
        "    '''\n",
        "    n_steps = train_steps+test_steps\n",
        "    V = np.zeros(environment.nS)\n",
        "    pi = np.random.rand(environment.nS,environment.nA)\n",
        "    pi = pi/pi.sum(axis=1,keepdims=True)\n",
        "    cumulative_reward_array = np.zeros(iterations)\n",
        "    total_steps_array = np.zeros(iterations)\n",
        "    for iter in range(iterations):\n",
        "        cumulative_reward_array[iter], total_steps_array[iter] = generate_episode(pi, environment)\n",
        "        if (iter%n_steps)>=test_steps:\n",
        "            # ----------------------------------------------\n",
        "            for _ in range(train_steps):\n",
        "                V = policy_evaluation(environment, pi, theta)\n",
        "            for _ in range(test_steps):\n",
        "                pi, _ = policy_improvement(environment, V, pi)\n",
        "            # ----------------------------------------------\n",
        "\n",
        "    return cumulative_reward_array, total_steps_array, V, pi\n",
        "\n",
        "def plot_performance_policy_iteration(env, iterations=90, train_steps=1, test_steps=5, num_seeds=5):\n",
        "    '''\n",
        "    Plots the performance metrics of tabular policy iteration algorithm\n",
        "    arguments:\n",
        "        env - MDP environment\n",
        "        iterations - number of iterations to run the algorithm\n",
        "        train_steps - number of consecutive iterations to update the value function and policy\n",
        "        test_steps - number of consecutive iterations to evaluate the current policy in the environment\n",
        "    return:\n",
        "        \n",
        "    '''\n",
        "    cumulative_reward_array_train_plot = []\n",
        "    cumulative_reward_array_test_plot = []\n",
        "    total_steps_array_train_plot = []\n",
        "    total_steps_array_test_plot = []\n",
        "    for seed in range(num_seeds):\n",
        "        np.random.seed(seed)\n",
        "        env.seed(seed)\n",
        "        cumulative_reward_array, total_steps_array, V, pi = policy_iteration_with_performance(env,theta=1e-3,iterations=iterations,train_steps=train_steps,test_steps=test_steps)\n",
        "        all_idx = np.array(list(range(iterations)))\n",
        "        train_idx = np.array([i for i in range(iterations) if i%(train_steps+test_steps)>=test_steps])\n",
        "        test_idx = np.setdiff1d(all_idx,train_idx)\n",
        "        cumulative_reward_array_train = cumulative_reward_array[train_idx]\n",
        "        cumulative_reward_array_test = cumulative_reward_array[test_idx].reshape(-1,test_steps).mean(axis=1)\n",
        "        total_steps_array_train = total_steps_array[train_idx]\n",
        "        total_steps_array_test = total_steps_array[test_idx].reshape(-1,test_steps).mean(axis=1)\n",
        "        cumulative_reward_array_train_plot.append(cumulative_reward_array_train)\n",
        "        cumulative_reward_array_test_plot.append(cumulative_reward_array_test)\n",
        "        total_steps_array_train_plot.append(total_steps_array_train)\n",
        "        total_steps_array_test_plot.append(total_steps_array_test)\n",
        "        \n",
        "    cumulative_reward_array_train_plot = np.array(cumulative_reward_array_train_plot)\n",
        "    cumulative_reward_array_test_plot = np.array(cumulative_reward_array_test_plot)\n",
        "    cumulative_reward_array_train_mean = np.mean(cumulative_reward_array_train_plot,axis=0)\n",
        "    cumulative_reward_array_train_std = np.std(cumulative_reward_array_train_plot,axis=0)\n",
        "    cumulative_reward_array_test_mean = np.mean(cumulative_reward_array_test_plot,axis=0)\n",
        "    cumulative_reward_array_test_std = np.std(cumulative_reward_array_test_plot,axis=0)\n",
        "    total_steps_array_train_plot = np.array(total_steps_array_train_plot)\n",
        "    total_steps_array_test_plot = np.array(total_steps_array_test_plot)\n",
        "    total_steps_array_train_mean = np.mean(total_steps_array_train_plot,axis=0)\n",
        "    total_steps_array_train_std = np.std(total_steps_array_train_plot,axis=0)\n",
        "    total_steps_array_test_mean = np.mean(total_steps_array_test_plot,axis=0)\n",
        "    total_steps_array_test_std = np.std(total_steps_array_test_plot,axis=0)\n",
        "    \n",
        "    plt.figure(14);\n",
        "    plt.xticks(fontsize=11)\n",
        "    plt.yticks(fontsize=11)\n",
        "    plt.plot(np.linspace(1,len(cumulative_reward_array_test_mean),len(cumulative_reward_array_test_mean)),cumulative_reward_array_test_mean,label='Mean cumulative reward of an episode')\n",
        "    plt.fill_between(np.linspace(1,len(cumulative_reward_array_test_mean),len(cumulative_reward_array_test_mean)),cumulative_reward_array_test_mean-cumulative_reward_array_test_std,cumulative_reward_array_test_mean+cumulative_reward_array_test_std,alpha=0.4)\n",
        "    optimal_reward_test = np.max(cumulative_reward_array_test_plot,axis=1)\n",
        "    plt.axhline(y=np.mean(optimal_reward_test),color='k',linestyle='--',label='Optimal performance')\n",
        "    plt.axhspan(np.mean(optimal_reward_test)-np.std(optimal_reward_test),np.mean(optimal_reward_test)+np.std(optimal_reward_test),alpha=0.2,color='k')\n",
        "    plt.title('Cumulative Reward during testing vs episodes with Policy iteration',size=12)\n",
        "    plt.ylabel('Cumulative reward',size=12)\n",
        "    plt.xlabel('Episodes',size=12)\n",
        "#     plt.xscale('log')\n",
        "    plt.legend()\n",
        "    \n",
        "    plt.figure(15);\n",
        "    plt.xticks(fontsize=11)\n",
        "    plt.yticks(fontsize=11)\n",
        "    plt.plot(np.linspace(1,len(total_steps_array_test_mean),len(total_steps_array_test_mean)),total_steps_array_test_mean,label='Mean steps of an episode')\n",
        "    plt.fill_between(np.linspace(1,len(total_steps_array_test_mean),len(total_steps_array_test_mean)),total_steps_array_test_mean-total_steps_array_test_std,total_steps_array_test_mean+total_steps_array_test_std,alpha=0.4)\n",
        "    optimal_steps_test = np.min(total_steps_array_test_plot,axis=1)\n",
        "    plt.axhline(y=np.mean(optimal_steps_test),color='k',linestyle='--',label='Optimal performance')\n",
        "    plt.axhspan(np.mean(optimal_steps_test)-np.std(optimal_steps_test),np.mean(optimal_steps_test)+np.std(optimal_steps_test),alpha=0.2,color='k')\n",
        "    plt.title('Total steps per episode during testing vs episodes with Policy iteration',size=12)\n",
        "    plt.ylabel('Total steps/episode',size=12)\n",
        "    plt.xlabel('Episodes',size=12)\n",
        "#     plt.xscale('log')\n",
        "    plt.legend()\n",
        "    # plt.show()"
      ]
    },
    {
      "cell_type": "markdown",
      "metadata": {
        "id": "S7yWZjv4iOXf",
        "pycharm": {
          "name": "#%% md\n"
        }
      },
      "source": [
        "#### Q2.c: Tabular Value Iteration Implementation (10 points)\n",
        "Implement value_iteration algorithm and evaluate it for 300 iterations while performing value iteration updates every 5 iteration. Return the optimal value function and the optimal policy."
      ]
    },
    {
      "cell_type": "code",
      "execution_count": null,
      "metadata": {
        "id": "NSB9ysPbiOXf",
        "pycharm": {
          "name": "#%%\n"
        },
        "tags": []
      },
      "outputs": [],
      "source": [
        "#@title\n",
        "###########################################\n",
        "##### ALL FUCTIONS FOR VALUE ITERATION ###\n",
        "###########################################\n",
        "\n",
        "def value_iteration_with_performance(environment, theta=1e-8, iterations=90, train_steps=1, test_steps=5):\n",
        "    '''\n",
        "    Runs the tabular value iteration algorithm for given iterations and returns cumulative reward and total steps at each iteration\n",
        "    arguments:\n",
        "        environment - class instance of an MDP environment\n",
        "        theta - tolerance level to decide convergence\n",
        "        iterations - number of iterations to run the algorithm\n",
        "        train_steps - number of consecutive iterations to update the value function and policy\n",
        "        test_steps - number of consecutive iterations to evaluate the current policy in the environment\n",
        "    return:\n",
        "        cumulative_reward_array - array of cumulative reward at each step (both train and test included)\n",
        "        total_steps_array - array of total number of steps at each step (both train and test included)\n",
        "    '''\n",
        "    n_steps = train_steps+test_steps\n",
        "    V = np.zeros(environment.nS)\n",
        "    pi = np.random.rand(environment.nS,environment.nA)\n",
        "    pi = pi/pi.sum(axis=1,keepdims=True)\n",
        "    cumulative_reward_array = np.zeros(iterations)\n",
        "    total_steps_array = np.zeros(iterations)\n",
        "    for iter in range(iterations):\n",
        "        cumulative_reward_array[iter], total_steps_array[iter] = generate_episode(pi, environment)\n",
        "        if (iter%n_steps)>=test_steps:\n",
        "            # ----------------------------------------------\n",
        "            ...\n",
        "            # ----------------------------------------------\n",
        "\n",
        "    return cumulative_reward_array, total_steps_array, V, pi\n",
        "\n",
        "def plot_performance_value_iteration(env, iterations=90, train_steps=1, test_steps=5, num_seeds=5):\n",
        "    '''\n",
        "    Plots the performance metrics of tabular value iteration algorithm\n",
        "    arguments:\n",
        "        env_class - MDP environment class\n",
        "        iterations - number of iterations to run the algorithm\n",
        "        train_steps - number of consecutive iterations to update the value function and policy\n",
        "        test_steps - number of consecutive iterations to evaluate the current policy in the environment\n",
        "    return:\n",
        "        \n",
        "    '''\n",
        "    cumulative_reward_array_train_plot = []\n",
        "    cumulative_reward_array_test_plot = []\n",
        "    total_steps_array_train_plot = []\n",
        "    total_steps_array_test_plot = []\n",
        "    for seed in range(num_seeds):\n",
        "        np.random.seed(seed)\n",
        "        env.seed(seed)\n",
        "        cumulative_reward_array, total_steps_array, V, pi = value_iteration_with_performance(env,theta=1e-3, iterations=iterations)\n",
        "        all_idx = np.array(list(range(iterations)))\n",
        "        train_idx = np.array([i for i in range(iterations) if i%(train_steps+test_steps)>=test_steps])\n",
        "        test_idx = np.setdiff1d(all_idx,train_idx)\n",
        "        cumulative_reward_array_train = cumulative_reward_array[train_idx]\n",
        "        cumulative_reward_array_test = cumulative_reward_array[test_idx].reshape(-1,test_steps).mean(axis=1)\n",
        "        total_steps_array_train = total_steps_array[train_idx]\n",
        "        total_steps_array_test = total_steps_array[test_idx].reshape(-1,test_steps).mean(axis=1)\n",
        "        cumulative_reward_array_train_plot.append(cumulative_reward_array_train)\n",
        "        cumulative_reward_array_test_plot.append(cumulative_reward_array_test)\n",
        "        total_steps_array_train_plot.append(total_steps_array_train)\n",
        "        total_steps_array_test_plot.append(total_steps_array_test)\n",
        "    cumulative_reward_array_train_plot = np.array(cumulative_reward_array_train_plot)\n",
        "    cumulative_reward_array_test_plot = np.array(cumulative_reward_array_test_plot)\n",
        "    cumulative_reward_array_train_mean = np.mean(cumulative_reward_array_train_plot,axis=0)\n",
        "    cumulative_reward_array_train_std = np.std(cumulative_reward_array_train_plot,axis=0)\n",
        "    cumulative_reward_array_test_mean = np.mean(cumulative_reward_array_test_plot,axis=0)\n",
        "    cumulative_reward_array_test_std = np.std(cumulative_reward_array_test_plot,axis=0)\n",
        "    total_steps_array_train_plot = np.array(total_steps_array_train_plot)\n",
        "    total_steps_array_test_plot = np.array(total_steps_array_test_plot)\n",
        "    total_steps_array_train_mean = np.mean(total_steps_array_train_plot,axis=0)\n",
        "    total_steps_array_train_std = np.std(total_steps_array_train_plot,axis=0)\n",
        "    total_steps_array_test_mean = np.mean(total_steps_array_test_plot,axis=0)\n",
        "    total_steps_array_test_std = np.std(total_steps_array_test_plot,axis=0)\n",
        "    plt.figure(16);\n",
        "    plt.xticks(fontsize=11)\n",
        "    plt.yticks(fontsize=11)\n",
        "    plt.plot(np.linspace(1,len(cumulative_reward_array_test_mean),len(cumulative_reward_array_test_mean)),cumulative_reward_array_test_mean,label='Mean cumulative reward of an episode')\n",
        "    plt.fill_between(np.linspace(1,len(cumulative_reward_array_test_mean),len(cumulative_reward_array_test_mean)),cumulative_reward_array_test_mean-cumulative_reward_array_test_std,cumulative_reward_array_test_mean+cumulative_reward_array_test_std,alpha=0.4)\n",
        "    optimal_reward_test = np.max(cumulative_reward_array_test_plot,axis=1)\n",
        "    plt.axhline(y=np.mean(optimal_reward_test),color='k',linestyle='--',label='Optimal performance')\n",
        "    plt.axhspan(np.mean(optimal_reward_test)-np.std(optimal_reward_test),np.mean(optimal_reward_test)+np.std(optimal_reward_test),alpha=0.2,color='k')\n",
        "    plt.title('Cumulative Reward during testing vs episodes with Value iteration',size=12)\n",
        "    plt.ylabel('Cumulative reward',size=12)\n",
        "    plt.xlabel('Episodes',size=12)\n",
        "#     plt.xscale('log')\n",
        "    plt.legend()\n",
        "    plt.figure(17);\n",
        "    plt.xticks(fontsize=11)\n",
        "    plt.yticks(fontsize=11)\n",
        "    plt.plot(np.linspace(1,len(total_steps_array_test_mean),len(total_steps_array_test_mean)),total_steps_array_test_mean,label='Mean steps of an episode')\n",
        "    plt.fill_between(np.linspace(1,len(total_steps_array_test_mean),len(total_steps_array_test_mean)),total_steps_array_test_mean-total_steps_array_test_std,total_steps_array_test_mean+total_steps_array_test_std,alpha=0.4)\n",
        "    optimal_steps_test = np.min(total_steps_array_test_plot,axis=1)\n",
        "    plt.axhline(y=np.mean(optimal_steps_test),color='k',linestyle='--',label='Optimal performance')\n",
        "    plt.axhspan(np.mean(optimal_steps_test)-np.std(optimal_steps_test),np.mean(optimal_steps_test)+np.std(optimal_steps_test),alpha=0.2,color='k')\n",
        "    plt.title('Total steps per episode during testing vs episodes with Value iteration',size=12)\n",
        "    plt.ylabel('Total steps/episode',size=12)\n",
        "    plt.xlabel('Episodes',size=12)\n",
        "#     plt.xscale('log')\n",
        "    plt.legend()\n",
        "    # plt.show()"
      ]
    },
    {
      "cell_type": "markdown",
      "metadata": {
        "id": "XMVBdTs-L_e-",
        "pycharm": {
          "name": "#%% md\n"
        }
      },
      "source": [
        "<!-- BEGIN QUESTION -->\n",
        "\n",
        "#### Q2.d1: PI and VI experiments (10 points)\n",
        "Run both methods on the 4x4 FrozenLake environment with $\\textit{slip_rate=0}$ for 5 independent seeds and plot the cumulative reward and total steps per episode for each method using *plot_performance_policy_iteration* and *plot_performance_value_iteration* functions."
      ]
    },
    {
      "cell_type": "code",
      "execution_count": 163,
      "metadata": {
        "colab": {
          "base_uri": "https://localhost:8080/"
        },
        "id": "RiBDGj5V1pXt",
        "outputId": "429fdd91-c0f9-4922-8338-eaf041ab5bb2",
        "pycharm": {
          "name": "#%%\n"
        },
        "tags": []
      },
      "outputs": [
        {
          "output_type": "execute_result",
          "data": {
            "text/plain": [
              "Ellipsis"
            ]
          },
          "metadata": {},
          "execution_count": 163
        }
      ],
      "source": [
        "env=FrozenLakeEnv(map_name=\"4x4\", slip_rate=0)\n",
        "# PI\n",
        "# ----------------------------------------------\n",
        "policy_iteration_with_performance(env)\n",
        "# ----------------------------------------------\n",
        "\n",
        "# VI\n",
        "# ----------------------------------------------\n",
        "...\n",
        "# ----------------------------------------------"
      ]
    },
    {
      "cell_type": "markdown",
      "metadata": {
        "id": "hPlbEUbgqSyr",
        "pycharm": {
          "name": "#%% md\n"
        }
      },
      "source": [
        "#### Q2.d2: PI and VI visualizations (5 points)\n",
        "Visualize the value function for both methods using policy_iteration_with_performance and value_iteration_with_performance functions."
      ]
    },
    {
      "cell_type": "code",
      "execution_count": null,
      "metadata": {
        "id": "g3uD7Aku94Br",
        "pycharm": {
          "name": "#%%\n"
        },
        "tags": []
      },
      "outputs": [],
      "source": [
        "..."
      ]
    },
    {
      "cell_type": "code",
      "execution_count": 161,
      "metadata": {
        "colab": {
          "base_uri": "https://localhost:8080/",
          "height": 183
        },
        "id": "9AVFqfBfiOXg",
        "outputId": "eaa25340-598d-4c10-ae83-6505a43e33e8",
        "pycharm": {
          "name": "#%%\n"
        },
        "tags": []
      },
      "outputs": [
        {
          "output_type": "error",
          "ename": "NameError",
          "evalue": "ignored",
          "traceback": [
            "\u001b[0;31m---------------------------------------------------------------------------\u001b[0m",
            "\u001b[0;31mNameError\u001b[0m                                 Traceback (most recent call last)",
            "\u001b[0;32m<ipython-input-161-351ac9e16a1c>\u001b[0m in \u001b[0;36m<module>\u001b[0;34m\u001b[0m\n\u001b[0;32m----> 1\u001b[0;31m \u001b[0mplt\u001b[0m\u001b[0;34m.\u001b[0m\u001b[0mimshow\u001b[0m\u001b[0;34m(\u001b[0m\u001b[0mV\u001b[0m\u001b[0;34m.\u001b[0m\u001b[0mreshape\u001b[0m\u001b[0;34m(\u001b[0m\u001b[0mint\u001b[0m\u001b[0;34m(\u001b[0m\u001b[0mnp\u001b[0m\u001b[0;34m.\u001b[0m\u001b[0msqrt\u001b[0m\u001b[0;34m(\u001b[0m\u001b[0menv\u001b[0m\u001b[0;34m.\u001b[0m\u001b[0mnS\u001b[0m\u001b[0;34m)\u001b[0m\u001b[0;34m)\u001b[0m\u001b[0;34m,\u001b[0m\u001b[0mint\u001b[0m\u001b[0;34m(\u001b[0m\u001b[0mnp\u001b[0m\u001b[0;34m.\u001b[0m\u001b[0msqrt\u001b[0m\u001b[0;34m(\u001b[0m\u001b[0menv\u001b[0m\u001b[0;34m.\u001b[0m\u001b[0mnS\u001b[0m\u001b[0;34m)\u001b[0m\u001b[0;34m)\u001b[0m\u001b[0;34m)\u001b[0m\u001b[0;34m,\u001b[0m \u001b[0mvmin\u001b[0m\u001b[0;34m=\u001b[0m\u001b[0;34m-\u001b[0m\u001b[0;36m10\u001b[0m\u001b[0;34m)\u001b[0m\u001b[0;34m;\u001b[0m \u001b[0mplt\u001b[0m\u001b[0;34m.\u001b[0m\u001b[0mcolorbar\u001b[0m\u001b[0;34m(\u001b[0m\u001b[0;34m)\u001b[0m\u001b[0;34m;\u001b[0m \u001b[0;31m# plt.show()\u001b[0m\u001b[0;34m\u001b[0m\u001b[0;34m\u001b[0m\u001b[0m\n\u001b[0m",
            "\u001b[0;31mNameError\u001b[0m: name 'plt' is not defined"
          ]
        }
      ],
      "source": [
        "plt.imshow(V.reshape(int(np.sqrt(env.nS)),int(np.sqrt(env.nS))), vmin=-10); plt.colorbar(); # plt.show()"
      ]
    },
    {
      "cell_type": "code",
      "execution_count": null,
      "metadata": {
        "id": "O51OugIFqUZa",
        "pycharm": {
          "name": "#%%\n"
        },
        "scrolled": false,
        "tags": []
      },
      "outputs": [],
      "source": [
        "..."
      ]
    },
    {
      "cell_type": "code",
      "execution_count": null,
      "metadata": {
        "cellView": "form",
        "id": "Ui4QviTyKXTR",
        "pycharm": {
          "name": "#%%\n"
        },
        "scrolled": true,
        "tags": []
      },
      "outputs": [],
      "source": [
        "plt.imshow(V.reshape(int(np.sqrt(env.nS)),int(np.sqrt(env.nS))), vmin=-10); plt.colorbar(); # plt.show()"
      ]
    },
    {
      "cell_type": "markdown",
      "metadata": {
        "collapsed": false,
        "pycharm": {
          "name": "#%% md\n"
        },
        "id": "oRGZ8L6nRD4N"
      },
      "source": [
        "#### Q2.d3: Analysis (5 points)"
      ]
    },
    {
      "cell_type": "markdown",
      "metadata": {
        "collapsed": false,
        "pycharm": {
          "name": "#%% md\n"
        },
        "id": "WXPcygoWRD4N"
      },
      "source": [
        "What do you observe in these plots?"
      ]
    },
    {
      "cell_type": "markdown",
      "metadata": {
        "collapsed": false,
        "pycharm": {
          "name": "#%% md\n"
        },
        "id": "-LPJM0KeRD4N"
      },
      "source": [
        "Type your answer here"
      ]
    },
    {
      "cell_type": "markdown",
      "metadata": {
        "id": "NB5hIYZHiOXh",
        "pycharm": {
          "name": "#%% md\n"
        }
      },
      "source": [
        "<!-- END QUESTION -->\n",
        "\n",
        "<!-- BEGIN QUESTION -->\n",
        "\n",
        "### Q2.e1: Stochastic FrozenLake (10 points)\n",
        "Rerun the previous part using 4x4 FrozenLake environment but this time with $\\textit{slip_rate=0.1}$."
      ]
    },
    {
      "cell_type": "code",
      "execution_count": null,
      "metadata": {
        "id": "XwWbMNvniOXh",
        "pycharm": {
          "name": "#%%\n"
        },
        "tags": []
      },
      "outputs": [],
      "source": [
        "# Define the env=...\n",
        "# ----------------------------------------------\n",
        "...\n",
        "# ----------------------------------------------\n",
        "\n",
        "# PI\n",
        "# ----------------------------------------------\n",
        "...\n",
        "# ----------------------------------------------\n",
        "\n",
        "# VI\n",
        "# ----------------------------------------------\n",
        "...\n",
        "# ----------------------------------------------"
      ]
    },
    {
      "cell_type": "markdown",
      "metadata": {
        "collapsed": false,
        "pycharm": {
          "name": "#%% md\n"
        },
        "id": "fM53xvsCRD4O"
      },
      "source": [
        "### Q2.e2: Analysis (5 points)"
      ]
    },
    {
      "cell_type": "raw",
      "metadata": {
        "collapsed": false,
        "pycharm": {
          "name": "#%% raw\n"
        },
        "id": "xZs0hKNhRD4O"
      },
      "source": [
        "Compare the curves with the case when environment was deterministic.\n",
        "..."
      ]
    },
    {
      "cell_type": "markdown",
      "metadata": {
        "collapsed": false,
        "pycharm": {
          "name": "#%% md\n"
        },
        "id": "BQlCmZT5RD4O"
      },
      "source": [
        "Type your answer here"
      ]
    },
    {
      "cell_type": "code",
      "execution_count": null,
      "metadata": {
        "pycharm": {
          "name": "#%%\n"
        },
        "id": "aXtHFqTxRD4O"
      },
      "outputs": [],
      "source": [
        "plt.close('all')"
      ]
    }
  ],
  "metadata": {
    "colab": {
      "collapsed_sections": [],
      "name": "A1_RL_no_solution-ToTest.ipynb",
      "provenance": [],
      "toc_visible": true
    },
    "kernelspec": {
      "display_name": "Python 3",
      "language": "python",
      "name": "python3"
    },
    "language_info": {
      "codemirror_mode": {
        "name": "ipython",
        "version": 3
      },
      "file_extension": ".py",
      "mimetype": "text/x-python",
      "name": "python",
      "nbconvert_exporter": "python",
      "pygments_lexer": "ipython3",
      "version": "3.7.4"
    },
    "otter": {
      "tests": {
        "question 1a": {
          "name": "question 1a",
          "points": 5,
          "suites": [
            {
              "cases": [],
              "scored": true,
              "setup": "",
              "teardown": "",
              "type": "doctest"
            }
          ]
        },
        "question 1b1": {
          "name": "question 1b1",
          "points": 5,
          "suites": [
            {
              "cases": [],
              "scored": true,
              "setup": "",
              "teardown": "",
              "type": "doctest"
            }
          ]
        },
        "question 1c1": {
          "name": "question 1c1",
          "points": 5,
          "suites": [
            {
              "cases": [],
              "scored": true,
              "setup": "",
              "teardown": "",
              "type": "doctest"
            }
          ]
        },
        "question 1d1": {
          "name": "question 1d1",
          "points": 5,
          "suites": [
            {
              "cases": [],
              "scored": true,
              "setup": "",
              "teardown": "",
              "type": "doctest"
            }
          ]
        },
        "question 1d2": {
          "name": "question 1d2",
          "points": 5,
          "suites": [
            {
              "cases": [],
              "scored": true,
              "setup": "",
              "teardown": "",
              "type": "doctest"
            }
          ]
        },
        "question 2a": {
          "name": "question 2a",
          "points": 5,
          "suites": [
            {
              "cases": [],
              "scored": true,
              "setup": "",
              "teardown": "",
              "type": "doctest"
            }
          ]
        },
        "question 2b": {
          "name": "question 2b",
          "points": [
            5,
            10
          ],
          "suites": [
            {
              "cases": [],
              "scored": true,
              "setup": "",
              "teardown": "",
              "type": "doctest"
            }
          ]
        },
        "question 2c": {
          "name": "question 2c",
          "points": 10,
          "suites": [
            {
              "cases": [],
              "scored": true,
              "setup": "",
              "teardown": "",
              "type": "doctest"
            }
          ]
        }
      }
    }
  },
  "nbformat": 4,
  "nbformat_minor": 0
}