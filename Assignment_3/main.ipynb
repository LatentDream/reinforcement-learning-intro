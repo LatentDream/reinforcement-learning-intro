{
  "cells": [
    {
      "cell_type": "markdown",
      "metadata": {
        "id": "view-in-github",
        "colab_type": "text"
      },
      "source": [
        "<a href=\"https://colab.research.google.com/github/guthi1/reinforcement-learning/blob/main/Assignment_3/main.ipynb\" target=\"_parent\"><img src=\"https://colab.research.google.com/assets/colab-badge.svg\" alt=\"Open In Colab\"/></a>"
      ]
    },
    {
      "cell_type": "markdown",
      "metadata": {
        "id": "HTcTWPbRDXkm"
      },
      "source": [
        "# Assignment 3 -- Policy Gradients\n",
        "## Instructions:\n",
        "* This is an individual assignment. You are not allowed to discuss the problems with other students.\n",
        "* Part of this assignment will be autograded by gradescope. You can use it as immediate feedback to improve your answers. You can resubmit as many times as you want.\n",
        "* All your solution, code, analysis, graphs, explanations should be done in this same notebook.\n",
        "* Please make sure to execute all the cells before you submit the notebook to the gradescope. You will not get points for the plots if they are not generated already.\n",
        "* If you have questions regarding the assignment, you can ask for clarifications in Piazza. You should use the corresponding tag for this assignment.\n",
        "\n",
        "This assignment has 4 parts. The goals of these parts are:\n",
        "- **Part 1**: Implementing a parameterized (neural network) policy with PyTorch\n",
        "- **Part 2**: Understanding the REINFORCE algorithm\n",
        "- **Part 3**: Extending the REINFORCE algorithm with a baseline\n",
        "- **Part 4**: Understanding Actor-Critic\n",
        "\n",
        "\n",
        "### Loading Dependencies"
      ]
    },
    {
      "cell_type": "code",
      "execution_count": 1,
      "metadata": {
        "colab": {
          "base_uri": "https://localhost:8080/"
        },
        "id": "rZ81X0K55lGJ",
        "outputId": "838b541c-1a10-420e-f8f1-f5b99ee69071"
      },
      "outputs": [
        {
          "output_type": "stream",
          "name": "stdout",
          "text": [
            "Looking in indexes: https://pypi.org/simple, https://us-python.pkg.dev/colab-wheels/public/simple/\n",
            "Collecting otter-grader\n",
            "  Downloading otter_grader-4.1.2-py3-none-any.whl (168 kB)\n",
            "\u001b[K     |████████████████████████████████| 168 kB 4.7 MB/s \n",
            "\u001b[?25hRequirement already satisfied: nbformat in /usr/local/lib/python3.7/dist-packages (from otter-grader) (5.7.0)\n",
            "Collecting jupytext\n",
            "  Downloading jupytext-1.14.1-py3-none-any.whl (297 kB)\n",
            "\u001b[K     |████████████████████████████████| 297 kB 31.2 MB/s \n",
            "\u001b[?25hRequirement already satisfied: gspread in /usr/local/lib/python3.7/dist-packages (from otter-grader) (3.4.2)\n",
            "Requirement already satisfied: jinja2 in /usr/local/lib/python3.7/dist-packages (from otter-grader) (2.11.3)\n",
            "Collecting fica>=0.2.0\n",
            "  Downloading fica-0.2.2-py3-none-any.whl (11 kB)\n",
            "Requirement already satisfied: pandas in /usr/local/lib/python3.7/dist-packages (from otter-grader) (1.3.5)\n",
            "Requirement already satisfied: google-auth-oauthlib in /usr/local/lib/python3.7/dist-packages (from otter-grader) (0.4.6)\n",
            "Requirement already satisfied: six in /usr/local/lib/python3.7/dist-packages (from otter-grader) (1.15.0)\n",
            "Requirement already satisfied: wrapt in /usr/local/lib/python3.7/dist-packages (from otter-grader) (1.14.1)\n",
            "Collecting python-on-whales\n",
            "  Downloading python_on_whales-0.53.0-py3-none-any.whl (98 kB)\n",
            "\u001b[K     |████████████████████████████████| 98 kB 4.0 MB/s \n",
            "\u001b[?25hRequirement already satisfied: requests in /usr/local/lib/python3.7/dist-packages (from otter-grader) (2.23.0)\n",
            "Requirement already satisfied: click in /usr/local/lib/python3.7/dist-packages (from otter-grader) (7.1.2)\n",
            "Requirement already satisfied: PyYAML in /usr/local/lib/python3.7/dist-packages (from otter-grader) (6.0)\n",
            "Requirement already satisfied: dill in /usr/local/lib/python3.7/dist-packages (from otter-grader) (0.3.6)\n",
            "Requirement already satisfied: ipython in /usr/local/lib/python3.7/dist-packages (from otter-grader) (7.9.0)\n",
            "Requirement already satisfied: google-api-python-client in /usr/local/lib/python3.7/dist-packages (from otter-grader) (1.12.11)\n",
            "Requirement already satisfied: sphinx in /usr/local/lib/python3.7/dist-packages (from fica>=0.2.0->otter-grader) (1.8.6)\n",
            "Requirement already satisfied: docutils in /usr/local/lib/python3.7/dist-packages (from fica>=0.2.0->otter-grader) (0.17.1)\n",
            "Requirement already satisfied: httplib2<1dev,>=0.15.0 in /usr/local/lib/python3.7/dist-packages (from google-api-python-client->otter-grader) (0.17.4)\n",
            "Requirement already satisfied: uritemplate<4dev,>=3.0.0 in /usr/local/lib/python3.7/dist-packages (from google-api-python-client->otter-grader) (3.0.1)\n",
            "Requirement already satisfied: google-auth-httplib2>=0.0.3 in /usr/local/lib/python3.7/dist-packages (from google-api-python-client->otter-grader) (0.0.4)\n",
            "Requirement already satisfied: google-api-core<3dev,>=1.21.0 in /usr/local/lib/python3.7/dist-packages (from google-api-python-client->otter-grader) (1.31.6)\n",
            "Requirement already satisfied: google-auth<3dev,>=1.16.0 in /usr/local/lib/python3.7/dist-packages (from google-api-python-client->otter-grader) (1.35.0)\n",
            "Requirement already satisfied: protobuf<4.0.0dev,>=3.12.0 in /usr/local/lib/python3.7/dist-packages (from google-api-core<3dev,>=1.21.0->google-api-python-client->otter-grader) (3.17.3)\n",
            "Requirement already satisfied: packaging>=14.3 in /usr/local/lib/python3.7/dist-packages (from google-api-core<3dev,>=1.21.0->google-api-python-client->otter-grader) (21.3)\n",
            "Requirement already satisfied: setuptools>=40.3.0 in /usr/local/lib/python3.7/dist-packages (from google-api-core<3dev,>=1.21.0->google-api-python-client->otter-grader) (57.4.0)\n",
            "Requirement already satisfied: googleapis-common-protos<2.0dev,>=1.6.0 in /usr/local/lib/python3.7/dist-packages (from google-api-core<3dev,>=1.21.0->google-api-python-client->otter-grader) (1.56.4)\n",
            "Requirement already satisfied: pytz in /usr/local/lib/python3.7/dist-packages (from google-api-core<3dev,>=1.21.0->google-api-python-client->otter-grader) (2022.5)\n",
            "Requirement already satisfied: rsa<5,>=3.1.4 in /usr/local/lib/python3.7/dist-packages (from google-auth<3dev,>=1.16.0->google-api-python-client->otter-grader) (4.9)\n",
            "Requirement already satisfied: pyasn1-modules>=0.2.1 in /usr/local/lib/python3.7/dist-packages (from google-auth<3dev,>=1.16.0->google-api-python-client->otter-grader) (0.2.8)\n",
            "Requirement already satisfied: cachetools<5.0,>=2.0.0 in /usr/local/lib/python3.7/dist-packages (from google-auth<3dev,>=1.16.0->google-api-python-client->otter-grader) (4.2.4)\n",
            "Requirement already satisfied: pyparsing!=3.0.5,>=2.0.2 in /usr/local/lib/python3.7/dist-packages (from packaging>=14.3->google-api-core<3dev,>=1.21.0->google-api-python-client->otter-grader) (3.0.9)\n",
            "Requirement already satisfied: pyasn1<0.5.0,>=0.4.6 in /usr/local/lib/python3.7/dist-packages (from pyasn1-modules>=0.2.1->google-auth<3dev,>=1.16.0->google-api-python-client->otter-grader) (0.4.8)\n",
            "Requirement already satisfied: chardet<4,>=3.0.2 in /usr/local/lib/python3.7/dist-packages (from requests->otter-grader) (3.0.4)\n",
            "Requirement already satisfied: urllib3!=1.25.0,!=1.25.1,<1.26,>=1.21.1 in /usr/local/lib/python3.7/dist-packages (from requests->otter-grader) (1.24.3)\n",
            "Requirement already satisfied: certifi>=2017.4.17 in /usr/local/lib/python3.7/dist-packages (from requests->otter-grader) (2022.9.24)\n",
            "Requirement already satisfied: idna<3,>=2.5 in /usr/local/lib/python3.7/dist-packages (from requests->otter-grader) (2.10)\n",
            "Requirement already satisfied: requests-oauthlib>=0.7.0 in /usr/local/lib/python3.7/dist-packages (from google-auth-oauthlib->otter-grader) (1.3.1)\n",
            "Requirement already satisfied: oauthlib>=3.0.0 in /usr/local/lib/python3.7/dist-packages (from requests-oauthlib>=0.7.0->google-auth-oauthlib->otter-grader) (3.2.2)\n",
            "Requirement already satisfied: pexpect in /usr/local/lib/python3.7/dist-packages (from ipython->otter-grader) (4.8.0)\n",
            "Requirement already satisfied: pygments in /usr/local/lib/python3.7/dist-packages (from ipython->otter-grader) (2.6.1)\n",
            "Requirement already satisfied: prompt-toolkit<2.1.0,>=2.0.0 in /usr/local/lib/python3.7/dist-packages (from ipython->otter-grader) (2.0.10)\n",
            "Requirement already satisfied: decorator in /usr/local/lib/python3.7/dist-packages (from ipython->otter-grader) (4.4.2)\n",
            "Requirement already satisfied: backcall in /usr/local/lib/python3.7/dist-packages (from ipython->otter-grader) (0.2.0)\n",
            "Requirement already satisfied: pickleshare in /usr/local/lib/python3.7/dist-packages (from ipython->otter-grader) (0.7.5)\n",
            "Requirement already satisfied: traitlets>=4.2 in /usr/local/lib/python3.7/dist-packages (from ipython->otter-grader) (5.1.1)\n",
            "Collecting jedi>=0.10\n",
            "  Downloading jedi-0.18.1-py2.py3-none-any.whl (1.6 MB)\n",
            "\u001b[K     |████████████████████████████████| 1.6 MB 47.5 MB/s \n",
            "\u001b[?25hRequirement already satisfied: parso<0.9.0,>=0.8.0 in /usr/local/lib/python3.7/dist-packages (from jedi>=0.10->ipython->otter-grader) (0.8.3)\n",
            "Requirement already satisfied: wcwidth in /usr/local/lib/python3.7/dist-packages (from prompt-toolkit<2.1.0,>=2.0.0->ipython->otter-grader) (0.2.5)\n",
            "Requirement already satisfied: MarkupSafe>=0.23 in /usr/local/lib/python3.7/dist-packages (from jinja2->otter-grader) (2.0.1)\n",
            "Collecting mdit-py-plugins\n",
            "  Downloading mdit_py_plugins-0.3.1-py3-none-any.whl (46 kB)\n",
            "\u001b[K     |████████████████████████████████| 46 kB 2.0 MB/s \n",
            "\u001b[?25hRequirement already satisfied: toml in /usr/local/lib/python3.7/dist-packages (from jupytext->otter-grader) (0.10.2)\n",
            "Collecting markdown-it-py<3.0.0,>=1.0.0\n",
            "  Downloading markdown_it_py-2.1.0-py3-none-any.whl (84 kB)\n",
            "\u001b[K     |████████████████████████████████| 84 kB 561 kB/s \n",
            "\u001b[?25hCollecting mdurl~=0.1\n",
            "  Downloading mdurl-0.1.2-py3-none-any.whl (10.0 kB)\n",
            "Requirement already satisfied: typing_extensions>=3.7.4 in /usr/local/lib/python3.7/dist-packages (from markdown-it-py<3.0.0,>=1.0.0->jupytext->otter-grader) (4.1.1)\n",
            "Requirement already satisfied: importlib-metadata>=3.6 in /usr/local/lib/python3.7/dist-packages (from nbformat->otter-grader) (4.13.0)\n",
            "Requirement already satisfied: jsonschema>=2.6 in /usr/local/lib/python3.7/dist-packages (from nbformat->otter-grader) (4.3.3)\n",
            "Requirement already satisfied: fastjsonschema in /usr/local/lib/python3.7/dist-packages (from nbformat->otter-grader) (2.16.2)\n",
            "Requirement already satisfied: jupyter-core in /usr/local/lib/python3.7/dist-packages (from nbformat->otter-grader) (4.11.2)\n",
            "Requirement already satisfied: zipp>=0.5 in /usr/local/lib/python3.7/dist-packages (from importlib-metadata>=3.6->nbformat->otter-grader) (3.10.0)\n",
            "Requirement already satisfied: importlib-resources>=1.4.0 in /usr/local/lib/python3.7/dist-packages (from jsonschema>=2.6->nbformat->otter-grader) (5.10.0)\n",
            "Requirement already satisfied: attrs>=17.4.0 in /usr/local/lib/python3.7/dist-packages (from jsonschema>=2.6->nbformat->otter-grader) (22.1.0)\n",
            "Requirement already satisfied: pyrsistent!=0.17.0,!=0.17.1,!=0.17.2,>=0.14.0 in /usr/local/lib/python3.7/dist-packages (from jsonschema>=2.6->nbformat->otter-grader) (0.18.1)\n",
            "Requirement already satisfied: python-dateutil>=2.7.3 in /usr/local/lib/python3.7/dist-packages (from pandas->otter-grader) (2.8.2)\n",
            "Requirement already satisfied: numpy>=1.17.3 in /usr/local/lib/python3.7/dist-packages (from pandas->otter-grader) (1.21.6)\n",
            "Requirement already satisfied: ptyprocess>=0.5 in /usr/local/lib/python3.7/dist-packages (from pexpect->ipython->otter-grader) (0.7.0)\n",
            "Requirement already satisfied: tqdm in /usr/local/lib/python3.7/dist-packages (from python-on-whales->otter-grader) (4.64.1)\n",
            "Requirement already satisfied: typer>=0.4.1 in /usr/local/lib/python3.7/dist-packages (from python-on-whales->otter-grader) (0.4.2)\n",
            "Requirement already satisfied: pydantic in /usr/local/lib/python3.7/dist-packages (from python-on-whales->otter-grader) (1.10.2)\n",
            "Requirement already satisfied: alabaster<0.8,>=0.7 in /usr/local/lib/python3.7/dist-packages (from sphinx->fica>=0.2.0->otter-grader) (0.7.12)\n",
            "Requirement already satisfied: babel!=2.0,>=1.3 in /usr/local/lib/python3.7/dist-packages (from sphinx->fica>=0.2.0->otter-grader) (2.10.3)\n",
            "Requirement already satisfied: snowballstemmer>=1.1 in /usr/local/lib/python3.7/dist-packages (from sphinx->fica>=0.2.0->otter-grader) (2.2.0)\n",
            "Requirement already satisfied: sphinxcontrib-websupport in /usr/local/lib/python3.7/dist-packages (from sphinx->fica>=0.2.0->otter-grader) (1.2.4)\n",
            "Requirement already satisfied: imagesize in /usr/local/lib/python3.7/dist-packages (from sphinx->fica>=0.2.0->otter-grader) (1.4.1)\n",
            "Requirement already satisfied: sphinxcontrib-serializinghtml in /usr/local/lib/python3.7/dist-packages (from sphinxcontrib-websupport->sphinx->fica>=0.2.0->otter-grader) (1.1.5)\n",
            "Installing collected packages: mdurl, markdown-it-py, mdit-py-plugins, jedi, python-on-whales, jupytext, fica, otter-grader\n",
            "Successfully installed fica-0.2.2 jedi-0.18.1 jupytext-1.14.1 markdown-it-py-2.1.0 mdit-py-plugins-0.3.1 mdurl-0.1.2 otter-grader-4.1.2 python-on-whales-0.53.0\n",
            "Looking in indexes: https://pypi.org/simple, https://us-python.pkg.dev/colab-wheels/public/simple/\n",
            "Requirement already satisfied: gym[classic_control] in /usr/local/lib/python3.7/dist-packages (0.25.2)\n",
            "Requirement already satisfied: numpy>=1.18.0 in /usr/local/lib/python3.7/dist-packages (from gym[classic_control]) (1.21.6)\n",
            "Requirement already satisfied: importlib-metadata>=4.8.0 in /usr/local/lib/python3.7/dist-packages (from gym[classic_control]) (4.13.0)\n",
            "Requirement already satisfied: gym-notices>=0.0.4 in /usr/local/lib/python3.7/dist-packages (from gym[classic_control]) (0.0.8)\n",
            "Requirement already satisfied: cloudpickle>=1.2.0 in /usr/local/lib/python3.7/dist-packages (from gym[classic_control]) (1.5.0)\n",
            "Collecting pygame==2.1.0\n",
            "  Downloading pygame-2.1.0-cp37-cp37m-manylinux_2_17_x86_64.manylinux2014_x86_64.whl (18.3 MB)\n",
            "\u001b[K     |████████████████████████████████| 18.3 MB 2.6 MB/s \n",
            "\u001b[?25hRequirement already satisfied: zipp>=0.5 in /usr/local/lib/python3.7/dist-packages (from importlib-metadata>=4.8.0->gym[classic_control]) (3.10.0)\n",
            "Requirement already satisfied: typing-extensions>=3.6.4 in /usr/local/lib/python3.7/dist-packages (from importlib-metadata>=4.8.0->gym[classic_control]) (4.1.1)\n",
            "Installing collected packages: pygame\n",
            "Successfully installed pygame-2.1.0\n",
            "Cloning into 'public'...\n",
            "remote: Enumerating objects: 132, done.\u001b[K\n",
            "remote: Counting objects: 100% (132/132), done.\u001b[K\n",
            "remote: Compressing objects: 100% (58/58), done.\u001b[K\n",
            "remote: Total 132 (delta 85), reused 111 (delta 70), pack-reused 0\u001b[K\n",
            "Receiving objects: 100% (132/132), 876.31 KiB | 7.55 MiB/s, done.\n",
            "Resolving deltas: 100% (85/85), done.\n"
          ]
        }
      ],
      "source": [
        "!pip install otter-grader\n",
        "!pip install gym[classic_control]\n",
        "!git clone https://github.com/chandar-lab/INF8250e-assignments-public.git public"
      ]
    },
    {
      "cell_type": "code",
      "execution_count": 2,
      "metadata": {
        "id": "TSjP1rhc5lGK"
      },
      "outputs": [],
      "source": [
        "import otter\n",
        "grader = otter.Notebook(colab=True, tests_dir='./public/assignment_3_python/tests')"
      ]
    },
    {
      "cell_type": "code",
      "execution_count": 3,
      "metadata": {
        "id": "LAeKW1awDf9f"
      },
      "outputs": [],
      "source": [
        "import gym\n",
        "import matplotlib.pyplot as plt\n",
        "%matplotlib inline\n",
        "import numpy as np\n",
        "import torch\n",
        "import torch.distributions as torchdist\n",
        "import torch.nn as nn\n",
        "import torch.nn.functional as F\n",
        "import warnings\n",
        "import functools\n",
        "import os\n",
        "\n",
        "from IPython import display\n",
        "\n",
        "from gym.envs.classic_control import CartPoleEnv\n",
        "from tqdm import tqdm\n",
        "\n",
        "warnings.filterwarnings('ignore')"
      ]
    },
    {
      "cell_type": "code",
      "execution_count": 4,
      "metadata": {
        "id": "1fSfpVB55lGK"
      },
      "outputs": [],
      "source": [
        "GRADESCOPE_ENV_VAR = \"RUNNING_IN_GRADESCOPE\"\n",
        "\n",
        "def running_in_gradescope():\n",
        "    var = os.getenv(GRADESCOPE_ENV_VAR)\n",
        "    if var is None:\n",
        "        return False\n",
        "    return var == 'yes'"
      ]
    },
    {
      "cell_type": "markdown",
      "metadata": {
        "id": "kV1l7_Q2EMuy"
      },
      "source": [
        "## The Environment\n",
        "\n",
        "For this assignment, we will use  `CartPole-v0` from OpenAI Gym. In this environment, the goal is to balance an inverted pendulum on a cart by moving the cart laterally. The state of the agent has four components:\n",
        "\n",
        "- The horizontal position of the cart, $x$\n",
        "- The velocity of the cart, $\\dot{x}$\n",
        "- The angle of the pendulum, measured relative to the vertical axis, $\\theta$\n",
        "- The angular velocity of the pendulum, $\\dot\\theta$\n",
        "\n",
        "There are two actions, which apply leftward and rightward force to the cart.\n",
        "\n",
        "The agent receives a reward of $1$ at each timestep,and the episode ends when the pendulum drops too far ($|\\theta|$ gets large, around $\\pi/2$ radians) or when the cart goes out of bounds. Also, the environment terminates after 200 steps if it hasn't already terminated, so the greatest possible return is $200$."
      ]
    },
    {
      "cell_type": "code",
      "execution_count": 5,
      "metadata": {
        "colab": {
          "base_uri": "https://localhost:8080/",
          "height": 269
        },
        "id": "raHs7Jj79zw9",
        "outputId": "d80297d3-78e4-4b6e-e7cc-56eb1f3ba62e"
      },
      "outputs": [
        {
          "output_type": "display_data",
          "data": {
            "text/plain": [
              "<Figure size 432x288 with 1 Axes>"
            ],
            "image/png": "[encoded data removed]"
          },
          "metadata": {
            "needs_background": "light"
          }
        }
      ],
      "source": [
        "env = gym.make('CartPole-v0')\n",
        "env.reset()\n",
        "cartpole_img = env.render(mode='rgb_array')\n",
        "plt.imshow(cartpole_img)\n",
        "env.close()"
      ]
    },
    {
      "cell_type": "markdown",
      "metadata": {
        "id": "i-Y49oxALyvq"
      },
      "source": [
        "# Part 1. Parameterized Policy (30 pts total)\n",
        "\n",
        "In this assignment, we will be studying Policy Gradient algorithms. In these algorithms, rather than using action-values to select actions, the policy itself is parameterized (in our case, by a neural network), and the policy is optimized directly via gradient ascent.\n",
        "\n",
        "We will use a neural network to represent the policy here. The input to the neural network is a state, and the output should somehow encode a probability distribution over the action space. Our environment has a discrete action space, so the policy should output parameters for a *Categorical distribution*.\n",
        "\n"
      ]
    },
    {
      "cell_type": "markdown",
      "metadata": {
        "id": "1b-HE0MVAoGc"
      },
      "source": [
        "## 1a: The Policy Network (5 pts)\n",
        "As a first step, fill in the `policy_init_network` function, which should return a torch neural net that will be to produce policy distributions for input states. You are free to experiment with different neural network architectures if you desire, but we recommend the following. Using `torch.nn.Sequential`, make a multilayer perceptron (MLP) with the following layers:\n",
        "\n",
        "1. A linear layer of size `(state space dimension, 32)`, followed by a ReLU activation\n",
        "1. A linear layer of size `(32, 32)`, followed by a ReLU activation\n",
        "1. A linear layer of size `(32, number of actions)` followed by a Softmax activation, to make a probability distribution over actions."
      ]
    },
    {
      "cell_type": "code",
      "execution_count": 6,
      "metadata": {
        "id": "jFc7LOjmJejc",
        "tags": []
      },
      "outputs": [],
      "source": [
        "from torch.nn.modules.activation import Softmax\n",
        "def policy_init_network(env: gym.Env) -> nn.Module:\n",
        "    # ---------------------------------\n",
        "    return nn.Sequential(\n",
        "        nn.Linear(env.observation_space.shape[0], 32),\n",
        "        nn.ReLU(),\n",
        "        nn.Linear(32,32),\n",
        "        nn.ReLU(),\n",
        "        nn.Linear(32, env.action_space.n),\n",
        "        nn.Softmax()\n",
        "    )\n",
        "    # ---------------------------------"
      ]
    },
    {
      "cell_type": "code",
      "execution_count": 7,
      "metadata": {
        "deletable": false,
        "editable": false,
        "colab": {
          "base_uri": "https://localhost:8080/",
          "height": 46
        },
        "id": "4XWhUW0A5lGN",
        "outputId": "0aa0c0c4-fee3-445b-ab6e-b5306484caa1"
      },
      "outputs": [
        {
          "output_type": "execute_result",
          "data": {
            "text/plain": [
              "question 1a results: All test cases passed!"
            ],
            "text/html": [
              "<p><strong><pre style='display: inline;'>question 1a</pre></strong> passed! 🍀</p>"
            ]
          },
          "metadata": {},
          "execution_count": 7
        }
      ],
      "source": [
        "grader.check(\"question 1a\")"
      ]
    },
    {
      "cell_type": "markdown",
      "metadata": {
        "id": "-esPol7gSH2l"
      },
      "source": [
        "## 1b: The Policy Class (15 pts)\n",
        "In this part, we will build a class to represent the parameterized policy. This will be done in a few steps.\n",
        "\n",
        "### Part I: The constructor\n",
        "In the constructor of the `Policy` class, initialize the variable `opt`, which will be used to optimize the policy parameters. This variable should be a `torch.optim.Optimizer`.\n",
        "\n",
        "### Part II: The policy distribution\n",
        "Fill in the `dist` method. This method takes as input a state and outputs a torch [`Distribution`](https://pytorch.org/docs/stable/distributions.html) over actions.\n",
        "\n",
        "### Part III: Sampling actions\n",
        "Fill in the `action` method. This method samples a random action from the policy at a given state."
      ]
    },
    {
      "cell_type": "code",
      "execution_count": 321,
      "metadata": {
        "id": "jmTbUIJ-PYAz",
        "tags": []
      },
      "outputs": [],
      "source": [
        "class Policy:\n",
        "  def __init__(self,\n",
        "               env: gym.Env,\n",
        "               network: nn.Module,\n",
        "               discount=0.99,\n",
        "               name=\"Abstract Policy\"):\n",
        "    self.name = name\n",
        "    self.network = network\n",
        "    self.discount = discount\n",
        "\n",
        "    self.env = env\n",
        "    self.obs_dim = env.observation_space.shape[0]\n",
        "    self.n_actions = env.action_space.n\n",
        "\n",
        "    # Your code here  (Part I)\n",
        "    # ==========================\n",
        "    self.opt = torch.optim.Adam(network.parameters())\n",
        "    # ==========================\n",
        "\n",
        "  \"\"\"\n",
        "  Get the distribution over actions for a given state\n",
        "  \"\"\"\n",
        "  def dist(self, x: np.ndarray) -> torchdist.distribution.Distribution:\n",
        "    dist = None\n",
        "    # Your code here (Part II)\n",
        "    # ========================\n",
        "    X = torch.from_numpy(x)\n",
        "    if len(x.shape) == 1:\n",
        "        X = X.unsqueeze(0)\n",
        "    probs = self.network.forward(X)\n",
        "    dist = torch.distributions.Categorical(probs)\n",
        "    self.m = dist\n",
        "    # ========================\n",
        "    return dist\n",
        "\n",
        "  \"\"\"\n",
        "  Sample a random action from the policy at a given state\n",
        "\n",
        "  Input: a state encoded as a numpy array\n",
        "  Output: an action encoded as an int\n",
        "  \"\"\"\n",
        "  def action(self, x: np.ndarray) -> int:\n",
        "    action = None\n",
        "    # Your code here (Part III)\n",
        "    # ========================\n",
        "    action = int(self.dist(x).sample())\n",
        "    # ========================\n",
        "    return action\n",
        "\n",
        "  def update(self, states, actions, rewards, dones) -> float:\n",
        "    raise NotImplementedError\n"
      ]
    },
    {
      "cell_type": "code",
      "execution_count": 252,
      "metadata": {
        "deletable": false,
        "editable": false,
        "colab": {
          "base_uri": "https://localhost:8080/",
          "height": 46
        },
        "id": "Oc3IpARN5lGO",
        "outputId": "c1b92ba8-0cba-4a23-bb77-673c0f99018a"
      },
      "outputs": [
        {
          "output_type": "execute_result",
          "data": {
            "text/plain": [
              "question 1b results: All test cases passed!"
            ],
            "text/html": [
              "<p><strong><pre style='display: inline;'>question 1b</pre></strong> passed! 🚀</p>"
            ]
          },
          "metadata": {},
          "execution_count": 252
        }
      ],
      "source": [
        "grader.check(\"question 1b\")"
      ]
    },
    {
      "cell_type": "markdown",
      "metadata": {
        "id": "kqxkPZZI5lGO"
      },
      "source": [
        "## 1c: Generating Rollouts (10 pts)"
      ]
    },
    {
      "cell_type": "markdown",
      "metadata": {
        "id": "zdgVCpU8Savd"
      },
      "source": [
        "Now, fill in the following function that rolls out $N$ episodes in the environment with the policy. The function should return `(states, actions, rewards, dones)` where\n",
        "\n",
        "1. `states` is a record of the states observed over the course of the episodes.\n",
        "1. `actions` is a record of the actions taken.\n",
        "1. `rewards` is a record of the rewards earned.\n",
        "1. `dones` is an array of `bool`s that marks where the episodes end. For example, if each episode is 3 steps long, `dones = [False, False, True, False, False, True,...]`."
      ]
    },
    {
      "cell_type": "code",
      "source": [
        "def show_state(env, step=0, info=\"\"):\n",
        "    \"\"\" From: https://stackoverflow.com/questions/40195740/how-to-run-openai-gym-render-over-a-server \"\"\"\n",
        "    plt.figure(3)\n",
        "    plt.clf()\n",
        "    plt.imshow(env.render(mode='rgb_array'))\n",
        "    plt.title(f\"{env.spec.id} | Step: {step} {info}\")\n",
        "    plt.axis('off')\n",
        "\n",
        "    display.clear_output(wait=True)\n",
        "    display.display(plt.gcf())"
      ],
      "metadata": {
        "id": "YRWyGsAZIB6z"
      },
      "execution_count": 221,
      "outputs": []
    },
    {
      "cell_type": "code",
      "execution_count": 283,
      "metadata": {
        "id": "Cy1iw7lWSB4H",
        "tags": []
      },
      "outputs": [],
      "source": [
        "def rollout(env: gym.Env, policy: Policy, N=1, render=False):\n",
        "    states = []\n",
        "    actions = []\n",
        "    rewards = []\n",
        "    dones = []\n",
        "    # Your code here\n",
        "    #==========================\n",
        "    for episode in range(N):\n",
        "        state = env.reset()\n",
        "        states.append(state)\n",
        "        done = False\n",
        "        step = 0\n",
        "        \n",
        "        while not done:\n",
        "            action = policy.action(state)\n",
        "            state, reward, done, _ = env.step(action)\n",
        "\n",
        "            actions.append(action)\n",
        "            rewards.append(reward)\n",
        "            dones.append(done)\n",
        "            if not done:\n",
        "                states.append(state)\n",
        "\n",
        "            if render:\n",
        "                show_state(env.unwrapped, step=step)\n",
        "\n",
        "            step += 1\n",
        "    #==========================\n",
        "    if render:\n",
        "        env.close()\n",
        "    return (np.array(states), np.array(actions), np.array(rewards), np.array(dones))"
      ]
    },
    {
      "cell_type": "code",
      "source": [
        "if __name__ == \"__main__\":\n",
        "    test_env = gym.make('CartPole-v0')\n",
        "    test_policy = Policy(test_env, policy_init_network(test_env), 0.99)\n",
        "    num_rollouts = 1\n",
        "    test_s, test_a, test_r, test_d = rollout(test_env, test_policy, num_rollouts, True)\n",
        "    print(rollout(test_env, test_policy, num_rollouts, True))"
      ],
      "metadata": {
        "colab": {
          "base_uri": "https://localhost:8080/",
          "height": 826
        },
        "id": "BArnJWjUEma9",
        "outputId": "f0a9e0bd-390c-49a2-efbe-b0f541657bd6"
      },
      "execution_count": 285,
      "outputs": [
        {
          "output_type": "display_data",
          "data": {
            "text/plain": [
              "<Figure size 432x288 with 1 Axes>"
            ],
            "image/png": "[encoded data removed]"
          },
          "metadata": {}
        },
        {
          "output_type": "stream",
          "name": "stdout",
          "text": [
            "(array([[ 0.02230983,  0.01509999,  0.02543105, -0.01961452],\n",
            "       [ 0.02261183,  0.20984817,  0.02503875, -0.3041664 ],\n",
            "       [ 0.02680879,  0.0143785 ,  0.01895543, -0.0036932 ],\n",
            "       [ 0.02709636,  0.20922355,  0.01888156, -0.29033569],\n",
            "       [ 0.03128083,  0.01383752,  0.01307485,  0.00824195],\n",
            "       [ 0.03155758, -0.18146947,  0.01323969,  0.30502132],\n",
            "       [ 0.02792819, -0.3767776 ,  0.01934011,  0.60185015],\n",
            "       [ 0.02039264, -0.57216465,  0.03137712,  0.9005616 ],\n",
            "       [ 0.00894935, -0.7676974 ,  0.04938835,  1.2029396 ],\n",
            "       [-0.0064046 , -0.9634219 ,  0.07344714,  1.5106827 ],\n",
            "       [-0.02567304, -0.7692626 ,  0.10366079,  1.241803  ],\n",
            "       [-0.04105829, -0.5756127 ,  0.12849686,  0.98330915],\n",
            "       [-0.05257054, -0.7722002 ,  0.14816304,  1.3134335 ],\n",
            "       [-0.06801455, -0.96885407,  0.17443171,  1.6485832 ],\n",
            "       [-0.08739163, -0.7761478 ,  0.20740338,  1.4149334 ]],\n",
            "      dtype=float32), array([1, 0, 1, 0, 0, 0, 0, 0, 0, 1, 1, 0, 0, 1, 0]), array([1., 1., 1., 1., 1., 1., 1., 1., 1., 1., 1., 1., 1., 1., 1.]), array([False, False, False, False, False, False, False, False, False,\n",
            "       False, False, False, False, False,  True]))\n"
          ]
        },
        {
          "output_type": "display_data",
          "data": {
            "text/plain": [
              "<Figure size 432x288 with 1 Axes>"
            ],
            "image/png": "[encoded data removed]"
          },
          "metadata": {
            "needs_background": "light"
          }
        }
      ]
    },
    {
      "cell_type": "code",
      "execution_count": 281,
      "metadata": {
        "deletable": false,
        "editable": false,
        "colab": {
          "base_uri": "https://localhost:8080/",
          "height": 46
        },
        "id": "nH_zs0z-5lGP",
        "outputId": "4bd2d60e-0a9c-4616-a0c2-962899cabac3"
      },
      "outputs": [
        {
          "output_type": "execute_result",
          "data": {
            "text/plain": [
              "question 1c results: All test cases passed!"
            ],
            "text/html": [
              "<p><strong><pre style='display: inline;'>question 1c</pre></strong> passed! 🌟</p>"
            ]
          },
          "metadata": {},
          "execution_count": 281
        }
      ],
      "source": [
        "grader.check(\"question 1c\")"
      ]
    },
    {
      "cell_type": "markdown",
      "metadata": {
        "id": "7vlJlYVH5lGP"
      },
      "source": [
        "# 2. REINFORCE (47 pts total)\n",
        "In this section, we will implement the REINFORCE algorithm."
      ]
    },
    {
      "cell_type": "markdown",
      "metadata": {
        "id": "jocPdu0gdDTs"
      },
      "source": [
        "<!-- BEGIN QUESTION -->\n",
        "\n",
        "\n",
        "## 2a: Discounting Rewards (22 pts total)\n",
        "\n",
        "This problem has 3 parts.\n",
        "\n",
        "Recall the form of the REINFORCE policy gradient:\n",
        "\n",
        "$$\n",
        "\\nabla_\\theta J(\\theta) = \\sum_{k=0}^T\\mathbf{E}\\left\\{G^{\\pi_\\theta}\\nabla_\\theta\\log\\pi_\\theta(a_k\\mid s_k)\\right\\}\n",
        "$$\n",
        "\n",
        "Here $\\pi_\\theta$ is the parameterized (neural net) policy with parameters $\\theta$, and $G^{\\pi_\\theta}$ is the random variable corresponding to the discounted return induced by following $\\pi_\\theta$. Note that at timestep $k$, action $a_k$ had no influence on rewards incurred before timestep $k$. For this reason, it is generally preferred to compute the following,\n",
        "\n",
        "$$\n",
        "\\widehat\\nabla_\\theta J(\\theta) = \\sum_{k=0}^T\\mathbf{E}\\left\\{G^{\\pi_\\theta}_k\\nabla_\\theta\\log\\pi_\\theta(a_k\\mid s_k)\\right\\}\n",
        "$$\n",
        "\n",
        "where\n",
        "\n",
        "$$\n",
        "G^{\\pi_\\theta}_k = \\sum_{t=k}^T\\gamma^{t-k}r(s_k, a_k)\n",
        "$$\n",
        "\n",
        "### Part I (5 pts):\n",
        "**Question**: Why do you think it is preferred to substitute $\\nabla_\\theta J(\\theta)$ for $\\widehat\\nabla_\\theta J(\\theta)$ in policy gradient algorithms?"
      ]
    },
    {
      "cell_type": "markdown",
      "metadata": {
        "id": "zHXT-pJU5lGP"
      },
      "source": [
        "It is preferable to use the unbiased version of the equation so as not to impact the previous actions. You can make 10 great moves and miss the 11th, it doesn't mean that the first moves were not good"
      ]
    },
    {
      "cell_type": "markdown",
      "metadata": {
        "id": "u1CQGAPksPIR"
      },
      "source": [
        "<!-- END QUESTION -->\n",
        "\n",
        "<!-- BEGIN QUESTION -->\n",
        "\n",
        "### Part II (5 points):\n",
        "\n",
        "It may help to make the assumption that at the end of an episode, the agent keeps receiving the final reward indefinitely. So, when an episode ends at time $T$, the \"effective reward\" at that last timestep is\n",
        "\n",
        "$$\n",
        "r_T = r(s_T, a_T) + \\gamma r(s_T, a_T) + \\gamma^2r(s_T, a_T) + \\dots\\\\\n",
        "= r(s_T, a_T)\\left(\\sum_{k=0}^\\infty\\gamma^k\\right) \n",
        "$$\n",
        "\n",
        "It's like as if the agent remains in its terminal state forever. When computing the discounted return of a trajectory, you may replace the terminal reward with this \"effective reward\". We will call this \"the perpetuity trick\".\n",
        "\n",
        "**Question**: When should one apply the \"perpetuity trick\", and what effect would you expect it to have on training?"
      ]
    },
    {
      "cell_type": "markdown",
      "metadata": {
        "id": "ebNRCMo-5lGQ"
      },
      "source": [
        "_Type your answer here, replacing this text._"
      ]
    },
    {
      "cell_type": "markdown",
      "metadata": {
        "id": "Sdb2afgwhPbW"
      },
      "source": [
        "<!-- END QUESTION -->\n",
        "\n",
        "### Part III (12 points):\n",
        "Implement the function `discounted_returns`, which computes the values $(G_1^{\\pi_\\theta},G_2^{\\pi_\\theta},\\dots)$ for a given sequence of rewards.\n",
        "\n",
        "The function takes three arguments:\n",
        "\n",
        "1. `rewards`: An array of rewards, which may have been collected over several trajectories. \n",
        "1. `dones`: An array of `bool`s, which mark where trajectories ended.\n",
        "1. `discount`: The discount factor.\n",
        "1. `perpetuity`: A boolean that indicates whether or not the perpetuity trick should be used.\n",
        "\n",
        "The output of the function should be a list of the same length as `rewards` containing the cumulative discounted future returns starting at each step in the reward sequence. Mathematically, for some index $k$, if $T$ is the first index after $k$ for which `dones[T] = True`, then\n",
        "\n",
        "$$\n",
        "\\texttt{returns}[k] = \\texttt{rewards}[k] + \\gamma\\texttt{rewards}[k+1] + \\dots + \\gamma^{T-k}\\texttt{rewards}[T]\\quad \\text{(+ perpetuity, if applicable)}\n",
        "$$\n",
        "\n",
        "For example, suppose we gather data from two trajectories, which had rewards `[1,2,3]` and `[4, 2, 1]` respectively. Then:\n",
        "\n",
        "- `rewards = [1,2,3,4,2,1]`\n",
        "- `dones = [False, False, True, False, False, True]`\n",
        "\n",
        "For `discount = 0.5`, the output should be \n",
        "\n",
        "- Without perpetuity trick: `[2.75, 3.5, 3, 5.25, 2.5, 1]`.\n",
        "- With perpetuity trick: `[3.5, 5, 6, 5.5, 3, 2]`.\n",
        "\n",
        "**NOTE**: The output should be a numpy array."
      ]
    },
    {
      "cell_type": "code",
      "execution_count": 224,
      "metadata": {
        "id": "Hoadj-naiOJk",
        "tags": []
      },
      "outputs": [],
      "source": [
        "def discounted_returns(rewards: np.ndarray, dones: np.ndarray, discount:float, perpetuity = False) -> np.ndarray:\n",
        "    # Your code here\n",
        "    # ===============================\n",
        "    if type(dones) == list:\n",
        "        #/!\\ Problem with the grader, dones is a list\n",
        "        dones = np.array(dones) \n",
        "\n",
        "    returns = list()\n",
        "    for k, reward in enumerate(rewards):\n",
        "        # Find next end of episode\n",
        "        T = k + np.where(dones[k:]==True)[0][0] + 1\n",
        "\n",
        "        # Calcul perpetuity\n",
        "        per = lambda k: sum([discount**(k+i) * rewards[T-1] for i in range(1000)]) if perpetuity else 0\n",
        "        \n",
        "        # Sum discounted rewards\n",
        "        r = sum([discount**k * reward for k, reward in enumerate(rewards[k:T])]) + per(len(rewards[k:T]))\n",
        "\n",
        "        # Save value for current state\n",
        "        returns.append(r)\n",
        "    # ===============================\n",
        "    return np.array(returns)"
      ]
    },
    {
      "cell_type": "code",
      "execution_count": 225,
      "metadata": {
        "deletable": false,
        "editable": false,
        "colab": {
          "base_uri": "https://localhost:8080/",
          "height": 46
        },
        "id": "fAjv5bCJ5lGQ",
        "outputId": "5dd956e1-84b3-4f04-a252-d371ae40a8a0"
      },
      "outputs": [
        {
          "output_type": "execute_result",
          "data": {
            "text/plain": [
              "question 2a.3 results: All test cases passed!"
            ],
            "text/html": [
              "<p><strong><pre style='display: inline;'>question 2a.3</pre></strong> passed! 🎉</p>"
            ]
          },
          "metadata": {},
          "execution_count": 225
        }
      ],
      "source": [
        "grader.check(\"question 2a.3\")"
      ]
    },
    {
      "cell_type": "markdown",
      "metadata": {
        "id": "0TbcxxeokvSp"
      },
      "source": [
        "<!-- BEGIN QUESTION -->\n",
        "\n",
        "## 2b: The REINFORCE Update (10 pts)\n",
        "Finally, we'll implement REINFORCE. Fill in the `update` method for the `REINFORCEPolicy` class below. This method takes the following inputs:\n",
        "\n",
        "1. `states`: An array of observed states over the course of $N$ episodes.\n",
        "1. `actions`: An array of actions taken at the corresponding `states`.\n",
        "1. `rewards`: An array of rewards received, where `rewards[k]` is the reward for taking actions `actions[k]` at state `states[k]`.\n",
        "1. `dones`: An array of `bool`s marking the end of episodes.\n",
        "\n",
        "This method should perform the following:\n",
        "- Compute the average policy gradient \"loss\", which is $-\\sum_{n=1}^{T}G_n^{\\pi_\\theta}\\log\\pi_\\theta(a_n\\mid s_n)$,  averaged over all trajectories\n",
        "- Compute the policy gradient\n",
        "- Update the policy parameters\n",
        "\n",
        "The method should return a dictionary that contains information from the update. For now, the dictionary should only have one entry with key `'policy_loss'` that contains a scalar loss from the policy gradient computation."
      ]
    },
    {
      "cell_type": "code",
      "source": [
        "    ## Matrix calcul\n",
        "    # self.network.train()\n",
        "    # self.opt.zero_grad()\n",
        "    # d_returns = discounted_returns(rewards, dones, self.discount)\n",
        "\n",
        "    # # Find log prob of actions\n",
        "    # actions_tensor = torch.Tensor(actions)\n",
        "    # m = self.dist(states)\n",
        "    # log_proba = m.log_prob(actions_tensor)\n",
        "\n",
        "    # # Sum\n",
        "    # loss = -torch.sum(torch.FloatTensor(d_returns) * log_proba)\n",
        "\n",
        "    # # Do update\n",
        "    # loss.backward()\n",
        "    # self.opt.step()\n",
        "\n",
        "    # loss_dict[\"policy_loss\"] = float(loss)\n",
        "\n",
        "    # self.network.eval()"
      ],
      "metadata": {
        "id": "XD34VfDfWGK_"
      },
      "execution_count": 286,
      "outputs": []
    },
    {
      "cell_type": "code",
      "execution_count": 328,
      "metadata": {
        "id": "fHIT-dd_k05l",
        "tags": []
      },
      "outputs": [],
      "source": [
        "class REINFORCEPolicy(Policy):\n",
        "  def __init__(self,\n",
        "               env: gym.Env,\n",
        "               network: nn.Module,\n",
        "               discount=0.99,\n",
        "               name=\"Plain REINFORCE\"):\n",
        "    super().__init__(env, network, discount=discount, name=name)\n",
        "    \n",
        "  \"\"\"\n",
        "  Perform a gradient update\n",
        "  Inputs:\n",
        "    states, actions, rewards, dones: Output from rollout method\n",
        "  Returns:\n",
        "    Dictionary with the following keys:\n",
        "    - \"policy_loss\": float of the policy gradient loss (the quantity whose gradient is taken)\n",
        "  \"\"\"  \n",
        "  def update(self, states, actions, rewards, dones) -> float:\n",
        "    loss_dict = {}\n",
        "    # Your code here\n",
        "    # ======================\n",
        "    # d_returns = discounted_returns(rewards, dones, self.discount)\n",
        "\n",
        "    # n_eps = np.sum(dones)\n",
        "    # loss = torch.zeros(n_eps)\n",
        "    # current_loss = []\n",
        "    # eps = 0\n",
        "\n",
        "    # for s, a, d_r, d, in zip(states, torch.Tensor(actions), d_returns, dones):\n",
        "    #     m = self.dist(s)\n",
        "    #     log_proba = m.log_prob(torch.Tensor(a).unsqueeze(0))\n",
        "    #     current_loss.append(log_proba * d_r)\n",
        "    #     if d:\n",
        "    #         loss[eps] = -torch.cat(current_loss).sum()\n",
        "    #         current_loss = []\n",
        "    #         eps += 1\n",
        "\n",
        "    # # Do update\n",
        "    # self.opt.zero_grad()\n",
        "    # loss = loss.mean()\n",
        "    # loss.backward()\n",
        "    # self.opt.step()\n",
        "\n",
        "\n",
        "    # Matrix calcul   \n",
        "    d_returns = discounted_returns(rewards, dones, self.discount)\n",
        "\n",
        "    # Find end of episode\n",
        "    idx_end_eps = np.where(dones[:]==True)[0]\n",
        "    eps_count = len(idx_end_eps)\n",
        "    eps = 0\n",
        "    last_end_eps = 0\n",
        "\n",
        "    loss = torch.zeros(eps_count)\n",
        "\n",
        "    # Iterate throw eps\n",
        "    for end_eps in idx_end_eps:\n",
        "        # Create episode tensor\n",
        "        states_eps = states[last_end_eps:end_eps]\n",
        "        actions_eps = actions[last_end_eps:end_eps]\n",
        "        d_returns_eps = d_returns[last_end_eps:end_eps]\n",
        "\n",
        "        # Find log prob of actions\n",
        "        actions_tensor = torch.Tensor(actions_eps)\n",
        "        m = self.dist(states_eps)\n",
        "        log_proba = m.log_prob(actions_tensor)\n",
        "        # print(log_proba)\n",
        "\n",
        "        # Find loss\n",
        "        loss[eps] = -torch.sum(torch.FloatTensor(d_returns_eps) * log_proba)\n",
        "\n",
        "        # Update eps idx\n",
        "        last_end_eps = end_eps\n",
        "        eps += 1\n",
        "\n",
        "    # Do update\n",
        "    self.opt.zero_grad()\n",
        "    loss = loss = loss.mean()\n",
        "    loss.backward()\n",
        "    self.opt.step()\n",
        "\n",
        "    loss_dict[\"policy_loss\"] = float(loss)\n",
        "    # ======================\n",
        "    return loss_dict"
      ]
    },
    {
      "cell_type": "code",
      "source": [
        "test_env = gym.make('CartPole-v0')\n",
        "assert_equal = functools.partial(torch.testing.assert_close, rtol=0, atol=0)\n",
        "test_reinforce = REINFORCEPolicy(test_env, policy_init_network(test_env), 0.99)\n",
        "test_states, test_actions, test_rewards, test_dones = rollout(test_env, test_reinforce, 2)\n",
        "\n",
        "loss = test_reinforce.update(test_states, test_actions, test_rewards, test_dones)\n",
        "print(loss)\n",
        "assert_equal(isinstance(loss,dict), True)\n",
        "assert_equal('policy_loss' in loss, True)"
      ],
      "metadata": {
        "colab": {
          "base_uri": "https://localhost:8080/"
        },
        "id": "d-R9QnGmswbl",
        "outputId": "521bad59-c6f0-40d5-bf52-d8f415cff2eb"
      },
      "execution_count": 329,
      "outputs": [
        {
          "output_type": "stream",
          "name": "stdout",
          "text": [
            "{'policy_loss': 114.34689331054688}\n"
          ]
        }
      ]
    },
    {
      "cell_type": "code",
      "execution_count": 330,
      "metadata": {
        "deletable": false,
        "editable": false,
        "colab": {
          "base_uri": "https://localhost:8080/",
          "height": 46
        },
        "id": "pmk6dagO5lGR",
        "outputId": "40443722-62f7-4884-c66f-c4bd094cd399"
      },
      "outputs": [
        {
          "output_type": "execute_result",
          "data": {
            "text/plain": [
              "question 2b results: All test cases passed!"
            ],
            "text/html": [
              "<p><strong><pre style='display: inline;'>question 2b</pre></strong> passed! 🎉</p>"
            ]
          },
          "metadata": {},
          "execution_count": 330
        }
      ],
      "source": [
        "grader.check(\"question 2b\")"
      ]
    },
    {
      "cell_type": "markdown",
      "metadata": {
        "id": "LYI2MRIOyKk9"
      },
      "source": [
        "<!-- END QUESTION -->\n",
        "\n",
        "## 2c: Experiments (15 pts)\n",
        "\n",
        "The code below will train agents with REINFORCE using a varying number $N$ of trajectories per gradient estimate, for a fixed number of gradient steps. After each gradient step, we roll out 5 episodes and plot the mean and variance of their returns. Before running the experiments, think about how you expect the performance of the agents to depend on $N$."
      ]
    },
    {
      "cell_type": "code",
      "execution_count": 332,
      "metadata": {
        "colab": {
          "base_uri": "https://localhost:8080/",
          "height": 494
        },
        "id": "G3BidIGPzqcB",
        "outputId": "8ec33bf3-80cd-45ad-a5e7-038fb67b4a10"
      },
      "outputs": [
        {
          "output_type": "stream",
          "name": "stdout",
          "text": [
            "N = 1\n"
          ]
        },
        {
          "output_type": "stream",
          "name": "stderr",
          "text": [
            "100%|██████████| 400/400 [01:12<00:00,  5.53it/s]\n"
          ]
        },
        {
          "output_type": "stream",
          "name": "stdout",
          "text": [
            "N = 5\n"
          ]
        },
        {
          "output_type": "stream",
          "name": "stderr",
          "text": [
            "100%|██████████| 400/400 [02:55<00:00,  2.27it/s]\n"
          ]
        },
        {
          "output_type": "stream",
          "name": "stdout",
          "text": [
            "N = 10\n"
          ]
        },
        {
          "output_type": "stream",
          "name": "stderr",
          "text": [
            "100%|██████████| 400/400 [04:50<00:00,  1.37it/s]\n"
          ]
        },
        {
          "output_type": "display_data",
          "data": {
            "text/plain": [
              "<Figure size 864x432 with 2 Axes>"
            ],
            "image/png": "[encoded data removed]"
          },
          "metadata": {
            "needs_background": "light"
          }
        }
      ],
      "source": [
        "Ns = [1, 5, 10]\n",
        "# Ns = [1] \n",
        "\n",
        "env = gym.make('CartPole-v0')\n",
        "agents = [\n",
        "    REINFORCEPolicy(env, policy_init_network(env))\n",
        "    for _ in Ns\n",
        "]\n",
        "\n",
        "gradient_steps = 400\n",
        "scores = [np.zeros(gradient_steps) for N in Ns]\n",
        "stds = [np.zeros(gradient_steps) for N in Ns]\n",
        "\n",
        "test_runs = 5\n",
        "\n",
        "def rollout_score(env, policy):\n",
        "  _, _, rewards, _ = rollout(env, policy, N=1)\n",
        "  return np.sum(rewards)\n",
        "\n",
        "gs = list(range(gradient_steps))\n",
        "\n",
        "cmap = plt.get_cmap('viridis')\n",
        "fig, (ret_ax, loss_ax) = plt.subplots(nrows=1, ncols=2, figsize=(12, 6))\n",
        "\n",
        "if not running_in_gradescope():\n",
        "    for i in range(len(Ns)):\n",
        "      reinforce_policy = agents[i]\n",
        "      N = Ns[i]\n",
        "      print(f\"N = {N}\")\n",
        "      losses = []\n",
        "      for g in tqdm(range(gradient_steps)):\n",
        "        states, actions, rewards, dones = rollout(env, reinforce_policy, N=N)\n",
        "        loss = reinforce_policy.update(states, actions, rewards, dones)\n",
        "        losses.append(loss['policy_loss'])\n",
        "        res = [rollout_score(env, reinforce_policy) for _ in range(test_runs)]\n",
        "        scores[i][g] = np.mean(res)\n",
        "        stds[i][g] = np.std(res)\n",
        "      color = cmap(i / len(Ns))\n",
        "      ret_ax.plot(gs, scores[i], label=f\"N={N}\", color = color)\n",
        "      ret_ax.fill_between(gs, scores[i] - stds[i], scores[i] + stds[i], alpha=0.3, color=color)\n",
        "      loss_ax.plot(gs, losses, label=f\"N={N}\", color = color)\n",
        "    ret_ax.legend()\n",
        "    ret_ax.grid(True)\n",
        "    ret_ax.margins(0)\n",
        "    ret_ax.set_title('Episode return')\n",
        "    loss_ax.legend()\n",
        "    loss_ax.grid(True)\n",
        "    loss_ax.margins(0)\n",
        "    loss_ax.set_title(\"Policy loss\")"
      ]
    },
    {
      "cell_type": "code",
      "execution_count": 333,
      "metadata": {
        "id": "rAgzrUXI5lGS"
      },
      "outputs": [],
      "source": [
        "plt.close('all')"
      ]
    },
    {
      "cell_type": "code",
      "source": [
        "if __name__ == \"__main__\":\n",
        "    AGENT = 2\n",
        "\n",
        "    test_env = gym.make('CartPole-v0')\n",
        "    test_policy = agents[AGENT]\n",
        "    num_rollouts = 1\n",
        "    test_s, test_a, test_r, test_d = rollout(test_env, test_policy, num_rollouts, True)"
      ],
      "metadata": {
        "id": "32tle5WMNmg2",
        "outputId": "cb528f5c-53f7-4c93-d76d-d27d0adc2d57",
        "colab": {
          "base_uri": "https://localhost:8080/",
          "height": 511
        }
      },
      "execution_count": 335,
      "outputs": [
        {
          "output_type": "display_data",
          "data": {
            "text/plain": [
              "<Figure size 432x288 with 1 Axes>"
            ],
            "image/png": "[encoded data removed]"
          },
          "metadata": {}
        },
        {
          "output_type": "display_data",
          "data": {
            "text/plain": [
              "<Figure size 432x288 with 1 Axes>"
            ],
            "image/png": "[encoded data removed]"
          },
          "metadata": {
            "needs_background": "light"
          }
        }
      ]
    },
    {
      "cell_type": "markdown",
      "metadata": {
        "id": "4kfAZzwr5lGS"
      },
      "source": [
        "### Analysis\n",
        "Based on your results, report how the number of rollout trajectories per update affected the learning process. Do your results match your expectations? Explain why or why not."
      ]
    },
    {
      "cell_type": "markdown",
      "metadata": {
        "id": "f2Hfvz6-5lGS"
      },
      "source": []
    },
    {
      "cell_type": "markdown",
      "metadata": {
        "id": "sFJSefg4ig9k"
      },
      "source": [
        "# 3. REINFORCE with Baseline (40 pts total)\n",
        "When using a baseline in REINFORCE, the policy gradient formula is modified to the following,\n",
        "\n",
        "$$\n",
        "\\nabla_\\theta J(\\theta) = \\sum_{k=0}^T\\mathbf{E}\\left\\{(G^{\\pi_\\theta} - b(s_k))\\nabla_\\theta\\log\\pi_\\theta(a_k\\mid s_k)\\right\\}\n",
        "$$\n",
        "\n",
        "for some function $b:\\mathcal{S}\\to\\mathbf{R}$."
      ]
    },
    {
      "cell_type": "markdown",
      "metadata": {
        "id": "5hWa2I385lGS"
      },
      "source": [
        "<!-- BEGIN QUESTION -->\n",
        "\n",
        "## 3a: Understanding the baseline (12 pts)\n",
        "1. **(3 pts)** What purpose does the baseline serve?\n",
        "1. **(3 pts)** If the baseline is a constant (that is, $b(s_1) = b(s_2)$ for any pair of states $(s_1, s_2)$), should we expect the performance of REINFORCE with this baseline to be any different from standard REINFORCE?\n",
        "1. **(3 pts)** Why can't the baseline be a function of the action as well as the state? \n",
        "1. **(3 pts)** Does the inclusion of an arbitrary baseline always help? "
      ]
    },
    {
      "cell_type": "markdown",
      "metadata": {
        "id": "puGoc_zJ5lGS"
      },
      "source": [
        "_Type your answer here, replacing this text._"
      ]
    },
    {
      "cell_type": "markdown",
      "metadata": {
        "id": "xLDPKzevkubU"
      },
      "source": [
        "<!-- END QUESTION -->\n",
        "\n",
        "## 3b: The Value Function (3 pts)\n",
        "In our experiments, we will use the value function as our baseline. It will be necessary to learn the value function from data, so our baseline will have the form\n",
        "\n",
        "$$\n",
        "b(s) = V^{\\pi_\\theta}_\\phi(s)\n",
        "$$\n",
        "\n",
        "where $\\phi$ denotes the parameters of the value function.\n",
        "\n",
        "Fill in the code for the construction of the value function neural net in `value_init_network`. The network architecture should be similar to that of the policy network besides the output layer."
      ]
    },
    {
      "cell_type": "code",
      "execution_count": null,
      "metadata": {
        "id": "wMOJYE4rktzZ",
        "tags": []
      },
      "outputs": [],
      "source": [
        "def value_init_network(env: gym.Env) -> nn.Module:\n",
        "  # Your code here\n",
        "  # ===========================================================\n",
        "  ...\n",
        "  # ==========================================================="
      ]
    },
    {
      "cell_type": "code",
      "execution_count": null,
      "metadata": {
        "deletable": false,
        "editable": false,
        "id": "xSFCnICx5lGT"
      },
      "outputs": [],
      "source": [
        "grader.check(\"question 3b\")"
      ]
    },
    {
      "cell_type": "markdown",
      "metadata": {
        "id": "CsGmzf4M5lGT"
      },
      "source": [
        "<!-- BEGIN QUESTION -->\n",
        "\n",
        "## 3c: REINFORCE with Baseline (10 pts)\n",
        "\n",
        "Fill in the constructor and the `update` method for `REINFORCEWithBaselinePolicy`.\n",
        "\n",
        "The constructor should do set two variables:\n",
        "* `self.value_network`: the value function neural network\n",
        "* `self.value_opt`: the `torch.optim.Optimizer` for the value function parameters\n",
        "\n",
        "This method should perform the following:\n",
        "- Compute the \"policy gradient loss\", using the value predictions from the value function network instead of the Monte Carlo return estimates\n",
        "- Compute the policy gradient, again using the value predictions from the value function network instead of the Monte Carlo return estimates\n",
        "- Update the policy parameters\n",
        "- Compute the \"value loss\", which is mean squared difference between the Monte Carlo return estimates and the value function network predictions at each state in the trajectory\n",
        "- Update the value function network parameters\n",
        "\n",
        "As with the standard REINFORCE case, the `update` method returns a dictionary with a key `'policy_loss'` reflecting the loss w.r.t. the policy gradient objective. For `REINFORCEWithBaselinePolicy`'s `update` method, however, the dictionary should also have a key `'value_loss'` reflecting the loss w.r.t. the value function error."
      ]
    },
    {
      "cell_type": "code",
      "execution_count": null,
      "metadata": {
        "tags": [],
        "id": "-Zf7mpjL5lGT"
      },
      "outputs": [],
      "source": [
        "class REINFORCEWithBaselinePolicy(Policy):\n",
        "  def __init__(self,\n",
        "               env: gym.Env,\n",
        "               policy_network: nn.Module,\n",
        "               value_network: nn.Module,\n",
        "               discount=0.99,\n",
        "               name=\"REINFORCE with Baseline\"):\n",
        "    super().__init__(env, policy_network, discount=discount, name=name)\n",
        "    # Your code here\n",
        "    # ===========================================================\n",
        "    ...\n",
        "    # ===========================================================\n",
        "  \n",
        "  \"\"\"\n",
        "  Perform a gradient update\n",
        "  Inputs:\n",
        "    states, actions, rewards, dones: Output from rollout method\n",
        "  Returns:\n",
        "    Dictionary with the following keys:\n",
        "    - \"policy_loss\": float of the policy gradient loss (the quantity whose gradient is taken)\n",
        "    - \"value_loss\": float of the squared TD error\n",
        "  \"\"\"  \n",
        "  def update(self, states, actions, rewards, dones) -> float:\n",
        "    loss_dict = {}\n",
        "    # Your code here\n",
        "    # ======================\n",
        "    ...\n",
        "    # ======================\n",
        "    return loss_dict"
      ]
    },
    {
      "cell_type": "code",
      "execution_count": null,
      "metadata": {
        "deletable": false,
        "editable": false,
        "id": "Ss50UjJW5lGT"
      },
      "outputs": [],
      "source": [
        "grader.check(\"question 3c\")"
      ]
    },
    {
      "cell_type": "markdown",
      "metadata": {
        "id": "me_n0O1yvdbm"
      },
      "source": [
        "<!-- END QUESTION -->\n",
        "\n",
        "## 3d: Experiments (15 pts)\n",
        "\n",
        "The code below will train agents with REINFORCE with and without the value function baseline. Think about how you expect the return and loss curves to behave with and without the baseline."
      ]
    },
    {
      "cell_type": "code",
      "execution_count": null,
      "metadata": {
        "id": "0ATEh_JdvUIS"
      },
      "outputs": [],
      "source": [
        "agents = [\n",
        "    REINFORCEPolicy(env, policy_init_network(env)),\n",
        "    REINFORCEWithBaselinePolicy(env, policy_init_network(env), value_init_network(env))\n",
        "]\n",
        "\n",
        "gradient_steps = 400\n",
        "scores = [np.zeros(gradient_steps) for _ in agents]\n",
        "stds = [np.zeros(gradient_steps) for _ in agents]\n",
        "\n",
        "test_runs = 5\n",
        "\n",
        "def rollout_score(env, policy):\n",
        "  _, _, rewards, _ = rollout(env, policy, N=1)\n",
        "  return np.sum(rewards)\n",
        "\n",
        "gs = list(range(gradient_steps))\n",
        "\n",
        "cmap = plt.get_cmap('viridis')\n",
        "fig, (ret_ax, loss_ax, value_ax) = plt.subplots(nrows=1, ncols=3, figsize=(18, 6))\n",
        "\n",
        "value_losses = []\n",
        "\n",
        "if not running_in_gradescope():\n",
        "    for i in range(len(agents)):\n",
        "      reinforce_policy = agents[i]\n",
        "      print(f\"Training {reinforce_policy.name}\")\n",
        "      losses = []\n",
        "      for g in tqdm(range(gradient_steps)):\n",
        "        states, actions, rewards, dones = rollout(env, reinforce_policy, N=1)\n",
        "        loss = reinforce_policy.update(states, actions, rewards, dones)\n",
        "        losses.append(loss['policy_loss'])\n",
        "        if 'value_loss' in loss.keys():\n",
        "          value_losses.append(loss['value_loss'])\n",
        "        res = [rollout_score(env, reinforce_policy) for _ in range(test_runs)]\n",
        "        scores[i][g] = np.mean(res)\n",
        "        stds[i][g] = np.std(res)\n",
        "      color = cmap(i / len(agents))\n",
        "      ret_ax.plot(gs, scores[i], label=reinforce_policy.name, color = color)\n",
        "      ret_ax.fill_between(gs, scores[i] - stds[i], scores[i] + stds[i], alpha=0.3, color=color)\n",
        "      loss_ax.plot(gs, losses, label=reinforce_policy.name, color = color)\n",
        "    ret_ax.legend()\n",
        "    ret_ax.grid(True)\n",
        "    ret_ax.margins(0)\n",
        "    ret_ax.set_title('Episode return')\n",
        "    loss_ax.legend()\n",
        "    loss_ax.grid(True)\n",
        "    loss_ax.margins(0)\n",
        "    loss_ax.set_title(\"Policy loss\")\n",
        "    value_ax.plot(gs, value_losses, color = color)\n",
        "    value_ax.grid(True)\n",
        "    value_ax.margins(0)\n",
        "    value_ax.set_title(\"Value loss\")"
      ]
    },
    {
      "cell_type": "code",
      "execution_count": null,
      "metadata": {
        "id": "_FCZApBc5lGU"
      },
      "outputs": [],
      "source": [
        "plt.close('all')"
      ]
    },
    {
      "cell_type": "markdown",
      "metadata": {
        "id": "SMYqZ2zm5lGU"
      },
      "source": [
        "### Analysis\n",
        "In your experiments, how did the use of the value function baseline affect your results? Explain the results you observed."
      ]
    },
    {
      "cell_type": "markdown",
      "metadata": {
        "id": "g6wqmjj35lGU"
      },
      "source": []
    },
    {
      "cell_type": "markdown",
      "metadata": {
        "id": "YhRgHXlL4fyH"
      },
      "source": [
        "# 4. Actor-Critic (50 pts total)\n",
        "\n",
        "Finally, we will experiment with an *actor-critic* algorithm. Recall that the gradient rule for REINFORCE with the value function baseline has the following form,\n",
        "\n",
        "$$\n",
        "\\nabla_\\theta J(\\theta) = \\sum_{k=0}^T\\mathbf{E}\\left\\{(G^{\\pi_\\theta} - V^{\\pi_\\theta}_\\phi(s_k))\\nabla_\\theta\\log\\pi_\\theta(a_k\\mid s_k)\\right\\}\n",
        "$$\n",
        "\n",
        "Note that\n",
        "\n",
        "$$\n",
        "\\mathbf{E}\\left\\{G^{\\pi_\\theta}\\mid s_0 = s\\right\\} = \\mathbf{E}_{a\\sim\\pi(\\cdot\\mid s),s'\\sim P(\\cdot\\mid s, a)}\\left\\{r(s, a) + \\gamma V^{\\pi_\\theta}(s')\\right\\}\n",
        "$$\n",
        "\n",
        "Because of this, actor-critic algorithms estimate $G^{\\pi_\\theta}$ by $r(s, a) + \\gamma V^{\\pi_\\theta}(s')$. Thus, we can compute one gradient *per environment step*, since we no longer need data from the entire trajectory to estimate $G^{\\pi_\\theta}$. The gradient rule for the policy network (actor) is\n",
        "\n",
        "$$\n",
        "\\nabla_\\theta J_{\\text{actor}}(\\theta) = \\mathbf{E}\\left\\{(r_k + \\gamma V^{\\pi_\\theta}_\\phi(s_{k+1}) - V^{\\pi_\\theta}_\\phi(s_k))\\nabla_\\theta\\log\\pi_\\theta(a_k\\mid s_k)\\right\\}\n",
        "$$\n",
        "\n",
        "for the policy parameters. The value network (critic) is trained to minimize the mean squared TD error:\n",
        "\n",
        "$$\n",
        "\\nabla_\\phi J_{\\text{critic}}(\\phi) = \\frac{1}{2}\\left(V^{\\pi_\\theta}_\\phi(s_k) - \\texttt{stop_gradient}\\left(r_k + \\gamma V^{\\pi_\\theta}_\\phi(s_{k+1})\\right)\\right)^2\n",
        "$$\n",
        "\n",
        "where $\\texttt{stop_gradient}$ enforces that no gradients flow through its argument."
      ]
    },
    {
      "cell_type": "markdown",
      "metadata": {
        "id": "G9bKXXea5lGU"
      },
      "source": [
        "## 4a: Understanding Actor-Critic (15 pts total)\n",
        "\n",
        "This question is split into three conceptual questions."
      ]
    },
    {
      "cell_type": "markdown",
      "metadata": {
        "id": "i0IDm4t_5lGV"
      },
      "source": [
        "<!-- BEGIN QUESTION -->\n",
        "\n",
        "### Part I: Bias in Actor-Critic (5 pts)\n",
        "It is said that actor-critic policy gradients are more biased than REINFORCE policy gradients. Explain what this means. Are actor-critic policy gradients more biased than REINFORCE policy gradients computed with the value function baseline?"
      ]
    },
    {
      "cell_type": "markdown",
      "metadata": {
        "id": "_PO0cujA5lGV"
      },
      "source": [
        "_Type your answer here, replacing this text._"
      ]
    },
    {
      "cell_type": "markdown",
      "metadata": {
        "id": "jxwGzxyo5lGV"
      },
      "source": [
        "<!-- END QUESTION -->\n",
        "\n",
        "<!-- BEGIN QUESTION -->\n",
        "\n",
        "### Part II: Per-Step Updates (5 pts)\n",
        "Even though actor-critic algorithms can perform one update per step, the gradients are computed based on data from only one state transition as opposed to REINFORCE gradients which are averaged over $T$ state transitions. What is the benefit of updating once per environment step?"
      ]
    },
    {
      "cell_type": "markdown",
      "metadata": {
        "id": "UAgq13NS5lGV"
      },
      "source": [
        "_Type your answer here, replacing this text._"
      ]
    },
    {
      "cell_type": "markdown",
      "metadata": {
        "id": "NNNRh6SK5lGV"
      },
      "source": [
        "<!-- END QUESTION -->\n",
        "\n",
        "<!-- BEGIN QUESTION -->\n",
        "\n",
        "### Part III: Lifelong Learning (5 pts)\n",
        "Imagine a scenario where an RL agent is to be deployed on a strange planet that we do not know how to simulate. Once we drop the robot on this planet, we can never interact with it again: it just autonomously learns from environment interactions for the rest of its life. Would you prefer to employ Actor-Critic or REINFORCE with baseline for this problem? Why?"
      ]
    },
    {
      "cell_type": "markdown",
      "metadata": {
        "id": "j6s_rnin5lGV"
      },
      "source": [
        "_Type your answer here, replacing this text._"
      ]
    },
    {
      "cell_type": "markdown",
      "metadata": {
        "id": "vBYhN3uU9CDk"
      },
      "source": [
        "<!-- END QUESTION -->\n",
        "\n",
        "<!-- BEGIN QUESTION -->\n",
        "\n",
        "## 4b: Implementing Actor-Critic (20 pts)\n",
        "Fill out the `ActorCriticPolicy` class below, according to the guidelines in the code. The `policy_init_network` and `value_init_network` methods will be used to instantiate the neural nets for the actor-critic, however they are trained differently in the actor-critic algorithm.\n",
        "\n",
        "Rather than implementing an `update` method for actor-critic, we will implement a method `train_episode` which rolls out an episode, performing updates at each step. More precisely, `train_episode` should do the following:\n",
        "\n",
        "1. Reset the environment to a starting state\n",
        "1. For each environment step:\n",
        "    1. Choose an action\n",
        "    1. Perform an environment step with the chosen action, observing the next state, reward, and terminal signal\n",
        "    1. Update both the actor and critic networks based on this transition\n",
        "1. Return a dictionary with the same entries as `REINFORCEWithBaselinePolicy`'s `update` method."
      ]
    },
    {
      "cell_type": "code",
      "execution_count": null,
      "metadata": {
        "id": "ObWy7-gv9BRf",
        "tags": []
      },
      "outputs": [],
      "source": [
        "class ActorCriticPolicy(Policy):\n",
        "  def __init__(self,\n",
        "               env: gym.Env,\n",
        "               policy_network: nn.Module,\n",
        "               value_network: nn.Module,\n",
        "               discount=0.99,\n",
        "               name=\"Actor-Critic\"):\n",
        "    super().__init__(env, policy_network, discount=discount, name=name)\n",
        "    # Your code here\n",
        "    # Initialize self.value_network and self.value_opt like before\n",
        "    # ===========================================================\n",
        "    ...\n",
        "    # ===========================================================\n",
        "  \n",
        "  \"\"\"\n",
        "  Run a training episode\n",
        "  Inputs:\n",
        "    states, actions, rewards, dones: Output from rollout method\n",
        "  Returns:\n",
        "    Dictionary with the following keys:\n",
        "    - \"policy_loss\": float of the policy gradient loss (the quantity whose gradient is taken),\n",
        "                     averaged over the episode\n",
        "    - \"value_loss\": float of the squared TD error averaged over the episode\n",
        "  \"\"\"  \n",
        "  def train_episode(self) -> float:\n",
        "    loss_dict = {}\n",
        "    # Your code here\n",
        "    # ======================\n",
        "    ...\n",
        "    # ======================\n",
        "    return loss_dict"
      ]
    },
    {
      "cell_type": "code",
      "execution_count": null,
      "metadata": {
        "deletable": false,
        "editable": false,
        "id": "hhn6kdPJ5lGW"
      },
      "outputs": [],
      "source": [
        "grader.check(\"question 4b\")"
      ]
    },
    {
      "cell_type": "markdown",
      "metadata": {
        "id": "8U41kVqmBKHC"
      },
      "source": [
        "<!-- END QUESTION -->\n",
        "\n",
        "## 4c: Experiments (15 pts)\n",
        "\n",
        "In the following experiments, we test the following agents:\n",
        "\n",
        "- REINFORCE with one trajectory per gradient update\n",
        "- REINFORCE with the value function baseline, one trajectory per gradient update\n",
        "- Actor-Critic\n",
        "\n",
        "Each agent is trained for 400 episodes, and the experiment is repeated 6 times with different random seeds. The plot displays the mean and variance of the return across the seeds for each agent."
      ]
    },
    {
      "cell_type": "code",
      "execution_count": null,
      "metadata": {
        "id": "Romu-oLn5lGW"
      },
      "outputs": [],
      "source": [
        "import itertools\n",
        "SEEDS = [4, 8, 15, 16, 23, 42]\n",
        "\n",
        "episodes = 400\n",
        "eval_runs = 5\n",
        "eval_every = 5\n",
        "epochs = list(range(0, episodes, eval_every))\n",
        "\n",
        "cmap = plt.get_cmap('viridis')\n",
        "plt.grid(True)\n",
        "plt.margins(0)\n",
        "plt.xlabel(\"Episode\")\n",
        "plt.ylabel(\"Return\")\n",
        "\n",
        "pg_constructor = lambda: REINFORCEPolicy(env, policy_init_network(env))\n",
        "pg_baseline_constructor = lambda: REINFORCEWithBaselinePolicy(env, policy_init_network(env), value_init_network(env))\n",
        "\n",
        "ac_agent_constructor = lambda: ActorCriticPolicy(env, policy_init_network(env), value_init_network(env))\n",
        "\n",
        "if not running_in_gradescope():\n",
        "    ### ACTOR CRITIC\n",
        "    ac_agents = {}\n",
        "    ac_score_traces = {}\n",
        "    print(f\"Training Actor-Critic\")\n",
        "    for (seed, ep) in tqdm(itertools.product(SEEDS, np.arange(episodes))):\n",
        "        if seed not in ac_agents.keys():\n",
        "            np.random.seed(seed)\n",
        "            torch.manual_seed(seed)\n",
        "            ac_agents[seed] = ac_agent_constructor()\n",
        "            ac_score_traces[seed] = []\n",
        "            ac_agents[seed].env.seed(seed)\n",
        "        agent = ac_agents[seed]\n",
        "        loss = agent.train_episode()\n",
        "        if (ep + 1) % eval_every == 0:\n",
        "            res = [rollout_score(env, agent) for _ in range(eval_runs)]\n",
        "            ac_score_traces[seed].append(np.mean(res))\n",
        "\n",
        "    ac_data = np.vstack([ac_score_traces[seed] for seed in SEEDS])\n",
        "    ac_score_mean = np.mean(ac_data, axis=0)\n",
        "    ac_score_std = np.std(ac_data, axis=0)\n",
        "\n",
        "    plt.plot(epochs, ac_score_mean, color=cmap(0.8), label='Actor Critic')\n",
        "    plt.fill_between(\n",
        "        epochs,\n",
        "        ac_score_mean - ac_score_std,\n",
        "        ac_score_mean + ac_score_std,\n",
        "        color=cmap(0.8),\n",
        "        alpha=0.3\n",
        "    )\n",
        "\n",
        "    ### REINFORCE WITH BASELINE\n",
        "    pg_baseline_agents = {}\n",
        "    pg_baseline_score_traces = {}\n",
        "    print(f\"Training REINFORCE with Baseline\")\n",
        "    for (seed, ep) in tqdm(itertools.product(SEEDS, np.arange(episodes))):\n",
        "        if seed not in pg_baseline_agents.keys():\n",
        "            np.random.seed(seed)\n",
        "            torch.manual_seed(seed)\n",
        "            pg_baseline_agents[seed] = pg_baseline_constructor()\n",
        "            pg_baseline_score_traces[seed] = []\n",
        "            env.seed(seed)\n",
        "        agent = pg_baseline_agents[seed]\n",
        "        states, actions, rewards, dones = rollout(env, agent, N=1)\n",
        "        loss = agent.update(states, actions, rewards, dones)\n",
        "        if (ep + 1) % eval_every == 0:\n",
        "            res = [rollout_score(env, agent) for _ in range(eval_runs)]\n",
        "            pg_baseline_score_traces[seed].append(np.mean(res))\n",
        "\n",
        "    pg_baseline_data = np.vstack([pg_baseline_score_traces[seed] for seed in SEEDS])\n",
        "    pg_baseline_score_mean = np.mean(pg_baseline_data, axis=0)\n",
        "    pg_baseline_score_std = np.std(pg_baseline_data, axis=0)\n",
        "\n",
        "    plt.plot(epochs, pg_baseline_score_mean, color=cmap(0.5), label='REINFORCE with Baseline')\n",
        "    plt.fill_between(\n",
        "        epochs,\n",
        "        pg_baseline_score_mean - pg_baseline_score_std,\n",
        "        pg_baseline_score_mean + pg_baseline_score_std,\n",
        "        color=cmap(0.5),\n",
        "        alpha=0.3\n",
        "    )\n",
        "\n",
        "    ### REINFORCE\n",
        "    pg_agents = {}\n",
        "    pg_score_traces = {}\n",
        "    print(f\"Training REINFORCE with Baseline\")\n",
        "    for (seed, ep) in tqdm(itertools.product(SEEDS, np.arange(episodes))):\n",
        "        if seed not in pg_agents.keys():\n",
        "            np.random.seed(seed)\n",
        "            torch.manual_seed(seed)\n",
        "            pg_agents[seed] = pg_constructor()\n",
        "            pg_score_traces[seed] = []\n",
        "            env.seed(seed)\n",
        "        agent = pg_agents[seed]\n",
        "        states, actions, rewards, dones = rollout(env, agent, N=1)\n",
        "        loss = agent.update(states, actions, rewards, dones)\n",
        "        if (ep + 1) % eval_every == 0:\n",
        "            res = [rollout_score(env, agent) for _ in range(eval_runs)]\n",
        "            pg_score_traces[seed].append(np.mean(res))\n",
        "\n",
        "    pg_data = np.vstack([pg_score_traces[seed] for seed in SEEDS])\n",
        "    pg_score_mean = np.mean(pg_data, axis=0)\n",
        "    pg_score_std = np.std(pg_data, axis=0)\n",
        "\n",
        "    plt.plot(epochs, pg_score_mean, color=cmap(0.2), label='REINFORCE')\n",
        "    plt.fill_between(\n",
        "        epochs,\n",
        "        pg_score_mean - pg_score_std,\n",
        "        pg_score_mean + pg_score_std,\n",
        "        color=cmap(0.2),\n",
        "        alpha=0.3\n",
        "    )\n",
        "\n",
        "    plt.legend()"
      ]
    },
    {
      "cell_type": "code",
      "execution_count": null,
      "metadata": {
        "id": "aLcOz4Ev5lGX"
      },
      "outputs": [],
      "source": [
        "plt.close('all')"
      ]
    },
    {
      "cell_type": "markdown",
      "metadata": {
        "id": "fFr5o7F95lGX"
      },
      "source": [
        "### Analysis\n",
        "Based on your experiments, does actor-critic perform favorably to REINFORCE (with and/or without baseline)? Explain your observations. "
      ]
    },
    {
      "cell_type": "markdown",
      "metadata": {
        "id": "3IePamD45lGX"
      },
      "source": []
    }
  ],
  "metadata": {
    "colab": {
      "provenance": [],
      "toc_visible": true,
      "include_colab_link": true
    },
    "kernelspec": {
      "display_name": "Python 3 (ipykernel)",
      "language": "python",
      "name": "python3"
    },
    "language_info": {
      "codemirror_mode": {
        "name": "ipython",
        "version": 3
      },
      "file_extension": ".py",
      "mimetype": "text/x-python",
      "name": "python",
      "nbconvert_exporter": "python",
      "pygments_lexer": "ipython3",
      "version": "3.10.6"
    },
    "otter": {
      "OK_FORMAT": true,
      "tests": {
        "question 1a": {
          "name": "question 1a",
          "points": 5,
          "suites": [
            {
              "cases": [
                {
                  "code": ">>> test_env = gym.make('CartPole-v0')\n>>> test_output = policy_init_network(test_env)\n>>> test_state = torch.tensor([-0.04, 0.02, -0.04, 0.02])\n>>> test_out = test_output(test_state)\n>>> np.testing.assert_allclose(test_out.shape[0], 2)\n>>> np.testing.assert_allclose(test_out.detach().numpy().sum(), 1.0, rtol=1e-5, atol=0)\n",
                  "hidden": false,
                  "locked": false
                }
              ],
              "scored": true,
              "setup": "",
              "teardown": "",
              "type": "doctest"
            }
          ]
        },
        "question 1b": {
          "name": "question 1b",
          "points": [
            5,
            5
          ],
          "suites": [
            {
              "cases": [
                {
                  "code": ">>> test_state = env.reset()\n>>> assert_equal = functools.partial(torch.testing.assert_close, rtol=0, atol=0)\n>>> test_policy = Policy(env, policy_init_network(env), 0.99)\n>>> assert_equal(isinstance(test_policy.opt, torch.optim.Optimizer), True)\n",
                  "hidden": false,
                  "locked": false
                },
                {
                  "code": ">>> test_state = env.reset()\n>>> test_policy = Policy(env, policy_init_network(env), 0.99)\n>>> assert_equal = functools.partial(torch.testing.assert_close, rtol=0, atol=0)\n>>> assert_equal(isinstance(test_policy.dist(test_state).param_shape, torch.Size), True)\n>>> assert_equal(test_policy.dist(test_state).param_shape, torch.Size([1,2]))\n",
                  "hidden": false,
                  "locked": false
                }
              ],
              "scored": true,
              "setup": "",
              "teardown": "",
              "type": "doctest"
            }
          ]
        },
        "question 1c": {
          "name": "question 1c",
          "points": [
            3,
            3
          ],
          "suites": [
            {
              "cases": [
                {
                  "code": ">>> assert_equal = functools.partial(torch.testing.assert_close, rtol=0, atol=0)\n>>> test_env = gym.make('CartPole-v0')\n>>> test_policy = Policy(test_env, policy_init_network(test_env), 0.99)\n>>> num_rollouts = 3\n>>> test_s, test_a, test_r, test_d = rollout(test_env, test_policy, num_rollouts)\n>>> test_len_rollout = test_s.shape[0]\n>>> assert_equal(isinstance(test_s, np.ndarray), True)\n>>> assert_equal(isinstance(test_a, np.ndarray), True)\n>>> assert_equal(isinstance(test_r, np.ndarray), True)\n>>> assert_equal(isinstance(test_d, np.ndarray), True)\n",
                  "hidden": false,
                  "locked": false
                },
                {
                  "code": ">>> assert_equal = functools.partial(torch.testing.assert_close, rtol=0, atol=0)\n>>> test_env = gym.make('CartPole-v0')\n>>> test_policy = Policy(test_env, policy_init_network(test_env), 0.99)\n>>> num_rollouts = 3\n>>> test_s, test_a, test_r, test_d = rollout(test_env, test_policy, num_rollouts)\n>>> test_len_rollout = test_s.shape[0]\n>>> assert_equal(test_s.shape, (test_len_rollout, 4))\n>>> assert_equal(test_a.shape, (test_len_rollout,))\n>>> assert_equal(test_r.shape, (test_len_rollout,))\n>>> assert_equal(test_d.shape, (test_len_rollout,))\n",
                  "hidden": false,
                  "locked": false
                }
              ],
              "scored": true,
              "setup": "",
              "teardown": "",
              "type": "doctest"
            }
          ]
        },
        "question 2a.3": {
          "name": "question 2a.3",
          "points": [
            2,
            2,
            2
          ],
          "suites": [
            {
              "cases": [
                {
                  "code": ">>> test_len_rollout = 5\n>>> test_d = np.array([True for _ in range(test_len_rollout)])\n>>> test_r = np.ones(test_len_rollout)\n>>> assert_equal = functools.partial(torch.testing.assert_close, rtol=0, atol=0)\n>>> test_ret = discounted_returns(test_r, test_d, 0.99)\n>>> assert_equal(test_ret.shape[0], test_len_rollout)\n",
                  "hidden": false,
                  "locked": false
                },
                {
                  "code": ">>> assert_equal = functools.partial(torch.testing.assert_close, rtol=1e-5, atol=0)\n>>> test_rewards = [1.0,2.0,3.0,4.0,2.0,1.0]\n>>> test_dones = [False, False, True, False, False, True]\n>>> test_return = discounted_returns(test_rewards, test_dones, 0.5)\n>>> actual_return = np.array([2.75, 3.5, 3.0, 5.25, 2.5, 1.0])\n>>> assert_equal(test_return, actual_return)\n",
                  "hidden": false,
                  "locked": false
                },
                {
                  "code": ">>> assert_equal = functools.partial(torch.testing.assert_close, rtol=1e-5, atol=0)\n>>> test_rewards = [1.0,2.0,3.0,4.0,2.0,1.0]\n>>> test_dones = [False, False, True, False, False, True]\n>>> test_return_perpetuity = discounted_returns(test_rewards, test_dones, 0.5, perpetuity=True)\n>>> actual_return_perpetuity = np.array([3.5, 5., 6., 5.5, 3., 2.])\n>>> assert_equal(test_return_perpetuity, actual_return_perpetuity)\n",
                  "hidden": false,
                  "locked": false
                }
              ],
              "scored": true,
              "setup": "",
              "teardown": "",
              "type": "doctest"
            }
          ]
        },
        "question 2b": {
          "name": "question 2b",
          "points": 2,
          "suites": [
            {
              "cases": [
                {
                  "code": ">>> test_env = gym.make('CartPole-v0')\n>>> assert_equal = functools.partial(torch.testing.assert_close, rtol=0, atol=0)\n>>> test_reinforce = REINFORCEPolicy(test_env, policy_init_network(test_env), 0.99)\n>>> test_states, test_actions, test_rewards, test_dones = rollout(test_env, test_reinforce, 2)\n>>> loss = test_reinforce.update(test_states, test_actions, test_rewards, test_dones)\n>>> assert_equal(isinstance(loss,dict), True)\n>>> assert_equal('policy_loss' in loss, True)\n>>> assert_equal(isinstance(loss['policy_loss'], float), True)\n",
                  "hidden": false,
                  "locked": false
                }
              ],
              "scored": true,
              "setup": "",
              "teardown": "",
              "type": "doctest"
            }
          ]
        },
        "question 3b": {
          "name": "question 3b",
          "points": 3,
          "suites": [
            {
              "cases": [
                {
                  "code": ">>> test_env = gym.make('CartPole-v0')\n>>> test_state = test_env.reset()\n>>> test_value_net = value_init_network(test_env)\n>>> test_value = test_value_net(torch.FloatTensor(test_state))\n>>> np.testing.assert_allclose(test_value.shape[0], 1)\n",
                  "hidden": false,
                  "locked": false
                }
              ],
              "scored": true,
              "setup": "",
              "teardown": "",
              "type": "doctest"
            }
          ]
        },
        "question 3c": {
          "name": "question 3c",
          "points": [
            1,
            1,
            1
          ],
          "suites": [
            {
              "cases": [
                {
                  "code": ">>> assert_equal = functools.partial(torch.testing.assert_close, rtol=0, atol=0)\n>>> test_env = gym.make('CartPole-v0')\n>>> test_value_net = value_init_network(test_env)\n>>> test_state = torch.tensor([-0.04, 0.02, -0.04, 0.02])\n>>> test_reinforce_baseline = REINFORCEWithBaselinePolicy(test_env, policy_init_network(test_env), test_value_net,0.99)\n>>> assert_equal(isinstance(test_reinforce_baseline.value_opt, torch.optim.Optimizer), True)\n",
                  "hidden": false,
                  "locked": false
                },
                {
                  "code": ">>> assert_equal = functools.partial(torch.testing.assert_close, rtol=0, atol=0)\n>>> test_env = gym.make('CartPole-v0')\n>>> test_value_net = value_init_network(test_env)\n>>> test_state = torch.tensor([-0.04, 0.02, -0.04, 0.02])\n>>> test_reinforce_baseline = REINFORCEWithBaselinePolicy(test_env, policy_init_network(test_env), test_value_net,0.99)\n>>> test_states, test_actions, test_rewards, test_dones = rollout(test_env, test_reinforce_baseline, 2)\n>>> loss = test_reinforce_baseline.update(test_states, test_actions, test_rewards, test_dones)\n>>> assert_equal(isinstance(loss,dict), True)\n>>> assert_equal('policy_loss' in loss, True)\n",
                  "hidden": false,
                  "locked": false
                },
                {
                  "code": ">>> assert_equal = functools.partial(torch.testing.assert_close, rtol=0, atol=0)\n>>> test_env = gym.make('CartPole-v0')\n>>> test_value_net = value_init_network(test_env)\n>>> test_state = torch.tensor([-0.04, 0.02, -0.04, 0.02])\n>>> test_reinforce_baseline = REINFORCEWithBaselinePolicy(test_env, policy_init_network(test_env), test_value_net,0.99)\n>>> test_states, test_actions, test_rewards, test_dones = rollout(test_env, test_reinforce_baseline, 2)\n>>> loss = test_reinforce_baseline.update(test_states, test_actions, test_rewards, test_dones)\n>>> assert_equal('value_loss' in loss, True)\n",
                  "hidden": false,
                  "locked": false
                }
              ],
              "scored": true,
              "setup": "",
              "teardown": "",
              "type": "doctest"
            }
          ]
        },
        "question 4b": {
          "name": "question 4b",
          "points": [
            2,
            3
          ],
          "suites": [
            {
              "cases": [
                {
                  "code": ">>> assert_equal = functools.partial(torch.testing.assert_close, rtol=0, atol=0)\n>>> test_env = gym.make('CartPole-v0')\n>>> test_value_net = value_init_network(test_env)\n>>> test_actor_critic = ActorCriticPolicy(test_env, policy_init_network(test_env), test_value_net,0.99)\n>>> loss = test_actor_critic.train_episode()\n",
                  "hidden": false,
                  "locked": false
                },
                {
                  "code": ">>> assert_equal = functools.partial(torch.testing.assert_close, rtol=0, atol=0)\n>>> test_env = gym.make('CartPole-v0')\n>>> test_value_net = value_init_network(test_env)\n>>> test_actor_critic = ActorCriticPolicy(test_env, policy_init_network(test_env), test_value_net,0.99)\n>>> loss = test_actor_critic.train_episode()\n>>> assert_equal(isinstance(loss,dict), True)\n>>> assert_equal('policy_loss' in loss, True)\n>>> assert_equal('value_loss' in loss, True)\n",
                  "hidden": false,
                  "locked": false
                }
              ],
              "scored": true,
              "setup": "",
              "teardown": "",
              "type": "doctest"
            }
          ]
        }
      }
    }
  },
  "nbformat": 4,
  "nbformat_minor": 0
}